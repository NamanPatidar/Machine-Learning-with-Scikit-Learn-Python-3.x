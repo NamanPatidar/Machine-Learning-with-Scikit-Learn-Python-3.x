{
  "cells": [
    {
      "cell_type": "markdown",
      "source": [
        "<h1 align=center>SMS spam detection with various classifiers</h1>"
      ],
      "metadata": {}
    },
    {
      "cell_type": "code",
      "source": [
        "import numpy as np\n",
        "import pandas as pd\n",
        "import matplotlib as mpl\n",
        "import matplotlib.pyplot as plt\n",
        "import seaborn as sns\n",
        "import string\n",
        "from sklearn.feature_extraction.text import TfidfVectorizer\n",
        "\n",
        "from sklearn.model_selection import train_test_split\n",
        "from nltk.stem import SnowballStemmer\n",
        "from nltk.corpus import stopwords\n",
        "%matplotlib inline\n",
        "import pandas_profiling"
      ],
      "outputs": [],
      "execution_count": null,
      "metadata": {
        "execution": {
          "iopub.status.busy": "2020-07-28T04:02:02.052Z",
          "iopub.execute_input": "2020-07-28T04:02:02.067Z",
          "shell.execute_reply": "2020-07-28T04:02:58.261Z",
          "iopub.status.idle": "2020-07-28T04:02:58.285Z"
        }
      }
    },
    {
      "cell_type": "code",
      "source": [
        "sms = pd.read_csv('input_Data/spam.csv', encoding='latin-1')\n",
        "sms.head()"
      ],
      "outputs": [],
      "execution_count": null,
      "metadata": {
        "execution": {
          "iopub.status.busy": "2020-07-28T04:02:58.309Z",
          "iopub.execute_input": "2020-07-28T04:02:58.321Z",
          "iopub.status.idle": "2020-07-28T04:02:58.405Z",
          "shell.execute_reply": "2020-07-28T04:02:58.860Z"
        }
      }
    },
    {
      "cell_type": "code",
      "source": [
        "sms = sms.drop(['Unnamed: 2','Unnamed: 3','Unnamed: 4'], axis= 1)\n",
        "sms = sms.rename(columns = {'v1':'Label','v2':'Message'})"
      ],
      "outputs": [],
      "execution_count": null,
      "metadata": {
        "execution": {
          "shell.execute_reply": "2020-07-28T04:02:58.872Z",
          "iopub.status.busy": "2020-07-28T04:02:58.442Z",
          "iopub.execute_input": "2020-07-28T04:02:58.466Z",
          "iopub.status.idle": "2020-07-28T04:02:58.494Z"
        }
      }
    },
    {
      "cell_type": "code",
      "source": [
        "sms.head()"
      ],
      "outputs": [],
      "execution_count": null,
      "metadata": {
        "execution": {
          "iopub.status.busy": "2020-07-28T04:02:58.516Z",
          "iopub.execute_input": "2020-07-28T04:02:58.528Z",
          "iopub.status.idle": "2020-07-28T04:02:58.553Z",
          "shell.execute_reply": "2020-07-28T04:02:58.881Z"
        }
      }
    },
    {
      "cell_type": "code",
      "source": [
        "sms.tail()"
      ],
      "outputs": [],
      "execution_count": null,
      "metadata": {
        "execution": {
          "iopub.status.busy": "2020-07-28T04:02:58.573Z",
          "iopub.execute_input": "2020-07-28T04:02:58.585Z",
          "iopub.status.idle": "2020-07-28T04:02:58.612Z",
          "shell.execute_reply": "2020-07-28T04:02:58.889Z"
        }
      }
    },
    {
      "cell_type": "code",
      "source": [
        "sms.shape"
      ],
      "outputs": [],
      "execution_count": null,
      "metadata": {
        "execution": {
          "iopub.status.busy": "2020-07-28T04:02:58.642Z",
          "iopub.execute_input": "2020-07-28T04:02:58.665Z",
          "iopub.status.idle": "2020-07-28T04:02:58.694Z",
          "shell.execute_reply": "2020-07-28T04:02:58.899Z"
        }
      }
    },
    {
      "cell_type": "code",
      "source": [
        "sms.info()"
      ],
      "outputs": [],
      "execution_count": null,
      "metadata": {
        "execution": {
          "iopub.status.busy": "2020-07-28T04:02:58.720Z",
          "iopub.execute_input": "2020-07-28T04:02:58.744Z",
          "iopub.status.idle": "2020-07-28T04:02:58.771Z",
          "shell.execute_reply": "2020-07-28T04:02:58.906Z"
        }
      }
    },
    {
      "cell_type": "code",
      "source": [
        "sms.describe()"
      ],
      "outputs": [],
      "execution_count": null,
      "metadata": {
        "execution": {
          "iopub.status.busy": "2020-07-28T04:02:58.788Z",
          "iopub.execute_input": "2020-07-28T04:02:58.799Z",
          "iopub.status.idle": "2020-07-28T04:02:58.935Z",
          "shell.execute_reply": "2020-07-28T04:02:58.997Z"
        }
      }
    },
    {
      "cell_type": "code",
      "source": [
        "pandas_profiling.ProfileReport(sms)"
      ],
      "outputs": [],
      "execution_count": null,
      "metadata": {
        "execution": {
          "iopub.status.busy": "2020-07-28T04:02:58.953Z",
          "iopub.execute_input": "2020-07-28T04:02:58.963Z",
          "iopub.status.idle": "2020-07-28T04:03:04.448Z",
          "shell.execute_reply": "2020-07-28T04:03:04.840Z"
        }
      }
    },
    {
      "cell_type": "code",
      "source": [
        "sms.columns"
      ],
      "outputs": [],
      "execution_count": null,
      "metadata": {
        "execution": {
          "iopub.status.busy": "2020-07-28T04:03:04.471Z",
          "iopub.execute_input": "2020-07-28T04:03:04.484Z",
          "iopub.status.idle": "2020-07-28T04:03:04.531Z",
          "shell.execute_reply": "2020-07-28T04:03:04.847Z"
        }
      }
    },
    {
      "cell_type": "code",
      "source": [
        "sms.index"
      ],
      "outputs": [],
      "execution_count": null,
      "metadata": {
        "execution": {
          "iopub.status.busy": "2020-07-28T04:03:04.556Z",
          "iopub.execute_input": "2020-07-28T04:03:04.568Z",
          "iopub.status.idle": "2020-07-28T04:03:04.595Z",
          "shell.execute_reply": "2020-07-28T04:03:04.853Z"
        }
      }
    },
    {
      "cell_type": "code",
      "source": [
        "sms.groupby('Label').describe()"
      ],
      "outputs": [],
      "execution_count": null,
      "metadata": {
        "execution": {
          "iopub.status.busy": "2020-07-28T04:03:04.619Z",
          "iopub.execute_input": "2020-07-28T04:03:04.635Z",
          "iopub.status.idle": "2020-07-28T04:03:04.665Z",
          "shell.execute_reply": "2020-07-28T04:03:04.861Z"
        }
      }
    },
    {
      "cell_type": "code",
      "source": [
        "sms['length'] = sms['Message'].apply(len)\n",
        "sms.head()"
      ],
      "outputs": [],
      "execution_count": null,
      "metadata": {
        "execution": {
          "iopub.status.busy": "2020-07-28T04:03:04.685Z",
          "iopub.execute_input": "2020-07-28T04:03:04.699Z",
          "iopub.status.idle": "2020-07-28T04:03:04.754Z",
          "shell.execute_reply": "2020-07-28T04:03:04.867Z"
        }
      }
    },
    {
      "cell_type": "code",
      "source": [
        "mpl.rcParams['patch.force_edgecolor'] = True\n",
        "plt.style.use('seaborn')\n",
        "sms.hist(column='length', by='Label', bins=100,figsize=(16,8))"
      ],
      "outputs": [],
      "execution_count": null,
      "metadata": {
        "execution": {
          "iopub.status.busy": "2020-07-28T04:03:04.779Z",
          "iopub.execute_input": "2020-07-28T04:03:04.792Z",
          "iopub.status.idle": "2020-07-28T04:03:05.652Z",
          "shell.execute_reply": "2020-07-28T04:03:05.842Z"
        }
      }
    },
    {
      "cell_type": "code",
      "source": [
        "text_feat = sms['Message'].copy()\n",
        "text_feat.head()"
      ],
      "outputs": [],
      "execution_count": null,
      "metadata": {
        "execution": {
          "iopub.status.busy": "2020-07-28T04:03:05.672Z",
          "iopub.execute_input": "2020-07-28T04:03:05.686Z",
          "iopub.status.idle": "2020-07-28T04:03:05.720Z",
          "shell.execute_reply": "2020-07-28T04:03:05.848Z"
        }
      }
    },
    {
      "cell_type": "code",
      "source": [
        "def text_process(text):\n",
        "    \n",
        "    text = text.translate(str.maketrans('', '', string.punctuation))\n",
        "    text = [word for word in text.split() if word.lower() not in stopwords.words('english')]\n",
        "    \n",
        "    return \" \".join(text)"
      ],
      "outputs": [],
      "execution_count": null,
      "metadata": {
        "execution": {
          "iopub.status.busy": "2020-07-28T04:03:05.760Z",
          "iopub.execute_input": "2020-07-28T04:03:05.776Z",
          "iopub.status.idle": "2020-07-28T04:03:05.796Z",
          "shell.execute_reply": "2020-07-28T04:03:05.859Z"
        }
      }
    },
    {
      "cell_type": "code",
      "source": [
        "text_feat = text_feat.apply(text_process)\n",
        "text_feat.head()"
      ],
      "outputs": [],
      "execution_count": null,
      "metadata": {
        "execution": {
          "iopub.status.busy": "2020-07-28T04:03:05.815Z",
          "iopub.execute_input": "2020-07-28T04:03:05.827Z",
          "iopub.status.idle": "2020-07-28T04:03:27.427Z",
          "shell.execute_reply": "2020-07-28T04:03:27.494Z"
        }
      }
    },
    {
      "cell_type": "code",
      "source": [
        "vectorizer = TfidfVectorizer(\"english\")\n",
        "vectorizer"
      ],
      "outputs": [],
      "execution_count": null,
      "metadata": {
        "execution": {
          "shell.execute_reply": "2020-07-28T04:03:27.505Z",
          "iopub.status.busy": "2020-07-28T04:03:27.446Z",
          "iopub.execute_input": "2020-07-28T04:03:27.460Z",
          "iopub.status.idle": "2020-07-28T04:03:27.543Z"
        }
      }
    },
    {
      "cell_type": "code",
      "source": [
        "features = vectorizer.fit_transform(text_feat)\n",
        "features"
      ],
      "outputs": [],
      "execution_count": null,
      "metadata": {
        "execution": {
          "iopub.status.busy": "2020-07-28T04:03:27.568Z",
          "iopub.execute_input": "2020-07-28T04:03:27.590Z",
          "iopub.status.idle": "2020-07-28T04:03:27.664Z",
          "shell.execute_reply": "2020-07-28T04:03:27.912Z"
        }
      }
    },
    {
      "cell_type": "markdown",
      "source": [
        "### Classifiers and predictions\n",
        "First of all let's split our features to test and train set"
      ],
      "metadata": {}
    },
    {
      "cell_type": "code",
      "source": [
        "features_train, features_test, labels_train, labels_test = train_test_split(features, sms['Label'], test_size=0.3)"
      ],
      "outputs": [],
      "execution_count": null,
      "metadata": {
        "execution": {
          "iopub.status.busy": "2020-07-28T04:03:27.684Z",
          "iopub.execute_input": "2020-07-28T04:03:27.696Z",
          "iopub.status.idle": "2020-07-28T04:03:27.714Z",
          "shell.execute_reply": "2020-07-28T04:03:27.922Z"
        }
      }
    },
    {
      "cell_type": "code",
      "source": [
        "features_test.shape"
      ],
      "outputs": [],
      "execution_count": null,
      "metadata": {
        "execution": {
          "iopub.status.busy": "2020-07-28T04:03:27.733Z",
          "iopub.execute_input": "2020-07-28T04:03:27.748Z",
          "iopub.status.idle": "2020-07-28T04:03:27.777Z",
          "shell.execute_reply": "2020-07-28T04:03:27.928Z"
        }
      }
    },
    {
      "cell_type": "code",
      "source": [
        "features_train.shape"
      ],
      "outputs": [],
      "execution_count": null,
      "metadata": {
        "execution": {
          "iopub.status.busy": "2020-07-28T04:03:27.807Z",
          "iopub.execute_input": "2020-07-28T04:03:27.828Z",
          "iopub.status.idle": "2020-07-28T04:03:27.854Z",
          "shell.execute_reply": "2020-07-28T04:03:27.935Z"
        }
      }
    },
    {
      "cell_type": "code",
      "source": [
        "labels_train.shape"
      ],
      "outputs": [],
      "execution_count": null,
      "metadata": {
        "execution": {
          "iopub.status.busy": "2020-07-28T04:03:27.872Z",
          "iopub.execute_input": "2020-07-28T04:03:27.884Z",
          "iopub.status.idle": "2020-07-28T04:03:28.046Z",
          "shell.execute_reply": "2020-07-28T04:03:28.275Z"
        }
      }
    },
    {
      "cell_type": "code",
      "source": [
        "labels_test.shape"
      ],
      "outputs": [],
      "execution_count": null,
      "metadata": {
        "execution": {
          "iopub.status.busy": "2020-07-28T04:03:28.073Z",
          "iopub.execute_input": "2020-07-28T04:03:28.088Z",
          "iopub.status.idle": "2020-07-28T04:03:28.136Z",
          "shell.execute_reply": "2020-07-28T04:03:28.285Z"
        }
      }
    },
    {
      "cell_type": "code",
      "source": [
        "from sklearn.linear_model import LogisticRegression\n",
        "from sklearn.svm import SVC\n",
        "from sklearn.naive_bayes import MultinomialNB\n",
        "from sklearn.tree import DecisionTreeClassifier\n",
        "from sklearn.neighbors import KNeighborsClassifier\n",
        "from sklearn.ensemble import RandomForestClassifier\n",
        "from sklearn.ensemble import AdaBoostClassifier\n",
        "from sklearn.ensemble import BaggingClassifier\n",
        "from sklearn.ensemble import ExtraTreesClassifier\n",
        "from sklearn.metrics import accuracy_score"
      ],
      "outputs": [],
      "execution_count": null,
      "metadata": {
        "execution": {
          "iopub.status.busy": "2020-07-28T04:03:28.203Z",
          "iopub.execute_input": "2020-07-28T04:03:28.239Z",
          "shell.execute_reply": "2020-07-28T04:03:31.891Z",
          "iopub.status.idle": "2020-07-28T04:03:31.930Z"
        }
      }
    },
    {
      "cell_type": "code",
      "source": [
        "svc = SVC(kernel='sigmoid', gamma=1.0)\n",
        "knc = KNeighborsClassifier(n_neighbors=49)\n",
        "mnb = MultinomialNB(alpha=0.2)\n",
        "dtc = DecisionTreeClassifier(min_samples_split=7, random_state=111)\n",
        "lrc = LogisticRegression(solver='liblinear', penalty='l1')\n",
        "rfc = RandomForestClassifier(n_estimators=31, random_state=111)\n",
        "abc = AdaBoostClassifier(n_estimators=62, random_state=111)\n",
        "bc = BaggingClassifier(n_estimators=9, random_state=111)\n",
        "etc = ExtraTreesClassifier(n_estimators=9, random_state=111)"
      ],
      "outputs": [],
      "execution_count": null,
      "metadata": {
        "execution": {
          "iopub.status.busy": "2020-07-28T04:03:31.948Z",
          "iopub.execute_input": "2020-07-28T04:03:31.960Z",
          "iopub.status.idle": "2020-07-28T04:03:31.974Z",
          "shell.execute_reply": "2020-07-28T04:03:31.901Z"
        }
      }
    },
    {
      "cell_type": "code",
      "source": [
        "clfs = {'SVC' : svc,\n",
        "        'KNN' : knc, \n",
        "        'NB': mnb, \n",
        "        'DT': dtc, \n",
        "        'LR': lrc, \n",
        "        'RF': rfc, \n",
        "        'AdaBoost': abc, \n",
        "        'BgC': bc, \n",
        "        'ETC': etc}"
      ],
      "outputs": [],
      "execution_count": null,
      "metadata": {
        "execution": {
          "iopub.status.busy": "2020-07-28T04:03:31.994Z",
          "iopub.execute_input": "2020-07-28T04:03:32.018Z",
          "iopub.status.idle": "2020-07-28T04:03:32.051Z",
          "shell.execute_reply": "2020-07-28T04:03:32.270Z"
        }
      }
    },
    {
      "cell_type": "code",
      "source": [
        "def train_classifier(clf, feature_train, labels_train):    \n",
        "    clf.fit(feature_train, labels_train)"
      ],
      "outputs": [],
      "execution_count": null,
      "metadata": {
        "execution": {
          "iopub.status.busy": "2020-07-28T04:03:32.076Z",
          "iopub.execute_input": "2020-07-28T04:03:32.091Z",
          "iopub.status.idle": "2020-07-28T04:03:32.111Z",
          "shell.execute_reply": "2020-07-28T04:03:32.294Z"
        }
      }
    },
    {
      "cell_type": "code",
      "source": [
        "def predict_labels(clf, features):\n",
        "    return (clf.predict(features))"
      ],
      "outputs": [],
      "execution_count": null,
      "metadata": {
        "execution": {
          "iopub.status.busy": "2020-07-28T04:03:32.134Z",
          "iopub.execute_input": "2020-07-28T04:03:32.145Z",
          "iopub.status.idle": "2020-07-28T04:03:32.165Z",
          "shell.execute_reply": "2020-07-28T04:03:32.307Z"
        }
      }
    },
    {
      "cell_type": "code",
      "source": [
        "pred_scores = []\n",
        "for k,v in clfs.items():\n",
        "    train_classifier(v, features_train, labels_train)\n",
        "    pred = predict_labels(v,features_test)\n",
        "    acc = accuracy_score(labels_test,pred)\n",
        "    pred_scores.append((k, acc))"
      ],
      "outputs": [],
      "execution_count": null,
      "metadata": {
        "execution": {
          "iopub.status.busy": "2020-07-28T04:03:32.186Z",
          "iopub.execute_input": "2020-07-28T04:03:32.203Z",
          "shell.execute_reply": "2020-07-28T04:03:38.425Z",
          "iopub.status.idle": "2020-07-28T04:03:38.472Z"
        }
      }
    },
    {
      "cell_type": "code",
      "source": [
        "df = pd.DataFrame(pred_scores,columns=['Model_names','Score'])\n",
        "df"
      ],
      "outputs": [],
      "execution_count": null,
      "metadata": {
        "collapsed": true,
        "jupyter": {
          "source_hidden": false,
          "outputs_hidden": false
        },
        "nteract": {
          "transient": {
            "deleting": false
          }
        },
        "execution": {
          "iopub.status.busy": "2020-07-28T04:03:38.494Z",
          "iopub.execute_input": "2020-07-28T04:03:38.508Z",
          "iopub.status.idle": "2020-07-28T04:03:38.544Z",
          "shell.execute_reply": "2020-07-28T04:03:38.734Z"
        }
      }
    },
    {
      "cell_type": "code",
      "source": [
        "df.plot(kind='bar', ylim=(0.9,1.0), figsize=(11,6), align='center', colormap=\"Accent\")\n",
        "plt.xticks(np.arange(9), df.index)\n",
        "plt.ylabel('Accuracy Score')\n",
        "plt.title('Distribution by Classifier')\n",
        "plt.legend(bbox_to_anchor=(1.05, 1), loc=2, borderaxespad=0.)"
      ],
      "outputs": [],
      "execution_count": null,
      "metadata": {
        "execution": {
          "iopub.status.busy": "2020-07-28T04:03:38.576Z",
          "iopub.execute_input": "2020-07-28T04:03:38.597Z",
          "iopub.status.idle": "2020-07-28T04:03:38.905Z",
          "shell.execute_reply": "2020-07-28T04:03:39.020Z"
        }
      }
    },
    {
      "cell_type": "markdown",
      "source": [
        "Looks like ensemble classifiers are not doing as good as expected.\n",
        "\n",
        "#### Stemmer\n",
        "It is said that stemming short messages does no goot or even harm predictions. Let's try this out.\n",
        "\n",
        "Define our stemmer function"
      ],
      "metadata": {}
    },
    {
      "cell_type": "code",
      "source": [
        "def stemmer (text):\n",
        "    text = text.split()\n",
        "    words = \"\"\n",
        "    for i in text:\n",
        "            stemmer = SnowballStemmer(\"english\")\n",
        "            words += (stemmer.stem(i))+\" \"\n",
        "    return words"
      ],
      "outputs": [],
      "execution_count": null,
      "metadata": {
        "execution": {
          "iopub.status.busy": "2020-07-28T04:03:38.923Z",
          "iopub.execute_input": "2020-07-28T04:03:38.938Z",
          "iopub.status.idle": "2020-07-28T04:03:38.958Z",
          "shell.execute_reply": "2020-07-28T04:03:39.031Z"
        }
      }
    },
    {
      "cell_type": "code",
      "source": [
        "text_feat = text_feat.apply(stemmer)\n",
        "text_feat"
      ],
      "outputs": [],
      "execution_count": null,
      "metadata": {
        "execution": {
          "iopub.status.busy": "2020-07-28T04:03:38.975Z",
          "iopub.execute_input": "2020-07-28T04:03:38.986Z",
          "iopub.status.idle": "2020-07-28T04:03:39.900Z",
          "shell.execute_reply": "2020-07-28T04:03:39.974Z"
        }
      }
    },
    {
      "cell_type": "code",
      "source": [
        "features = vectorizer.fit_transform(text_feat)"
      ],
      "outputs": [],
      "execution_count": null,
      "metadata": {
        "execution": {
          "iopub.status.busy": "2020-07-28T04:03:39.923Z",
          "iopub.execute_input": "2020-07-28T04:03:39.940Z",
          "shell.execute_reply": "2020-07-28T04:03:39.987Z",
          "iopub.status.idle": "2020-07-28T04:03:40.013Z"
        }
      }
    },
    {
      "cell_type": "code",
      "source": [
        "features_train, features_test, labels_train, labels_test = train_test_split(features, sms['Label'], test_size=0.3, random_state=111)"
      ],
      "outputs": [],
      "execution_count": null,
      "metadata": {
        "execution": {
          "iopub.status.busy": "2020-07-28T04:03:40.034Z",
          "iopub.execute_input": "2020-07-28T04:03:40.051Z",
          "iopub.status.idle": "2020-07-28T04:03:40.077Z",
          "shell.execute_reply": "2020-07-28T04:03:39.994Z"
        }
      }
    },
    {
      "cell_type": "code",
      "source": [
        "pred_scores = []\n",
        "for k,v in clfs.items():\n",
        "    train_classifier(v, features_train, labels_train)\n",
        "    pred = predict_labels(v,features_test)\n",
        "    acc = accuracy_score(labels_test,pred)\n",
        "    pred_scores.append((k, acc))"
      ],
      "outputs": [],
      "execution_count": null,
      "metadata": {
        "execution": {
          "iopub.status.busy": "2020-07-28T04:03:40.107Z",
          "iopub.execute_input": "2020-07-28T04:03:40.122Z",
          "iopub.status.idle": "2020-07-28T04:03:45.794Z",
          "shell.execute_reply": "2020-07-28T04:03:45.771Z"
        }
      }
    },
    {
      "cell_type": "code",
      "source": [
        "df2 = pd.DataFrame(pred_scores,columns=['Model_names-stemmer','Score_stemmer'])\n",
        "#df2 = pd.DataFrame.from_items(pred_scores,orient='index', columns=['Score2'])\n",
        "df = pd.concat([df,df2],axis=1)\n",
        "df"
      ],
      "outputs": [],
      "execution_count": null,
      "metadata": {
        "execution": {
          "iopub.status.busy": "2020-07-28T04:03:45.811Z",
          "iopub.execute_input": "2020-07-28T04:03:45.822Z",
          "iopub.status.idle": "2020-07-28T04:03:45.849Z",
          "shell.execute_reply": "2020-07-28T04:03:45.963Z"
        }
      }
    },
    {
      "cell_type": "code",
      "source": [
        "df.plot(kind='bar', ylim=[0.85,1.0], figsize=(16,10), align='center', colormap=\"Accent\")\n",
        "plt.xticks(np.arange(9), df.index)\n",
        "plt.ylabel('Accuracy Score')\n",
        "plt.title('Distribution by Classifier')\n",
        "plt.legend(bbox_to_anchor=(1.05, 1), loc=2, borderaxespad=0.)"
      ],
      "outputs": [],
      "execution_count": null,
      "metadata": {
        "execution": {
          "iopub.status.busy": "2020-07-28T04:03:45.866Z",
          "iopub.execute_input": "2020-07-28T04:03:45.881Z",
          "iopub.status.idle": "2020-07-28T04:03:46.168Z",
          "shell.execute_reply": "2020-07-28T04:03:46.223Z"
        }
      }
    },
    {
      "cell_type": "markdown",
      "source": [
        "### What have we forgotten? Message length!\n",
        "Let's append our message length feature to the matrix we fit into our classifiers"
      ],
      "metadata": {}
    },
    {
      "cell_type": "code",
      "source": [
        "lf = sms['length'].as_matrix()\n",
        "newfeat = np.hstack((features.todense(),lf[:, None]))\n",
        "newfeat"
      ],
      "outputs": [],
      "execution_count": null,
      "metadata": {
        "execution": {
          "iopub.status.busy": "2020-07-28T04:03:46.186Z",
          "iopub.execute_input": "2020-07-28T04:03:46.197Z",
          "iopub.status.idle": "2020-07-28T04:03:46.519Z",
          "shell.execute_reply": "2020-07-28T04:03:46.646Z"
        }
      }
    },
    {
      "cell_type": "code",
      "source": [
        "features_train, features_test, labels_train, labels_test = train_test_split(newfeat, sms['label'], test_size=0.3, random_state=111)"
      ],
      "outputs": [],
      "execution_count": null,
      "metadata": {
        "execution": {
          "iopub.status.busy": "2020-07-28T04:03:46.543Z",
          "iopub.execute_input": "2020-07-28T04:03:46.558Z",
          "iopub.status.idle": "2020-07-28T04:03:46.583Z",
          "shell.execute_reply": "2020-07-28T04:03:46.657Z"
        }
      }
    },
    {
      "cell_type": "code",
      "source": [
        "pred_scores = []\n",
        "for k,v in clfs.items():\n",
        "    train_classifier(v, features_train, labels_train)\n",
        "    pred = predict_labels(v,features_test)\n",
        "    pred_scores.append((k, [accuracy_score(labels_test,pred)]))"
      ],
      "outputs": [],
      "execution_count": null,
      "metadata": {
        "execution": {
          "iopub.status.busy": "2020-07-28T04:03:46.605Z",
          "iopub.execute_input": "2020-07-28T04:03:46.618Z",
          "shell.execute_reply": "2020-07-28T04:03:52.401Z",
          "iopub.status.idle": "2020-07-28T04:03:52.420Z"
        }
      }
    },
    {
      "cell_type": "code",
      "source": [
        "df3 = pd.DataFrame.from_items(pred_scores,orient='index', columns=['Score3'])\n",
        "df = pd.concat([df,df3],axis=1)\n",
        "df"
      ],
      "outputs": [],
      "execution_count": null,
      "metadata": {
        "execution": {
          "iopub.status.busy": "2020-07-28T04:03:52.437Z",
          "iopub.execute_input": "2020-07-28T04:03:52.449Z",
          "iopub.status.idle": "2020-07-28T04:03:52.474Z",
          "shell.execute_reply": "2020-07-28T04:03:52.581Z"
        }
      }
    },
    {
      "cell_type": "code",
      "source": [
        "df.plot(kind='bar', ylim=(0.85,1.0), figsize=(11,6), align='center', colormap=\"Accent\")\n",
        "plt.xticks(np.arange(9), df.index)\n",
        "plt.ylabel('Accuracy Score')\n",
        "plt.title('Distribution by Classifier')\n",
        "plt.legend(bbox_to_anchor=(1.05, 1), loc=2, borderaxespad=0.)"
      ],
      "outputs": [],
      "execution_count": null,
      "metadata": {
        "execution": {
          "iopub.status.busy": "2020-07-28T04:03:52.495Z",
          "iopub.execute_input": "2020-07-28T04:03:52.524Z",
          "iopub.status.idle": "2020-07-28T04:03:52.750Z",
          "shell.execute_reply": "2020-07-28T04:03:52.909Z"
        }
      }
    },
    {
      "cell_type": "markdown",
      "source": [
        "This time everyone are doing a little bit worse, except for LinearRegression and RandomForest. But the winner is still MultinominalNaiveBayes."
      ],
      "metadata": {}
    },
    {
      "cell_type": "markdown",
      "source": [
        "#### Voting classifier\n",
        "We are using ensemble algorithms here, but what about ensemble of ensembles? Will it beat NB?"
      ],
      "metadata": {}
    },
    {
      "cell_type": "code",
      "source": [
        "from sklearn.ensemble import VotingClassifier"
      ],
      "outputs": [],
      "execution_count": null,
      "metadata": {
        "execution": {
          "iopub.status.busy": "2020-07-28T04:03:52.767Z",
          "iopub.execute_input": "2020-07-28T04:03:52.779Z",
          "iopub.status.idle": "2020-07-28T04:03:52.798Z",
          "shell.execute_reply": "2020-07-28T04:03:52.920Z"
        }
      }
    },
    {
      "cell_type": "code",
      "source": [
        "eclf = VotingClassifier(estimators=[('BgC', bc), ('ETC', etc), ('RF', rfc), ('Ada', abc)], voting='soft')"
      ],
      "outputs": [],
      "execution_count": null,
      "metadata": {
        "execution": {
          "iopub.status.busy": "2020-07-28T04:03:52.815Z",
          "iopub.execute_input": "2020-07-28T04:03:52.827Z",
          "iopub.status.idle": "2020-07-28T04:03:52.846Z",
          "shell.execute_reply": "2020-07-28T04:03:52.941Z"
        }
      }
    },
    {
      "cell_type": "code",
      "source": [
        "eclf.fit(features_train,labels_train)"
      ],
      "outputs": [],
      "execution_count": null,
      "metadata": {
        "execution": {
          "iopub.status.busy": "2020-07-28T04:03:52.863Z",
          "iopub.execute_input": "2020-07-28T04:03:52.874Z",
          "iopub.status.idle": "2020-07-28T04:03:57.478Z",
          "shell.execute_reply": "2020-07-28T04:03:57.681Z"
        }
      }
    },
    {
      "cell_type": "code",
      "source": [
        "pred = eclf.predict(features_test)"
      ],
      "outputs": [],
      "execution_count": null,
      "metadata": {
        "execution": {
          "iopub.status.busy": "2020-07-28T04:03:57.504Z",
          "iopub.execute_input": "2020-07-28T04:03:57.523Z",
          "iopub.status.idle": "2020-07-28T04:03:57.580Z",
          "shell.execute_reply": "2020-07-28T04:03:57.709Z"
        }
      }
    },
    {
      "cell_type": "code",
      "source": [
        "print(accuracy_score(labels_test,pred))"
      ],
      "outputs": [],
      "execution_count": null,
      "metadata": {
        "execution": {
          "iopub.status.busy": "2020-07-28T04:03:57.607Z",
          "iopub.execute_input": "2020-07-28T04:03:57.619Z",
          "iopub.status.idle": "2020-07-28T04:03:57.643Z",
          "shell.execute_reply": "2020-07-28T04:03:57.716Z"
        }
      }
    }
  ],
  "metadata": {
    "kernelspec": {
      "display_name": "Python 3",
      "language": "python",
      "name": "python3"
    },
    "language_info": {
      "name": "python",
      "version": "3.6.8",
      "mimetype": "text/x-python",
      "codemirror_mode": {
        "name": "ipython",
        "version": 3
      },
      "pygments_lexer": "ipython3",
      "nbconvert_exporter": "python",
      "file_extension": ".py"
    },
    "nteract": {
      "version": "0.24.0"
    }
  },
  "nbformat": 4,
  "nbformat_minor": 4
}