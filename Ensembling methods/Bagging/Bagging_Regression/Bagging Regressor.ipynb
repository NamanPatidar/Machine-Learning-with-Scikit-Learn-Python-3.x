{
  "cells": [
    {
      "cell_type": "code",
      "source": [
        "%matplotlib inline \n",
        "from sklearn.svm import SVR\n",
        "from sklearn.ensemble import BaggingRegressor\n",
        "from sklearn.datasets import make_regression\n",
        "import numpy as np\n",
        "import pandas as pd\n",
        "import seaborn as sns\n",
        "import matplotlib.pyplot as plt"
      ],
      "outputs": [],
      "execution_count": 6,
      "metadata": {
        "collapsed": true,
        "jupyter": {
          "source_hidden": false,
          "outputs_hidden": false
        },
        "nteract": {
          "transient": {
            "deleting": false
          }
        },
        "execution": {
          "iopub.status.busy": "2020-07-17T04:05:14.759Z",
          "iopub.execute_input": "2020-07-17T04:05:14.769Z",
          "iopub.status.idle": "2020-07-17T04:05:14.774Z",
          "shell.execute_reply": "2020-07-17T04:05:14.778Z"
        }
      }
    },
    {
      "cell_type": "code",
      "source": [
        "X, y = make_regression(n_samples=100, n_features=4,\n",
        "                       n_informative=2, n_targets=1,\n",
        "                       random_state=0, shuffle=False)"
      ],
      "outputs": [],
      "execution_count": 2,
      "metadata": {
        "collapsed": true,
        "jupyter": {
          "source_hidden": false,
          "outputs_hidden": false
        },
        "nteract": {
          "transient": {
            "deleting": false
          }
        },
        "execution": {
          "iopub.status.busy": "2020-07-17T04:03:38.527Z",
          "iopub.execute_input": "2020-07-17T04:03:38.540Z",
          "iopub.status.idle": "2020-07-17T04:03:38.562Z",
          "shell.execute_reply": "2020-07-17T04:03:38.587Z"
        }
      }
    },
    {
      "cell_type": "code",
      "source": [
        "X[:,0]"
      ],
      "outputs": [
        {
          "output_type": "execute_result",
          "execution_count": 12,
          "data": {
            "text/plain": "array([ 1.76405235,  1.86755799, -0.10321885,  0.76103773,  1.49407907,\n       -2.55298982,  2.26975462,  1.53277921, -0.88778575,  1.23029068,\n       -1.04855297, -0.50965218, -1.61389785, -0.51080514,  0.06651722,\n       -0.67246045,  0.17742614, -0.90729836,  1.13940068, -0.87079715,\n       -1.16514984,  1.48825219, -1.07075262,  0.20827498,  0.01050002,\n        1.8831507 , -1.17312341,  1.92294203, -0.86122569,  0.94725197,\n        0.37642553, -0.69456786,  0.67229476, -0.67433266,  0.57659082,\n       -1.49125759,  2.38314477, -1.31590741, -0.74475482,  1.12663592,\n       -0.49803245, -1.22543552,  1.18802979,  0.85683061, -0.80340966,\n       -0.35399391,  0.62523145, -0.739563  , -0.03928282,  0.77179055,\n       -0.36918184,  0.64013153,  0.2799246 ,  0.78632796, -0.01702041,\n       -0.955945  , -1.54079701, -0.59731607, -0.54286148,  1.49448454,\n       -0.63743703, -0.30901297, -0.81336426,  0.14195316, -0.72559738,\n       -1.18885926, -1.93627981, -0.31088617,  1.95591231,  0.49374178,\n       -0.11054066,  0.28634369,  0.68981816,  2.3039167 ,  0.09772497,\n       -1.30652685,  0.66638308,  0.69377315, -1.12682581, -0.04217145,\n       -0.71960439, -1.15735526, -0.70470028,  0.77325298, -1.75589058,\n        1.0685094 , -0.44092263,  0.5785215 ,  1.36453185, -1.84306955,\n        0.69845715, -0.01568211, -0.26773354,  0.84163126,  0.64331447,\n       -1.69810582,  0.03863055,  1.64813493, -0.35343175,  0.85792392])"
          },
          "metadata": {}
        }
      ],
      "execution_count": 12,
      "metadata": {
        "collapsed": true,
        "jupyter": {
          "source_hidden": false,
          "outputs_hidden": false
        },
        "nteract": {
          "transient": {
            "deleting": false
          }
        },
        "execution": {
          "iopub.status.busy": "2020-07-17T04:06:04.521Z",
          "iopub.execute_input": "2020-07-17T04:06:04.525Z",
          "iopub.status.idle": "2020-07-17T04:06:04.544Z",
          "shell.execute_reply": "2020-07-17T04:06:04.552Z"
        }
      }
    },
    {
      "cell_type": "code",
      "source": [
        "plt.scatter(X[:,0],y)  # first Feature with Target"
      ],
      "outputs": [
        {
          "output_type": "execute_result",
          "execution_count": 17,
          "data": {
            "text/plain": "<matplotlib.collections.PathCollection at 0x17dec7cd390>"
          },
          "metadata": {}
        },
        {
          "output_type": "display_data",
          "data": {
            "text/plain": "<Figure size 432x288 with 1 Axes>",
            "image/png": "[encoded data removed]"
          },
          "metadata": {
            "needs_background": "light"
          }
        }
      ],
      "execution_count": 17,
      "metadata": {
        "collapsed": true,
        "jupyter": {
          "source_hidden": false,
          "outputs_hidden": false
        },
        "nteract": {
          "transient": {
            "deleting": false
          }
        },
        "execution": {
          "iopub.status.busy": "2020-07-17T04:07:02.658Z",
          "iopub.execute_input": "2020-07-17T04:07:02.675Z",
          "iopub.status.idle": "2020-07-17T04:07:02.906Z",
          "shell.execute_reply": "2020-07-17T04:07:02.942Z"
        }
      }
    },
    {
      "cell_type": "code",
      "source": [
        "plt.scatter(X[:,1],y) # Second Feature With Target"
      ],
      "outputs": [
        {
          "output_type": "execute_result",
          "execution_count": 14,
          "data": {
            "text/plain": "<matplotlib.collections.PathCollection at 0x17dec6a7470>"
          },
          "metadata": {}
        },
        {
          "output_type": "display_data",
          "data": {
            "text/plain": "<Figure size 432x288 with 1 Axes>",
            "image/png": "[encoded data removed]"
          },
          "metadata": {
            "needs_background": "light"
          }
        }
      ],
      "execution_count": 14,
      "metadata": {
        "collapsed": true,
        "jupyter": {
          "source_hidden": false,
          "outputs_hidden": false
        },
        "nteract": {
          "transient": {
            "deleting": false
          }
        },
        "execution": {
          "iopub.status.busy": "2020-07-17T04:06:29.027Z",
          "iopub.execute_input": "2020-07-17T04:06:29.040Z",
          "iopub.status.idle": "2020-07-17T04:06:29.212Z",
          "shell.execute_reply": "2020-07-17T04:06:29.231Z"
        }
      }
    },
    {
      "cell_type": "code",
      "source": [
        "plt.scatter(X[:,2],y) # Third Feature With Target"
      ],
      "outputs": [
        {
          "output_type": "execute_result",
          "execution_count": 18,
          "data": {
            "text/plain": "<matplotlib.collections.PathCollection at 0x17dec824f28>"
          },
          "metadata": {}
        },
        {
          "output_type": "display_data",
          "data": {
            "text/plain": "<Figure size 432x288 with 1 Axes>",
            "image/png": "[encoded data removed]"
          },
          "metadata": {
            "needs_background": "light"
          }
        }
      ],
      "execution_count": 18,
      "metadata": {
        "collapsed": true,
        "jupyter": {
          "source_hidden": false,
          "outputs_hidden": false
        },
        "nteract": {
          "transient": {
            "deleting": false
          }
        },
        "execution": {
          "iopub.status.busy": "2020-07-17T04:07:24.601Z",
          "iopub.execute_input": "2020-07-17T04:07:24.607Z",
          "iopub.status.idle": "2020-07-17T04:07:24.787Z",
          "shell.execute_reply": "2020-07-17T04:07:24.813Z"
        }
      }
    },
    {
      "cell_type": "code",
      "source": [
        "plt.scatter(X[:,3],y) # Fourth Feature With Target"
      ],
      "outputs": [
        {
          "output_type": "execute_result",
          "execution_count": 19,
          "data": {
            "text/plain": "<matplotlib.collections.PathCollection at 0x17dec732668>"
          },
          "metadata": {}
        },
        {
          "output_type": "display_data",
          "data": {
            "text/plain": "<Figure size 432x288 with 1 Axes>",
            "image/png": "[encoded data removed]"
          },
          "metadata": {
            "needs_background": "light"
          }
        }
      ],
      "execution_count": 19,
      "metadata": {
        "collapsed": true,
        "jupyter": {
          "source_hidden": false,
          "outputs_hidden": false
        },
        "nteract": {
          "transient": {
            "deleting": false
          }
        },
        "execution": {
          "iopub.status.busy": "2020-07-17T04:07:39.417Z",
          "iopub.execute_input": "2020-07-17T04:07:39.430Z",
          "iopub.status.idle": "2020-07-17T04:07:39.705Z",
          "shell.execute_reply": "2020-07-17T04:07:39.726Z"
        }
      }
    },
    {
      "cell_type": "code",
      "source": [
        "regr = BaggingRegressor(base_estimator=SVR(),\n",
        "                        n_estimators=10, random_state=0)"
      ],
      "outputs": [],
      "execution_count": 21,
      "metadata": {
        "collapsed": true,
        "jupyter": {
          "source_hidden": false,
          "outputs_hidden": false
        },
        "nteract": {
          "transient": {
            "deleting": false
          }
        },
        "execution": {
          "iopub.status.busy": "2020-07-17T04:08:34.977Z",
          "iopub.execute_input": "2020-07-17T04:08:34.987Z",
          "shell.execute_reply": "2020-07-17T04:08:35.013Z",
          "iopub.status.idle": "2020-07-17T04:08:35.003Z"
        }
      }
    },
    {
      "cell_type": "code",
      "source": [
        "regr.fit(X,y)"
      ],
      "outputs": [
        {
          "output_type": "execute_result",
          "execution_count": 22,
          "data": {
            "text/plain": "BaggingRegressor(base_estimator=SVR(), random_state=0)"
          },
          "metadata": {}
        }
      ],
      "execution_count": 22,
      "metadata": {
        "collapsed": true,
        "jupyter": {
          "source_hidden": false,
          "outputs_hidden": false
        },
        "nteract": {
          "transient": {
            "deleting": false
          }
        },
        "execution": {
          "iopub.status.busy": "2020-07-17T04:08:42.343Z",
          "iopub.execute_input": "2020-07-17T04:08:42.365Z",
          "iopub.status.idle": "2020-07-17T04:08:42.402Z",
          "shell.execute_reply": "2020-07-17T04:08:42.414Z"
        }
      }
    },
    {
      "cell_type": "code",
      "source": [
        "regr.predict([[0, 0, 0, 0]])"
      ],
      "outputs": [
        {
          "output_type": "execute_result",
          "execution_count": 24,
          "data": {
            "text/plain": "array([-2.87202411])"
          },
          "metadata": {}
        }
      ],
      "execution_count": 24,
      "metadata": {
        "collapsed": true,
        "jupyter": {
          "source_hidden": false,
          "outputs_hidden": false
        },
        "nteract": {
          "transient": {
            "deleting": false
          }
        },
        "execution": {
          "iopub.status.busy": "2020-07-17T04:10:15.765Z",
          "iopub.execute_input": "2020-07-17T04:10:15.779Z",
          "iopub.status.idle": "2020-07-17T04:10:15.802Z",
          "shell.execute_reply": "2020-07-17T04:10:15.811Z"
        }
      }
    }
  ],
  "metadata": {
    "kernel_info": {
      "name": "python3"
    },
    "language_info": {
      "name": "python",
      "version": "3.6.8",
      "mimetype": "text/x-python",
      "codemirror_mode": {
        "name": "ipython",
        "version": 3
      },
      "pygments_lexer": "ipython3",
      "nbconvert_exporter": "python",
      "file_extension": ".py"
    },
    "kernelspec": {
      "argv": [
        "python",
        "-m",
        "ipykernel_launcher",
        "-f",
        "{connection_file}"
      ],
      "display_name": "Python 3",
      "language": "python",
      "name": "python3"
    },
    "nteract": {
      "version": "0.24.0"
    }
  },
  "nbformat": 4,
  "nbformat_minor": 0
}