{
  "cells": [
    {
      "cell_type": "markdown",
      "source": [
        "## Voting for Classification \n",
        "\n",
        "### We will be using the IRIS dataset \n"
      ],
      "metadata": {}
    },
    {
      "cell_type": "code",
      "source": [
        "#Lets import the libraries and datasets \n",
        "import numpy as np\n",
        "\n",
        "from sklearn import datasets\n",
        "from sklearn.tree import DecisionTreeClassifier\n",
        "from sklearn.neighbors import KNeighborsClassifier\n",
        "from sklearn.svm import SVC\n",
        "from sklearn.model_selection import train_test_split\n",
        "\n",
        "from sklearn.ensemble import VotingClassifier\n",
        "\n",
        "import statistics as stat"
      ],
      "outputs": [],
      "execution_count": 2,
      "metadata": {
        "execution": {
          "iopub.status.busy": "2020-07-17T04:00:50.423Z",
          "iopub.execute_input": "2020-07-17T04:00:50.447Z",
          "shell.execute_reply": "2020-07-17T04:00:50.512Z",
          "iopub.status.idle": "2020-07-17T04:00:50.479Z"
        }
      }
    },
    {
      "cell_type": "code",
      "source": [
        "#Lets load the dataset\n",
        "iris = datasets.load_iris()\n",
        "iris.feature_names"
      ],
      "outputs": [
        {
          "output_type": "execute_result",
          "execution_count": 3,
          "data": {
            "text/plain": "['sepal length (cm)',\n 'sepal width (cm)',\n 'petal length (cm)',\n 'petal width (cm)']"
          },
          "metadata": {}
        }
      ],
      "execution_count": 3,
      "metadata": {
        "execution": {
          "iopub.status.busy": "2020-07-17T04:00:52.071Z",
          "iopub.execute_input": "2020-07-17T04:00:52.101Z",
          "iopub.status.idle": "2020-07-17T04:00:52.255Z",
          "shell.execute_reply": "2020-07-17T04:00:52.405Z"
        }
      }
    },
    {
      "cell_type": "code",
      "source": [
        "X = iris.data[:, [0, 2]]\n",
        "y = iris.target"
      ],
      "outputs": [],
      "execution_count": 4,
      "metadata": {
        "execution": {
          "iopub.status.busy": "2020-07-17T04:07:47.557Z",
          "iopub.execute_input": "2020-07-17T04:07:47.593Z",
          "iopub.status.idle": "2020-07-17T04:07:47.627Z",
          "shell.execute_reply": "2020-07-17T04:07:47.675Z"
        }
      }
    },
    {
      "cell_type": "code",
      "source": [
        "#Lets check the shape of our data \n",
        "print(X.shape)\n",
        "print(y.shape)"
      ],
      "outputs": [
        {
          "output_type": "stream",
          "name": "stdout",
          "text": [
            "(150, 2)\n",
            "(150,)\n"
          ]
        }
      ],
      "execution_count": 5,
      "metadata": {
        "execution": {
          "iopub.status.busy": "2020-07-17T04:07:49.009Z",
          "iopub.execute_input": "2020-07-17T04:07:49.043Z",
          "iopub.status.idle": "2020-07-17T04:07:49.104Z",
          "shell.execute_reply": "2020-07-17T04:07:49.135Z"
        }
      }
    },
    {
      "cell_type": "code",
      "source": [
        "#Output classes\n",
        "list(iris.target_names)"
      ],
      "outputs": [
        {
          "output_type": "execute_result",
          "execution_count": 6,
          "data": {
            "text/plain": "['setosa', 'versicolor', 'virginica']"
          },
          "metadata": {}
        }
      ],
      "execution_count": 6,
      "metadata": {
        "execution": {
          "iopub.status.busy": "2020-07-17T04:07:53.763Z",
          "iopub.execute_input": "2020-07-17T04:07:53.777Z",
          "iopub.status.idle": "2020-07-17T04:07:53.826Z",
          "shell.execute_reply": "2020-07-17T04:07:53.872Z"
        }
      }
    },
    {
      "cell_type": "code",
      "source": [
        "#Lets split our data in train and test \n",
        "X_train,X_test,y_train,y_test=train_test_split(X,y,random_state=1)"
      ],
      "outputs": [],
      "execution_count": 7,
      "metadata": {
        "execution": {
          "iopub.status.busy": "2020-07-17T04:10:35.876Z",
          "iopub.execute_input": "2020-07-17T04:10:35.895Z",
          "iopub.status.idle": "2020-07-17T04:10:35.924Z",
          "shell.execute_reply": "2020-07-17T04:10:35.955Z"
        }
      }
    },
    {
      "cell_type": "code",
      "source": [
        "#Lets check the shape \n",
        "print(X_train.shape)\n",
        "print(y_train.shape)\n",
        "print(X_test.shape)\n",
        "print(y_test.shape)"
      ],
      "outputs": [
        {
          "output_type": "stream",
          "name": "stdout",
          "text": [
            "(112, 2)\n",
            "(112,)\n",
            "(38, 2)\n",
            "(38,)\n"
          ]
        }
      ],
      "execution_count": 8,
      "metadata": {
        "execution": {
          "iopub.status.busy": "2020-07-17T04:10:36.982Z",
          "iopub.execute_input": "2020-07-17T04:10:37.005Z",
          "iopub.status.idle": "2020-07-17T04:10:37.055Z",
          "shell.execute_reply": "2020-07-17T04:10:37.088Z"
        }
      }
    },
    {
      "cell_type": "code",
      "source": [
        "#We initialize the models\n",
        "model1 = DecisionTreeClassifier(max_depth=4)\n",
        "model2 = KNeighborsClassifier(n_neighbors=7)\n",
        "model3 = SVC(kernel='rbf', probability=True)"
      ],
      "outputs": [],
      "execution_count": 9,
      "metadata": {
        "execution": {
          "iopub.status.busy": "2020-07-17T04:13:32.206Z",
          "iopub.execute_input": "2020-07-17T04:13:32.229Z",
          "iopub.status.idle": "2020-07-17T04:13:32.254Z",
          "shell.execute_reply": "2020-07-17T04:13:32.272Z"
        }
      }
    },
    {
      "cell_type": "code",
      "source": [
        "#We then fit the models \n",
        "model1.fit(X_train, y_train)\n",
        "model2.fit(X_train, y_train)\n",
        "model3.fit(X_train, y_train)"
      ],
      "outputs": [
        {
          "output_type": "execute_result",
          "execution_count": 10,
          "data": {
            "text/plain": "SVC(probability=True)"
          },
          "metadata": {}
        }
      ],
      "execution_count": 10,
      "metadata": {
        "execution": {
          "iopub.status.busy": "2020-07-17T04:13:50.081Z",
          "iopub.execute_input": "2020-07-17T04:13:50.093Z",
          "iopub.status.idle": "2020-07-17T04:13:50.468Z",
          "shell.execute_reply": "2020-07-17T04:13:50.506Z"
        }
      }
    },
    {
      "cell_type": "markdown",
      "source": [
        "### Lets look at the accuracy for each model "
      ],
      "metadata": {}
    },
    {
      "cell_type": "code",
      "source": [
        "#The accuracy score for the first model is\n",
        "score1=model1.score(X_test, y_test)\n",
        "print(score1)"
      ],
      "outputs": [
        {
          "output_type": "stream",
          "name": "stdout",
          "text": [
            "0.9736842105263158\n"
          ]
        }
      ],
      "execution_count": 11,
      "metadata": {
        "execution": {
          "iopub.status.busy": "2020-07-17T04:17:18.535Z",
          "iopub.execute_input": "2020-07-17T04:17:18.582Z",
          "iopub.status.idle": "2020-07-17T04:17:18.691Z",
          "shell.execute_reply": "2020-07-17T04:17:18.723Z"
        }
      }
    },
    {
      "cell_type": "code",
      "source": [
        "#The accuracy score for the second model is\n",
        "score2=model2.score(X_test, y_test)\n",
        "print(score2)"
      ],
      "outputs": [
        {
          "output_type": "stream",
          "name": "stdout",
          "text": [
            "0.9736842105263158\n"
          ]
        }
      ],
      "execution_count": 12,
      "metadata": {
        "execution": {
          "iopub.status.busy": "2020-07-17T04:17:21.224Z",
          "iopub.execute_input": "2020-07-17T04:17:21.247Z",
          "iopub.status.idle": "2020-07-17T04:17:21.357Z",
          "shell.execute_reply": "2020-07-17T04:17:21.402Z"
        }
      }
    },
    {
      "cell_type": "code",
      "source": [
        "#The accuracy score for the third model is\n",
        "score3=model3.score(X_test, y_test)\n",
        "print(score3)"
      ],
      "outputs": [
        {
          "output_type": "stream",
          "name": "stdout",
          "text": [
            "0.9736842105263158\n"
          ]
        }
      ],
      "execution_count": 13,
      "metadata": {
        "execution": {
          "iopub.status.busy": "2020-07-17T04:17:24.113Z",
          "iopub.execute_input": "2020-07-17T04:17:24.127Z",
          "iopub.status.idle": "2020-07-17T04:17:24.170Z",
          "shell.execute_reply": "2020-07-17T04:17:24.203Z"
        }
      }
    },
    {
      "cell_type": "markdown",
      "source": [
        "### Lets combine the models using voting in python "
      ],
      "metadata": {}
    },
    {
      "cell_type": "code",
      "source": [
        "#Lets find out what each model predicts \n",
        "pred1=model1.predict(X_test)\n",
        "pred2=model2.predict(X_test)\n",
        "pred3=model3.predict(X_test)"
      ],
      "outputs": [],
      "execution_count": 14,
      "metadata": {
        "execution": {
          "iopub.status.busy": "2020-07-17T04:19:33.030Z",
          "iopub.execute_input": "2020-07-17T04:19:33.079Z",
          "iopub.status.idle": "2020-07-17T04:19:33.130Z",
          "shell.execute_reply": "2020-07-17T04:19:33.171Z"
        }
      }
    },
    {
      "cell_type": "code",
      "source": [
        "#Lets take the vote using the mode function \n",
        "final_pred = np.array([])\n",
        "for i in range(0,len(X_test)):\n",
        "    final_pred = np.append(final_pred, stat.mode([pred1[i],\n",
        "                                                  pred2[i], \n",
        "                                                  pred3[i]]))\n",
        "final_pred"
      ],
      "outputs": [
        {
          "output_type": "execute_result",
          "execution_count": 15,
          "data": {
            "text/plain": "array([0., 1., 1., 0., 2., 1., 2., 0., 0., 2., 1., 0., 2., 1., 1., 0., 1.,\n       1., 0., 0., 1., 1., 2., 0., 2., 1., 0., 0., 1., 2., 1., 2., 1., 2.,\n       2., 0., 1., 0.])"
          },
          "metadata": {}
        }
      ],
      "execution_count": 15,
      "metadata": {
        "execution": {
          "iopub.status.busy": "2020-07-17T04:20:14.166Z",
          "iopub.execute_input": "2020-07-17T04:20:14.178Z",
          "iopub.status.idle": "2020-07-17T04:20:14.206Z",
          "shell.execute_reply": "2020-07-17T04:20:14.241Z"
        }
      }
    },
    {
      "cell_type": "markdown",
      "source": [
        "### This is also called as a hard voting since we are using the model predictions to get the final combined prediction "
      ],
      "metadata": {}
    },
    {
      "cell_type": "code",
      "source": [
        "total=np.sum(y_test==final_pred)\n",
        "\n",
        "print(\"Accuracy:\",total,\"/\",len(final_pred),\"* 100 =\",\" {0:.3f}\".format(total/len(final_pred)*100),\"%\")"
      ],
      "outputs": [
        {
          "output_type": "stream",
          "name": "stdout",
          "text": [
            "Accuracy: 37 / 38 * 100 =  97.368 %\n"
          ]
        }
      ],
      "execution_count": 20,
      "metadata": {
        "execution": {
          "iopub.status.busy": "2020-07-17T04:37:54.505Z",
          "iopub.execute_input": "2020-07-17T04:37:54.526Z",
          "iopub.status.idle": "2020-07-17T04:37:54.568Z",
          "shell.execute_reply": "2020-07-17T04:37:54.589Z"
        }
      }
    },
    {
      "cell_type": "markdown",
      "source": [
        "### Soft voting in python"
      ],
      "metadata": {}
    },
    {
      "cell_type": "code",
      "source": [
        "spred1=model1.predict_proba(X_test)\n",
        "spred2=model2.predict_proba(X_test)\n",
        "spred3=model3.predict_proba(X_test)\n",
        "\n",
        "finalpred=(spred1+spred2+spred3)/3\n",
        "finalpred"
      ],
      "outputs": [
        {
          "output_type": "execute_result",
          "execution_count": 17,
          "data": {
            "text/plain": "array([[0.9884574 , 0.00589594, 0.00564665],\n       [0.05621893, 0.93409007, 0.009691  ],\n       [0.00519164, 0.98465785, 0.01015051],\n       [0.99030561, 0.00552872, 0.00416568],\n       [0.00807645, 0.01468448, 0.97723907],\n       [0.00424243, 0.75570437, 0.24005321],\n       [0.00643323, 0.26039311, 0.73317367],\n       [0.97405879, 0.02080457, 0.00513664],\n       [0.98343223, 0.01184161, 0.00472615],\n       [0.00399216, 0.00678745, 0.9892204 ],\n       [0.00286603, 0.9750194 , 0.02211458],\n       [0.98324697, 0.01218192, 0.00457111],\n       [0.00431274, 0.00553233, 0.99015492],\n       [0.00406214, 0.97002753, 0.02591033],\n       [0.00321729, 0.89451435, 0.10226836],\n       [0.98494445, 0.00909933, 0.00595622],\n       [0.00363904, 0.99143624, 0.00492472],\n       [0.00342979, 0.84146031, 0.1551099 ],\n       [0.98810165, 0.00772726, 0.00417109],\n       [0.99073784, 0.00512885, 0.00413331],\n       [0.00344255, 0.91790337, 0.07865409],\n       [0.0037071 , 0.76108499, 0.2352079 ],\n       [0.00564795, 0.27767526, 0.71667679],\n       [0.99020422, 0.00580057, 0.00399521],\n       [0.00451854, 0.00540369, 0.99007778],\n       [0.00311598, 0.98669892, 0.01018511],\n       [0.98910494, 0.00657233, 0.00432273],\n       [0.98816493, 0.00788477, 0.00395029],\n       [0.00390912, 0.72365465, 0.27243623],\n       [0.00420319, 0.12071307, 0.87508374],\n       [0.00377418, 0.82123226, 0.17499357],\n       [0.00703541, 0.0148435 , 0.97812109],\n       [0.00395516, 0.99110629, 0.00493854],\n       [0.00327969, 0.00313971, 0.9935806 ],\n       [0.00330471, 0.11941919, 0.8772761 ],\n       [0.98828516, 0.00767987, 0.00403497],\n       [0.00336198, 0.98685592, 0.0097821 ],\n       [0.98966218, 0.00642509, 0.00391274]])"
          },
          "metadata": {}
        }
      ],
      "execution_count": 17,
      "metadata": {
        "execution": {
          "iopub.status.busy": "2020-07-17T04:30:19.810Z",
          "iopub.execute_input": "2020-07-17T04:30:19.833Z",
          "iopub.status.idle": "2020-07-17T04:30:19.903Z",
          "shell.execute_reply": "2020-07-17T04:30:19.956Z"
        },
        "collapsed": true,
        "tags": [
          "parameters"
        ]
      }
    },
    {
      "cell_type": "code",
      "source": [
        "final_classes = finalpred.argmax(axis=-1) \n",
        "final_classes"
      ],
      "outputs": [
        {
          "output_type": "execute_result",
          "execution_count": 21,
          "data": {
            "text/plain": "array([0, 1, 1, 0, 2, 1, 2, 0, 0, 2, 1, 0, 2, 1, 1, 0, 1, 1, 0, 0, 1, 1,\n       2, 0, 2, 1, 0, 0, 1, 2, 1, 2, 1, 2, 2, 0, 1, 0], dtype=int64)"
          },
          "metadata": {}
        }
      ],
      "execution_count": 21,
      "metadata": {
        "execution": {
          "iopub.status.busy": "2020-07-17T04:46:51.077Z",
          "iopub.execute_input": "2020-07-17T04:46:51.112Z",
          "iopub.status.idle": "2020-07-17T04:46:51.194Z",
          "shell.execute_reply": "2020-07-17T04:46:51.257Z"
        }
      }
    },
    {
      "cell_type": "code",
      "source": [
        "total=np.sum([y_test[i]==final_classes[i] for i in range(len(final_classes))])\n",
        "\n",
        "print(\"Accuracy:\",total,\"/\",len(final_classes),\"* 100 =\",\"{0:.3f}\".format(total/len(final_classes)*100),\"%\")"
      ],
      "outputs": [
        {
          "output_type": "stream",
          "name": "stdout",
          "text": [
            "Accuracy: 37 / 38 * 100 = 97.368 %\n"
          ]
        }
      ],
      "execution_count": 22,
      "metadata": {
        "execution": {
          "iopub.status.busy": "2020-07-17T04:46:58.920Z",
          "iopub.execute_input": "2020-07-17T04:46:58.933Z",
          "iopub.status.idle": "2020-07-17T04:46:58.964Z",
          "shell.execute_reply": "2020-07-17T04:46:58.978Z"
        }
      }
    },
    {
      "cell_type": "markdown",
      "source": [
        "### We can also use VotingClassifier from sklearn to combine the models"
      ],
      "metadata": {}
    },
    {
      "cell_type": "code",
      "source": [
        "emodel = VotingClassifier(estimators=[('dt', model1), ('knn', model2),\n",
        "                                    ('svc', model3)],\n",
        "                        voting='soft')\n",
        "emodel.fit(X_train, y_train)"
      ],
      "outputs": [
        {
          "output_type": "execute_result",
          "execution_count": 23,
          "data": {
            "text/plain": "VotingClassifier(estimators=[('dt', DecisionTreeClassifier(max_depth=4)),\n                             ('knn', KNeighborsClassifier(n_neighbors=7)),\n                             ('svc', SVC(probability=True))],\n                 voting='soft')"
          },
          "metadata": {}
        }
      ],
      "execution_count": 23,
      "metadata": {
        "execution": {
          "iopub.status.busy": "2020-07-17T04:56:51.906Z",
          "iopub.execute_input": "2020-07-17T04:56:51.926Z",
          "iopub.status.idle": "2020-07-17T04:56:51.983Z",
          "shell.execute_reply": "2020-07-17T04:56:52.000Z"
        }
      }
    },
    {
      "cell_type": "code",
      "source": [
        "#The accuracy score for the ensemble model is\n",
        "escore=emodel.score(X_test, y_test)\n",
        "print(escore)"
      ],
      "outputs": [
        {
          "output_type": "stream",
          "name": "stdout",
          "text": [
            "0.9736842105263158\n"
          ]
        }
      ],
      "execution_count": 24,
      "metadata": {
        "execution": {
          "iopub.status.busy": "2020-07-17T04:56:56.699Z",
          "iopub.execute_input": "2020-07-17T04:56:56.707Z",
          "iopub.status.idle": "2020-07-17T04:56:56.727Z",
          "shell.execute_reply": "2020-07-17T04:56:56.734Z"
        }
      }
    },
    {
      "cell_type": "code",
      "source": [
        "emodel.classes_"
      ],
      "outputs": [
        {
          "output_type": "execute_result",
          "execution_count": 25,
          "data": {
            "text/plain": "array([0, 1, 2])"
          },
          "metadata": {}
        }
      ],
      "execution_count": 25,
      "metadata": {
        "execution": {
          "iopub.status.busy": "2020-07-17T05:06:40.428Z",
          "iopub.execute_input": "2020-07-17T05:06:40.438Z",
          "iopub.status.idle": "2020-07-17T05:06:40.472Z",
          "shell.execute_reply": "2020-07-17T05:06:40.498Z"
        }
      }
    }
  ],
  "metadata": {
    "kernelspec": {
      "display_name": "Python 3",
      "language": "python",
      "name": "python3"
    },
    "language_info": {
      "name": "python",
      "version": "3.6.8",
      "mimetype": "text/x-python",
      "codemirror_mode": {
        "name": "ipython",
        "version": 3
      },
      "pygments_lexer": "ipython3",
      "nbconvert_exporter": "python",
      "file_extension": ".py"
    },
    "nteract": {
      "version": "0.24.0"
    }
  },
  "nbformat": 4,
  "nbformat_minor": 4
}