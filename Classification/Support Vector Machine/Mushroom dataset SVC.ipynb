{
  "cells": [
    {
      "cell_type": "markdown",
      "source": [
        "# Mushroom dataset\n",
        "\n",
        "Adjusting Key Performance Indicators"
      ],
      "metadata": {}
    },
    {
      "cell_type": "code",
      "source": [
        "import pandas as pd\n",
        "import numpy as np\n",
        "\n",
        "mush_df = pd.read_csv('Data/mushrooms.csv')\n",
        "mush_df"
      ],
      "outputs": [
        {
          "output_type": "execute_result",
          "execution_count": 1,
          "data": {
            "text/plain": "     class cap-shape cap-surface cap-color bruises odor gill-attachment  \\\n0        p         x           s         n       t    p               f   \n1        e         x           s         y       t    a               f   \n2        e         b           s         w       t    l               f   \n3        p         x           y         w       t    p               f   \n4        e         x           s         g       f    n               f   \n...    ...       ...         ...       ...     ...  ...             ...   \n8119     e         k           s         n       f    n               a   \n8120     e         x           s         n       f    n               a   \n8121     e         f           s         n       f    n               a   \n8122     p         k           y         n       f    y               f   \n8123     e         x           s         n       f    n               a   \n\n     gill-spacing gill-size gill-color  ... stalk-surface-below-ring  \\\n0               c         n          k  ...                        s   \n1               c         b          k  ...                        s   \n2               c         b          n  ...                        s   \n3               c         n          n  ...                        s   \n4               w         b          k  ...                        s   \n...           ...       ...        ...  ...                      ...   \n8119            c         b          y  ...                        s   \n8120            c         b          y  ...                        s   \n8121            c         b          n  ...                        s   \n8122            c         n          b  ...                        k   \n8123            c         b          y  ...                        s   \n\n     stalk-color-above-ring stalk-color-below-ring veil-type veil-color  \\\n0                         w                      w         p          w   \n1                         w                      w         p          w   \n2                         w                      w         p          w   \n3                         w                      w         p          w   \n4                         w                      w         p          w   \n...                     ...                    ...       ...        ...   \n8119                      o                      o         p          o   \n8120                      o                      o         p          n   \n8121                      o                      o         p          o   \n8122                      w                      w         p          w   \n8123                      o                      o         p          o   \n\n     ring-number ring-type spore-print-color population habitat  \n0              o         p                 k          s       u  \n1              o         p                 n          n       g  \n2              o         p                 n          n       m  \n3              o         p                 k          s       u  \n4              o         e                 n          a       g  \n...          ...       ...               ...        ...     ...  \n8119           o         p                 b          c       l  \n8120           o         p                 b          v       l  \n8121           o         p                 b          c       l  \n8122           o         e                 w          v       l  \n8123           o         p                 o          c       l  \n\n[8124 rows x 23 columns]",
            "text/html": "<div>\n<style scoped>\n    .dataframe tbody tr th:only-of-type {\n        vertical-align: middle;\n    }\n\n    .dataframe tbody tr th {\n        vertical-align: top;\n    }\n\n    .dataframe thead th {\n        text-align: right;\n    }\n</style>\n<table border=\"1\" class=\"dataframe\">\n  <thead>\n    <tr style=\"text-align: right;\">\n      <th></th>\n      <th>class</th>\n      <th>cap-shape</th>\n      <th>cap-surface</th>\n      <th>cap-color</th>\n      <th>bruises</th>\n      <th>odor</th>\n      <th>gill-attachment</th>\n      <th>gill-spacing</th>\n      <th>gill-size</th>\n      <th>gill-color</th>\n      <th>...</th>\n      <th>stalk-surface-below-ring</th>\n      <th>stalk-color-above-ring</th>\n      <th>stalk-color-below-ring</th>\n      <th>veil-type</th>\n      <th>veil-color</th>\n      <th>ring-number</th>\n      <th>ring-type</th>\n      <th>spore-print-color</th>\n      <th>population</th>\n      <th>habitat</th>\n    </tr>\n  </thead>\n  <tbody>\n    <tr>\n      <th>0</th>\n      <td>p</td>\n      <td>x</td>\n      <td>s</td>\n      <td>n</td>\n      <td>t</td>\n      <td>p</td>\n      <td>f</td>\n      <td>c</td>\n      <td>n</td>\n      <td>k</td>\n      <td>...</td>\n      <td>s</td>\n      <td>w</td>\n      <td>w</td>\n      <td>p</td>\n      <td>w</td>\n      <td>o</td>\n      <td>p</td>\n      <td>k</td>\n      <td>s</td>\n      <td>u</td>\n    </tr>\n    <tr>\n      <th>1</th>\n      <td>e</td>\n      <td>x</td>\n      <td>s</td>\n      <td>y</td>\n      <td>t</td>\n      <td>a</td>\n      <td>f</td>\n      <td>c</td>\n      <td>b</td>\n      <td>k</td>\n      <td>...</td>\n      <td>s</td>\n      <td>w</td>\n      <td>w</td>\n      <td>p</td>\n      <td>w</td>\n      <td>o</td>\n      <td>p</td>\n      <td>n</td>\n      <td>n</td>\n      <td>g</td>\n    </tr>\n    <tr>\n      <th>2</th>\n      <td>e</td>\n      <td>b</td>\n      <td>s</td>\n      <td>w</td>\n      <td>t</td>\n      <td>l</td>\n      <td>f</td>\n      <td>c</td>\n      <td>b</td>\n      <td>n</td>\n      <td>...</td>\n      <td>s</td>\n      <td>w</td>\n      <td>w</td>\n      <td>p</td>\n      <td>w</td>\n      <td>o</td>\n      <td>p</td>\n      <td>n</td>\n      <td>n</td>\n      <td>m</td>\n    </tr>\n    <tr>\n      <th>3</th>\n      <td>p</td>\n      <td>x</td>\n      <td>y</td>\n      <td>w</td>\n      <td>t</td>\n      <td>p</td>\n      <td>f</td>\n      <td>c</td>\n      <td>n</td>\n      <td>n</td>\n      <td>...</td>\n      <td>s</td>\n      <td>w</td>\n      <td>w</td>\n      <td>p</td>\n      <td>w</td>\n      <td>o</td>\n      <td>p</td>\n      <td>k</td>\n      <td>s</td>\n      <td>u</td>\n    </tr>\n    <tr>\n      <th>4</th>\n      <td>e</td>\n      <td>x</td>\n      <td>s</td>\n      <td>g</td>\n      <td>f</td>\n      <td>n</td>\n      <td>f</td>\n      <td>w</td>\n      <td>b</td>\n      <td>k</td>\n      <td>...</td>\n      <td>s</td>\n      <td>w</td>\n      <td>w</td>\n      <td>p</td>\n      <td>w</td>\n      <td>o</td>\n      <td>e</td>\n      <td>n</td>\n      <td>a</td>\n      <td>g</td>\n    </tr>\n    <tr>\n      <th>...</th>\n      <td>...</td>\n      <td>...</td>\n      <td>...</td>\n      <td>...</td>\n      <td>...</td>\n      <td>...</td>\n      <td>...</td>\n      <td>...</td>\n      <td>...</td>\n      <td>...</td>\n      <td>...</td>\n      <td>...</td>\n      <td>...</td>\n      <td>...</td>\n      <td>...</td>\n      <td>...</td>\n      <td>...</td>\n      <td>...</td>\n      <td>...</td>\n      <td>...</td>\n      <td>...</td>\n    </tr>\n    <tr>\n      <th>8119</th>\n      <td>e</td>\n      <td>k</td>\n      <td>s</td>\n      <td>n</td>\n      <td>f</td>\n      <td>n</td>\n      <td>a</td>\n      <td>c</td>\n      <td>b</td>\n      <td>y</td>\n      <td>...</td>\n      <td>s</td>\n      <td>o</td>\n      <td>o</td>\n      <td>p</td>\n      <td>o</td>\n      <td>o</td>\n      <td>p</td>\n      <td>b</td>\n      <td>c</td>\n      <td>l</td>\n    </tr>\n    <tr>\n      <th>8120</th>\n      <td>e</td>\n      <td>x</td>\n      <td>s</td>\n      <td>n</td>\n      <td>f</td>\n      <td>n</td>\n      <td>a</td>\n      <td>c</td>\n      <td>b</td>\n      <td>y</td>\n      <td>...</td>\n      <td>s</td>\n      <td>o</td>\n      <td>o</td>\n      <td>p</td>\n      <td>n</td>\n      <td>o</td>\n      <td>p</td>\n      <td>b</td>\n      <td>v</td>\n      <td>l</td>\n    </tr>\n    <tr>\n      <th>8121</th>\n      <td>e</td>\n      <td>f</td>\n      <td>s</td>\n      <td>n</td>\n      <td>f</td>\n      <td>n</td>\n      <td>a</td>\n      <td>c</td>\n      <td>b</td>\n      <td>n</td>\n      <td>...</td>\n      <td>s</td>\n      <td>o</td>\n      <td>o</td>\n      <td>p</td>\n      <td>o</td>\n      <td>o</td>\n      <td>p</td>\n      <td>b</td>\n      <td>c</td>\n      <td>l</td>\n    </tr>\n    <tr>\n      <th>8122</th>\n      <td>p</td>\n      <td>k</td>\n      <td>y</td>\n      <td>n</td>\n      <td>f</td>\n      <td>y</td>\n      <td>f</td>\n      <td>c</td>\n      <td>n</td>\n      <td>b</td>\n      <td>...</td>\n      <td>k</td>\n      <td>w</td>\n      <td>w</td>\n      <td>p</td>\n      <td>w</td>\n      <td>o</td>\n      <td>e</td>\n      <td>w</td>\n      <td>v</td>\n      <td>l</td>\n    </tr>\n    <tr>\n      <th>8123</th>\n      <td>e</td>\n      <td>x</td>\n      <td>s</td>\n      <td>n</td>\n      <td>f</td>\n      <td>n</td>\n      <td>a</td>\n      <td>c</td>\n      <td>b</td>\n      <td>y</td>\n      <td>...</td>\n      <td>s</td>\n      <td>o</td>\n      <td>o</td>\n      <td>p</td>\n      <td>o</td>\n      <td>o</td>\n      <td>p</td>\n      <td>o</td>\n      <td>c</td>\n      <td>l</td>\n    </tr>\n  </tbody>\n</table>\n<p>8124 rows × 23 columns</p>\n</div>"
          },
          "metadata": {}
        }
      ],
      "execution_count": 1,
      "metadata": {
        "collapsed": true,
        "jupyter": {
          "outputs_hidden": true
        },
        "execution": {
          "iopub.status.busy": "2020-07-14T03:34:15.014Z",
          "iopub.execute_input": "2020-07-14T03:34:15.038Z",
          "iopub.status.idle": "2020-07-14T03:34:16.017Z",
          "shell.execute_reply": "2020-07-14T03:34:16.110Z"
        }
      }
    },
    {
      "cell_type": "code",
      "source": [
        "mush_df_encoded = pd.get_dummies(mush_df)\n",
        "mush_df_encoded"
      ],
      "outputs": [
        {
          "output_type": "execute_result",
          "execution_count": 2,
          "data": {
            "text/plain": "      class_e  class_p  cap-shape_b  cap-shape_c  cap-shape_f  cap-shape_k  \\\n0           0        1            0            0            0            0   \n1           1        0            0            0            0            0   \n2           1        0            1            0            0            0   \n3           0        1            0            0            0            0   \n4           1        0            0            0            0            0   \n...       ...      ...          ...          ...          ...          ...   \n8119        1        0            0            0            0            1   \n8120        1        0            0            0            0            0   \n8121        1        0            0            0            1            0   \n8122        0        1            0            0            0            1   \n8123        1        0            0            0            0            0   \n\n      cap-shape_s  cap-shape_x  cap-surface_f  cap-surface_g  ...  \\\n0               0            1              0              0  ...   \n1               0            1              0              0  ...   \n2               0            0              0              0  ...   \n3               0            1              0              0  ...   \n4               0            1              0              0  ...   \n...           ...          ...            ...            ...  ...   \n8119            0            0              0              0  ...   \n8120            0            1              0              0  ...   \n8121            0            0              0              0  ...   \n8122            0            0              0              0  ...   \n8123            0            1              0              0  ...   \n\n      population_s  population_v  population_y  habitat_d  habitat_g  \\\n0                1             0             0          0          0   \n1                0             0             0          0          1   \n2                0             0             0          0          0   \n3                1             0             0          0          0   \n4                0             0             0          0          1   \n...            ...           ...           ...        ...        ...   \n8119             0             0             0          0          0   \n8120             0             1             0          0          0   \n8121             0             0             0          0          0   \n8122             0             1             0          0          0   \n8123             0             0             0          0          0   \n\n      habitat_l  habitat_m  habitat_p  habitat_u  habitat_w  \n0             0          0          0          1          0  \n1             0          0          0          0          0  \n2             0          1          0          0          0  \n3             0          0          0          1          0  \n4             0          0          0          0          0  \n...         ...        ...        ...        ...        ...  \n8119          1          0          0          0          0  \n8120          1          0          0          0          0  \n8121          1          0          0          0          0  \n8122          1          0          0          0          0  \n8123          1          0          0          0          0  \n\n[8124 rows x 119 columns]",
            "text/html": "<div>\n<style scoped>\n    .dataframe tbody tr th:only-of-type {\n        vertical-align: middle;\n    }\n\n    .dataframe tbody tr th {\n        vertical-align: top;\n    }\n\n    .dataframe thead th {\n        text-align: right;\n    }\n</style>\n<table border=\"1\" class=\"dataframe\">\n  <thead>\n    <tr style=\"text-align: right;\">\n      <th></th>\n      <th>class_e</th>\n      <th>class_p</th>\n      <th>cap-shape_b</th>\n      <th>cap-shape_c</th>\n      <th>cap-shape_f</th>\n      <th>cap-shape_k</th>\n      <th>cap-shape_s</th>\n      <th>cap-shape_x</th>\n      <th>cap-surface_f</th>\n      <th>cap-surface_g</th>\n      <th>...</th>\n      <th>population_s</th>\n      <th>population_v</th>\n      <th>population_y</th>\n      <th>habitat_d</th>\n      <th>habitat_g</th>\n      <th>habitat_l</th>\n      <th>habitat_m</th>\n      <th>habitat_p</th>\n      <th>habitat_u</th>\n      <th>habitat_w</th>\n    </tr>\n  </thead>\n  <tbody>\n    <tr>\n      <th>0</th>\n      <td>0</td>\n      <td>1</td>\n      <td>0</td>\n      <td>0</td>\n      <td>0</td>\n      <td>0</td>\n      <td>0</td>\n      <td>1</td>\n      <td>0</td>\n      <td>0</td>\n      <td>...</td>\n      <td>1</td>\n      <td>0</td>\n      <td>0</td>\n      <td>0</td>\n      <td>0</td>\n      <td>0</td>\n      <td>0</td>\n      <td>0</td>\n      <td>1</td>\n      <td>0</td>\n    </tr>\n    <tr>\n      <th>1</th>\n      <td>1</td>\n      <td>0</td>\n      <td>0</td>\n      <td>0</td>\n      <td>0</td>\n      <td>0</td>\n      <td>0</td>\n      <td>1</td>\n      <td>0</td>\n      <td>0</td>\n      <td>...</td>\n      <td>0</td>\n      <td>0</td>\n      <td>0</td>\n      <td>0</td>\n      <td>1</td>\n      <td>0</td>\n      <td>0</td>\n      <td>0</td>\n      <td>0</td>\n      <td>0</td>\n    </tr>\n    <tr>\n      <th>2</th>\n      <td>1</td>\n      <td>0</td>\n      <td>1</td>\n      <td>0</td>\n      <td>0</td>\n      <td>0</td>\n      <td>0</td>\n      <td>0</td>\n      <td>0</td>\n      <td>0</td>\n      <td>...</td>\n      <td>0</td>\n      <td>0</td>\n      <td>0</td>\n      <td>0</td>\n      <td>0</td>\n      <td>0</td>\n      <td>1</td>\n      <td>0</td>\n      <td>0</td>\n      <td>0</td>\n    </tr>\n    <tr>\n      <th>3</th>\n      <td>0</td>\n      <td>1</td>\n      <td>0</td>\n      <td>0</td>\n      <td>0</td>\n      <td>0</td>\n      <td>0</td>\n      <td>1</td>\n      <td>0</td>\n      <td>0</td>\n      <td>...</td>\n      <td>1</td>\n      <td>0</td>\n      <td>0</td>\n      <td>0</td>\n      <td>0</td>\n      <td>0</td>\n      <td>0</td>\n      <td>0</td>\n      <td>1</td>\n      <td>0</td>\n    </tr>\n    <tr>\n      <th>4</th>\n      <td>1</td>\n      <td>0</td>\n      <td>0</td>\n      <td>0</td>\n      <td>0</td>\n      <td>0</td>\n      <td>0</td>\n      <td>1</td>\n      <td>0</td>\n      <td>0</td>\n      <td>...</td>\n      <td>0</td>\n      <td>0</td>\n      <td>0</td>\n      <td>0</td>\n      <td>1</td>\n      <td>0</td>\n      <td>0</td>\n      <td>0</td>\n      <td>0</td>\n      <td>0</td>\n    </tr>\n    <tr>\n      <th>...</th>\n      <td>...</td>\n      <td>...</td>\n      <td>...</td>\n      <td>...</td>\n      <td>...</td>\n      <td>...</td>\n      <td>...</td>\n      <td>...</td>\n      <td>...</td>\n      <td>...</td>\n      <td>...</td>\n      <td>...</td>\n      <td>...</td>\n      <td>...</td>\n      <td>...</td>\n      <td>...</td>\n      <td>...</td>\n      <td>...</td>\n      <td>...</td>\n      <td>...</td>\n      <td>...</td>\n    </tr>\n    <tr>\n      <th>8119</th>\n      <td>1</td>\n      <td>0</td>\n      <td>0</td>\n      <td>0</td>\n      <td>0</td>\n      <td>1</td>\n      <td>0</td>\n      <td>0</td>\n      <td>0</td>\n      <td>0</td>\n      <td>...</td>\n      <td>0</td>\n      <td>0</td>\n      <td>0</td>\n      <td>0</td>\n      <td>0</td>\n      <td>1</td>\n      <td>0</td>\n      <td>0</td>\n      <td>0</td>\n      <td>0</td>\n    </tr>\n    <tr>\n      <th>8120</th>\n      <td>1</td>\n      <td>0</td>\n      <td>0</td>\n      <td>0</td>\n      <td>0</td>\n      <td>0</td>\n      <td>0</td>\n      <td>1</td>\n      <td>0</td>\n      <td>0</td>\n      <td>...</td>\n      <td>0</td>\n      <td>1</td>\n      <td>0</td>\n      <td>0</td>\n      <td>0</td>\n      <td>1</td>\n      <td>0</td>\n      <td>0</td>\n      <td>0</td>\n      <td>0</td>\n    </tr>\n    <tr>\n      <th>8121</th>\n      <td>1</td>\n      <td>0</td>\n      <td>0</td>\n      <td>0</td>\n      <td>1</td>\n      <td>0</td>\n      <td>0</td>\n      <td>0</td>\n      <td>0</td>\n      <td>0</td>\n      <td>...</td>\n      <td>0</td>\n      <td>0</td>\n      <td>0</td>\n      <td>0</td>\n      <td>0</td>\n      <td>1</td>\n      <td>0</td>\n      <td>0</td>\n      <td>0</td>\n      <td>0</td>\n    </tr>\n    <tr>\n      <th>8122</th>\n      <td>0</td>\n      <td>1</td>\n      <td>0</td>\n      <td>0</td>\n      <td>0</td>\n      <td>1</td>\n      <td>0</td>\n      <td>0</td>\n      <td>0</td>\n      <td>0</td>\n      <td>...</td>\n      <td>0</td>\n      <td>1</td>\n      <td>0</td>\n      <td>0</td>\n      <td>0</td>\n      <td>1</td>\n      <td>0</td>\n      <td>0</td>\n      <td>0</td>\n      <td>0</td>\n    </tr>\n    <tr>\n      <th>8123</th>\n      <td>1</td>\n      <td>0</td>\n      <td>0</td>\n      <td>0</td>\n      <td>0</td>\n      <td>0</td>\n      <td>0</td>\n      <td>1</td>\n      <td>0</td>\n      <td>0</td>\n      <td>...</td>\n      <td>0</td>\n      <td>0</td>\n      <td>0</td>\n      <td>0</td>\n      <td>0</td>\n      <td>1</td>\n      <td>0</td>\n      <td>0</td>\n      <td>0</td>\n      <td>0</td>\n    </tr>\n  </tbody>\n</table>\n<p>8124 rows × 119 columns</p>\n</div>"
          },
          "metadata": {}
        }
      ],
      "execution_count": 2,
      "metadata": {
        "collapsed": true,
        "jupyter": {
          "outputs_hidden": true
        },
        "execution": {
          "iopub.status.busy": "2020-07-14T03:34:16.039Z",
          "iopub.execute_input": "2020-07-14T03:34:16.057Z",
          "iopub.status.idle": "2020-07-14T03:34:16.180Z",
          "shell.execute_reply": "2020-07-14T03:34:16.214Z"
        }
      }
    },
    {
      "cell_type": "code",
      "source": [
        "X_mush = mush_df_encoded.iloc[:,2:]\n",
        "y_mush = mush_df_encoded.iloc[:,1]"
      ],
      "outputs": [],
      "execution_count": 3,
      "metadata": {
        "collapsed": false,
        "jupyter": {
          "outputs_hidden": false
        },
        "execution": {
          "iopub.status.busy": "2020-07-14T03:34:21.501Z",
          "iopub.execute_input": "2020-07-14T03:34:21.510Z",
          "iopub.status.idle": "2020-07-14T03:34:21.526Z",
          "shell.execute_reply": "2020-07-14T03:34:21.541Z"
        }
      }
    },
    {
      "cell_type": "code",
      "source": [
        "X_mush.head()"
      ],
      "outputs": [
        {
          "output_type": "execute_result",
          "execution_count": 4,
          "data": {
            "text/plain": "   cap-shape_b  cap-shape_c  cap-shape_f  cap-shape_k  cap-shape_s  \\\n0            0            0            0            0            0   \n1            0            0            0            0            0   \n2            1            0            0            0            0   \n3            0            0            0            0            0   \n4            0            0            0            0            0   \n\n   cap-shape_x  cap-surface_f  cap-surface_g  cap-surface_s  cap-surface_y  \\\n0            1              0              0              1              0   \n1            1              0              0              1              0   \n2            0              0              0              1              0   \n3            1              0              0              0              1   \n4            1              0              0              1              0   \n\n   ...  population_s  population_v  population_y  habitat_d  habitat_g  \\\n0  ...             1             0             0          0          0   \n1  ...             0             0             0          0          1   \n2  ...             0             0             0          0          0   \n3  ...             1             0             0          0          0   \n4  ...             0             0             0          0          1   \n\n   habitat_l  habitat_m  habitat_p  habitat_u  habitat_w  \n0          0          0          0          1          0  \n1          0          0          0          0          0  \n2          0          1          0          0          0  \n3          0          0          0          1          0  \n4          0          0          0          0          0  \n\n[5 rows x 117 columns]",
            "text/html": "<div>\n<style scoped>\n    .dataframe tbody tr th:only-of-type {\n        vertical-align: middle;\n    }\n\n    .dataframe tbody tr th {\n        vertical-align: top;\n    }\n\n    .dataframe thead th {\n        text-align: right;\n    }\n</style>\n<table border=\"1\" class=\"dataframe\">\n  <thead>\n    <tr style=\"text-align: right;\">\n      <th></th>\n      <th>cap-shape_b</th>\n      <th>cap-shape_c</th>\n      <th>cap-shape_f</th>\n      <th>cap-shape_k</th>\n      <th>cap-shape_s</th>\n      <th>cap-shape_x</th>\n      <th>cap-surface_f</th>\n      <th>cap-surface_g</th>\n      <th>cap-surface_s</th>\n      <th>cap-surface_y</th>\n      <th>...</th>\n      <th>population_s</th>\n      <th>population_v</th>\n      <th>population_y</th>\n      <th>habitat_d</th>\n      <th>habitat_g</th>\n      <th>habitat_l</th>\n      <th>habitat_m</th>\n      <th>habitat_p</th>\n      <th>habitat_u</th>\n      <th>habitat_w</th>\n    </tr>\n  </thead>\n  <tbody>\n    <tr>\n      <th>0</th>\n      <td>0</td>\n      <td>0</td>\n      <td>0</td>\n      <td>0</td>\n      <td>0</td>\n      <td>1</td>\n      <td>0</td>\n      <td>0</td>\n      <td>1</td>\n      <td>0</td>\n      <td>...</td>\n      <td>1</td>\n      <td>0</td>\n      <td>0</td>\n      <td>0</td>\n      <td>0</td>\n      <td>0</td>\n      <td>0</td>\n      <td>0</td>\n      <td>1</td>\n      <td>0</td>\n    </tr>\n    <tr>\n      <th>1</th>\n      <td>0</td>\n      <td>0</td>\n      <td>0</td>\n      <td>0</td>\n      <td>0</td>\n      <td>1</td>\n      <td>0</td>\n      <td>0</td>\n      <td>1</td>\n      <td>0</td>\n      <td>...</td>\n      <td>0</td>\n      <td>0</td>\n      <td>0</td>\n      <td>0</td>\n      <td>1</td>\n      <td>0</td>\n      <td>0</td>\n      <td>0</td>\n      <td>0</td>\n      <td>0</td>\n    </tr>\n    <tr>\n      <th>2</th>\n      <td>1</td>\n      <td>0</td>\n      <td>0</td>\n      <td>0</td>\n      <td>0</td>\n      <td>0</td>\n      <td>0</td>\n      <td>0</td>\n      <td>1</td>\n      <td>0</td>\n      <td>...</td>\n      <td>0</td>\n      <td>0</td>\n      <td>0</td>\n      <td>0</td>\n      <td>0</td>\n      <td>0</td>\n      <td>1</td>\n      <td>0</td>\n      <td>0</td>\n      <td>0</td>\n    </tr>\n    <tr>\n      <th>3</th>\n      <td>0</td>\n      <td>0</td>\n      <td>0</td>\n      <td>0</td>\n      <td>0</td>\n      <td>1</td>\n      <td>0</td>\n      <td>0</td>\n      <td>0</td>\n      <td>1</td>\n      <td>...</td>\n      <td>1</td>\n      <td>0</td>\n      <td>0</td>\n      <td>0</td>\n      <td>0</td>\n      <td>0</td>\n      <td>0</td>\n      <td>0</td>\n      <td>1</td>\n      <td>0</td>\n    </tr>\n    <tr>\n      <th>4</th>\n      <td>0</td>\n      <td>0</td>\n      <td>0</td>\n      <td>0</td>\n      <td>0</td>\n      <td>1</td>\n      <td>0</td>\n      <td>0</td>\n      <td>1</td>\n      <td>0</td>\n      <td>...</td>\n      <td>0</td>\n      <td>0</td>\n      <td>0</td>\n      <td>0</td>\n      <td>1</td>\n      <td>0</td>\n      <td>0</td>\n      <td>0</td>\n      <td>0</td>\n      <td>0</td>\n    </tr>\n  </tbody>\n</table>\n<p>5 rows × 117 columns</p>\n</div>"
          },
          "metadata": {}
        }
      ],
      "execution_count": 4,
      "metadata": {
        "execution": {
          "iopub.status.busy": "2020-07-14T03:34:25.980Z",
          "iopub.execute_input": "2020-07-14T03:34:25.990Z",
          "iopub.status.idle": "2020-07-14T03:34:26.013Z",
          "shell.execute_reply": "2020-07-14T03:34:26.058Z"
        }
      }
    },
    {
      "cell_type": "code",
      "source": [
        "y_mush.head()"
      ],
      "outputs": [
        {
          "output_type": "execute_result",
          "execution_count": 5,
          "data": {
            "text/plain": "0    1\n1    0\n2    0\n3    1\n4    0\nName: class_p, dtype: uint8"
          },
          "metadata": {}
        }
      ],
      "execution_count": 5,
      "metadata": {
        "execution": {
          "iopub.status.busy": "2020-07-14T03:34:29.125Z",
          "iopub.execute_input": "2020-07-14T03:34:29.139Z",
          "iopub.status.idle": "2020-07-14T03:34:29.176Z",
          "shell.execute_reply": "2020-07-14T03:34:29.193Z"
        }
      }
    },
    {
      "cell_type": "code",
      "source": [
        "from sklearn.svm import SVC\n",
        "from sklearn.model_selection import validation_curve"
      ],
      "outputs": [],
      "execution_count": 9,
      "metadata": {
        "collapsed": false,
        "jupyter": {
          "outputs_hidden": false
        }
      }
    },
    {
      "cell_type": "markdown",
      "source": [
        "* If you Data is `Linearly Separable` we use Linear Kernal(LR,KNN,DT,NB)\n",
        "* if you Data is Non-Linearly Separable then we have to Use Kernal is SVM('rbf','linear','polynomial','sigmoid').\n",
        "**or**\n",
        "* if you Data is Non-Linearly Separable then we can Convert them into linear Transformation we can apply(LR,KNN,DT,NB).\n",
        "\n",
        "![](https://lh3.googleusercontent.com/-vuIFlxlno0U/Xw0ruoFLG5I/AAAAAAAApCY/09bYRBY5rbQcNq9KnPCJkgN9q9lKMA-6gCK8BGAsYHg/s0/2020-07-13.png)\n"
      ],
      "metadata": {
        "nteract": {
          "transient": {
            "deleting": false
          }
        }
      }
    },
    {
      "cell_type": "code",
      "source": [
        "np.logspace(-4, 1, 7)"
      ],
      "outputs": [
        {
          "output_type": "execute_result",
          "execution_count": 7,
          "data": {
            "text/plain": "array([1.00000000e-04, 6.81292069e-04, 4.64158883e-03, 3.16227766e-02,\n       2.15443469e-01, 1.46779927e+00, 1.00000000e+01])"
          },
          "metadata": {}
        }
      ],
      "execution_count": 7,
      "metadata": {
        "collapsed": true,
        "jupyter": {
          "source_hidden": false,
          "outputs_hidden": false
        },
        "nteract": {
          "transient": {
            "deleting": false
          }
        },
        "execution": {
          "iopub.status.busy": "2020-07-14T03:43:02.642Z",
          "iopub.execute_input": "2020-07-14T03:43:02.665Z",
          "iopub.status.idle": "2020-07-14T03:43:02.736Z",
          "shell.execute_reply": "2020-07-14T03:43:02.758Z"
        }
      }
    },
    {
      "cell_type": "code",
      "source": [
        "def getTrainingAndTestScores():\n",
        "    train_scores, valid_scores = validation_curve(SVC(kernel='rbf', C=1, random_state=0), X_mush, y_mush,\n",
        "                                                  param_name=\"gamma\",\n",
        "                                                  scoring=\"accuracy\"\n",
        "                                                  param_range=np.logspace(-4, 1, 6),\n",
        "                                                  verbose=3)\n",
        "    train_scores = np.mean(train_scores, axis=1)\n",
        "    valid_scores = np.mean(valid_scores, axis=1)\n",
        "    return (train_scores, valid_scores)\n",
        "\n",
        "training, test = getTrainingAndTestScores()"
      ],
      "outputs": [
        {
          "output_type": "stream",
          "name": "stderr",
          "text": [
            "[Parallel(n_jobs=1)]: Using backend SequentialBackend with 1 concurrent workers.\n"
          ]
        },
        {
          "output_type": "stream",
          "name": "stdout",
          "text": [
            "[CV] gamma=0.0001 ....................................................\n",
            "[CV] .... gamma=0.0001, score=(train=0.939, test=0.730), total=   4.9s\n",
            "[CV] gamma=0.001 .....................................................\n"
          ]
        },
        {
          "output_type": "stream",
          "name": "stderr",
          "text": [
            "[Parallel(n_jobs=1)]: Done   1 out of   1 | elapsed:    8.0s remaining:    0.0s\n"
          ]
        },
        {
          "output_type": "stream",
          "name": "stdout",
          "text": [
            "[CV] ..... gamma=0.001, score=(train=0.979, test=0.733), total=   1.3s\n",
            "[CV] gamma=0.01 ......................................................\n"
          ]
        },
        {
          "output_type": "stream",
          "name": "stderr",
          "text": [
            "[Parallel(n_jobs=1)]: Done   2 out of   2 | elapsed:   10.2s remaining:    0.0s\n"
          ]
        },
        {
          "output_type": "stream",
          "name": "stdout",
          "text": [
            "[CV] ...... gamma=0.01, score=(train=0.998, test=0.786), total=   0.7s\n",
            "[CV] gamma=0.1 .......................................................\n",
            "[CV] ....... gamma=0.1, score=(train=1.000, test=0.842), total=   2.1s\n",
            "[CV] gamma=1.0 .......................................................\n",
            "[CV] ....... gamma=1.0, score=(train=1.000, test=0.810), total=  12.0s\n",
            "[CV] gamma=10.0 ......................................................\n",
            "[CV] ...... gamma=10.0, score=(train=1.000, test=0.518), total=   9.3s\n",
            "[CV] gamma=0.0001 ....................................................\n",
            "[CV] .... gamma=0.0001, score=(train=0.876, test=0.971), total=   6.2s\n",
            "[CV] gamma=0.001 .....................................................\n",
            "[CV] ..... gamma=0.001, score=(train=0.982, test=0.993), total=   2.7s\n",
            "[CV] gamma=0.01 ......................................................\n",
            "[CV] ...... gamma=0.01, score=(train=0.999, test=0.999), total=   0.7s\n",
            "[CV] gamma=0.1 .......................................................\n",
            "[CV] ....... gamma=0.1, score=(train=1.000, test=1.000), total=   2.5s\n",
            "[CV] gamma=1.0 .......................................................\n",
            "[CV] ....... gamma=1.0, score=(train=1.000, test=1.000), total=   9.5s\n",
            "[CV] gamma=10.0 ......................................................\n",
            "[CV] ...... gamma=10.0, score=(train=1.000, test=0.518), total=   8.2s\n",
            "[CV] gamma=0.0001 ....................................................\n",
            "[CV] .... gamma=0.0001, score=(train=0.922, test=0.806), total=   5.3s\n",
            "[CV] gamma=0.001 .....................................................\n",
            "[CV] ..... gamma=0.001, score=(train=0.983, test=0.856), total=   1.6s\n",
            "[CV] gamma=0.01 ......................................................\n",
            "[CV] ...... gamma=0.01, score=(train=0.998, test=0.945), total=   0.6s\n",
            "[CV] gamma=0.1 .......................................................\n",
            "[CV] ....... gamma=0.1, score=(train=1.000, test=0.996), total=   2.4s\n",
            "[CV] gamma=1.0 .......................................................\n",
            "[CV] ....... gamma=1.0, score=(train=1.000, test=0.957), total=   8.7s\n",
            "[CV] gamma=10.0 ......................................................\n",
            "[CV] ...... gamma=10.0, score=(train=1.000, test=0.518), total=   8.2s\n",
            "[CV] gamma=0.0001 ....................................................\n",
            "[CV] .... gamma=0.0001, score=(train=0.872, test=0.999), total=   5.8s\n",
            "[CV] gamma=0.001 .....................................................\n",
            "[CV] ..... gamma=0.001, score=(train=0.982, test=1.000), total=   1.9s\n",
            "[CV] gamma=0.01 ......................................................\n",
            "[CV] ...... gamma=0.01, score=(train=0.999, test=1.000), total=   0.8s\n",
            "[CV] gamma=0.1 .......................................................\n",
            "[CV] ....... gamma=0.1, score=(train=1.000, test=1.000), total=   2.5s\n",
            "[CV] gamma=1.0 .......................................................\n",
            "[CV] ....... gamma=1.0, score=(train=1.000, test=1.000), total=   8.9s\n",
            "[CV] gamma=10.0 ......................................................\n",
            "[CV] ...... gamma=10.0, score=(train=1.000, test=0.518), total=   8.2s\n",
            "[CV] gamma=0.0001 ....................................................\n",
            "[CV] .... gamma=0.0001, score=(train=0.883, test=0.932), total=   5.1s\n",
            "[CV] gamma=0.001 .....................................................\n",
            "[CV] ..... gamma=0.001, score=(train=0.988, test=0.627), total=   1.6s\n",
            "[CV] gamma=0.01 ......................................................\n",
            "[CV] ...... gamma=0.01, score=(train=1.000, test=0.540), total=   0.6s\n",
            "[CV] gamma=0.1 .......................................................\n",
            "[CV] ....... gamma=0.1, score=(train=1.000, test=0.631), total=   2.2s\n",
            "[CV] gamma=1.0 .......................................................\n",
            "[CV] ....... gamma=1.0, score=(train=1.000, test=0.513), total=   8.3s\n",
            "[CV] gamma=10.0 ......................................................\n",
            "[CV] ...... gamma=10.0, score=(train=1.000, test=0.518), total=   8.6s\n"
          ]
        },
        {
          "output_type": "stream",
          "name": "stderr",
          "text": [
            "[Parallel(n_jobs=1)]: Done  30 out of  30 | elapsed:  3.9min finished\n"
          ]
        }
      ],
      "execution_count": 15,
      "metadata": {}
    },
    {
      "cell_type": "code",
      "source": [
        "print(\"Training Score: \")\n",
        "print(training)\n",
        "print(\"Testing  scores: \")\n",
        "print(test)\n",
        "print(\"on Different Gamma\")\n",
        "print(np.logspace(-4, 1, 6))"
      ],
      "outputs": [
        {
          "output_type": "stream",
          "name": "stdout",
          "text": [
            "Training Score: \n",
            "[0.89826487 0.98270541 0.99858441 1.         1.         1.        ]\n",
            "Testing  scores: \n",
            "[0.88749928 0.84192338 0.85422031 0.89386222 0.85594005 0.51797143]\n",
            "on Different Gamma\n",
            "[1.e-04 1.e-03 1.e-02 1.e-01 1.e+00 1.e+01]\n"
          ]
        }
      ],
      "execution_count": 16,
      "metadata": {
        "collapsed": false,
        "jupyter": {
          "outputs_hidden": false
        }
      }
    },
    {
      "cell_type": "code",
      "source": [
        "def getGammaValues():\n",
        "    gamma = np.logspace(-4, 1, 6)\n",
        "    return (gamma[0], gamma[5], gamma[3])\n",
        "\n",
        "underfit, overfit, good_generalization = getGammaValues()\n",
        "\n",
        "print(\"Underfitting value\")\n",
        "print(underfit)\n",
        "print(\"Overfitting value\")\n",
        "print(overfit)\n",
        "print(\"Good fit\")\n",
        "print(good_generalization)"
      ],
      "outputs": [
        {
          "output_type": "stream",
          "name": "stdout",
          "text": [
            "Underfitting value\n",
            "0.0001\n",
            "Overfitting value\n",
            "10.0\n",
            "Good fit\n",
            "0.1\n"
          ]
        }
      ],
      "execution_count": 8,
      "metadata": {
        "collapsed": false,
        "jupyter": {
          "outputs_hidden": false
        },
        "execution": {
          "iopub.status.busy": "2020-07-14T03:53:44.778Z",
          "iopub.execute_input": "2020-07-14T03:53:44.795Z",
          "iopub.status.idle": "2020-07-14T03:53:44.824Z",
          "shell.execute_reply": "2020-07-14T03:53:44.838Z"
        }
      }
    }
  ],
  "metadata": {
    "coursera": {
      "course_slug": "python-machine-learning",
      "graded_item_id": "eWYHL",
      "launcher_item_id": "BAqef",
      "part_id": "fXXRp"
    },
    "kernelspec": {
      "display_name": "Python 3",
      "language": "python",
      "name": "python3"
    },
    "language_info": {
      "name": "python",
      "version": "3.6.8",
      "mimetype": "text/x-python",
      "codemirror_mode": {
        "name": "ipython",
        "version": 3
      },
      "pygments_lexer": "ipython3",
      "nbconvert_exporter": "python",
      "file_extension": ".py"
    },
    "nteract": {
      "version": "0.24.0"
    }
  },
  "nbformat": 4,
  "nbformat_minor": 4
}