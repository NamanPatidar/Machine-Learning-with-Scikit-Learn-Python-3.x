{
 "cells": [
  {
   "cell_type": "markdown",
   "metadata": {},
   "source": [
    "A confusion matrix is a table that is often used to describe the performance of a classification model (or \"classifier\") on a set of test data for which the true values are known. The confusion matrix itself is relatively simple to understand, but the related terminology can be confusing.\n",
    "\n",
    "I wanted to create a \"quick reference guide\" for confusion matrix terminology because I couldn't find an existing resource that suited my requirements: compact in presentation, using numbers instead of arbitrary variables, and explained both in terms of formulas and sentences.\n",
    "\n",
    "Let's start with an example confusion matrix for a binary classifier (though it can easily be extended to the case of more than two classes):\n",
    "\n",
    "Example confusion matrix for a binary classifier\n",
    "\n",
    "![](images/confusion_matrix_simple2.png)"
   ]
  },
  {
   "cell_type": "markdown",
   "metadata": {},
   "source": [
    "### What can we learn from this matrix?\n",
    "\n",
    "* There are two possible predicted classes: \"yes\" and \"no\". If we were predicting the presence of a disease, for example, \"yes\" would mean they have the disease, and \"no\" would mean they don't have the disease.\n",
    "* The classifier made a total of 165 predictions (e.g., 165 patients were being tested for the presence of that disease).\n",
    "* Out of those 165 cases, the classifier predicted \"yes\" 110 times, and \"no\" 55 times.\n",
    "* In reality, 105 patients in the sample have the disease, and 60 patients do not."
   ]
  },
  {
   "cell_type": "markdown",
   "metadata": {},
   "source": [
    "Let's now define the most basic terms, which are whole numbers (not rates):\n",
    "\n",
    "* **true positives (TP):** These are cases in which we predicted yes (they have the disease), and they do have the disease.\n",
    "* **true negatives (TN):** We predicted no, and they don't have the disease.\n",
    "* **false positives (FP):** We predicted yes, but they don't actually have the disease. (Also known as a \"Type I error.\")\n",
    "* **false negatives (FN):** We predicted no, but they actually do have the disease. (Also known as a \"Type II error.\")\n",
    "\n",
    "I've added these terms to the confusion matrix, and also added the row and column totals:\n",
    "![](images/confusion_matrix2.png)"
   ]
  },
  {
   "cell_type": "markdown",
   "metadata": {},
   "source": [
    "This is a list of rates that are often computed from a confusion matrix for a binary classifier:\n",
    "\n",
    "* **Accuracy:** Overall, how often is the classifier correct?\n",
    "        * (TP+TN)/total = (100+50)/165 = 0.91\n",
    "* **Misclassification Rate:** Overall, how often is it wrong?\n",
    "        * (FP+FN)/total = (10+5)/165 = 0.09\n",
    "        * equivalent to 1 minus Accuracy \n",
    "        * also known as \"Error Rate\"\n",
    "* **True Positive Rate:** When it's actually yes, how often does it predict yes?\n",
    "        * TP/actual yes = 100/105 = 0.95\n",
    "        * also known as \"Sensitivity\" or \"Recall\"\n",
    "* **False Positive Rate:** When it's actually no, how often does it predict yes?\n",
    "        * FP/actual no = 10/60 = 0.17\n",
    "* **True Negative Rate:** When it's actually no, how often does it predict no?\n",
    "        * TN/actual no = 50/60 = 0.83\n",
    "        * equivalent to 1 minus False Positive Rate\n",
    "        * also known as \"Specificity\"\n",
    "* **Precision:** When it predicts yes, how often is it correct?\n",
    "        * TP/predicted yes = 100/110 = 0.91\n",
    "* **Prevalence:** How often does the yes condition actually occur in our sample?\n",
    "        * actual yes/total = 105/165 = 0.64"
   ]
  },
  {
   "cell_type": "code",
   "execution_count": 32,
   "metadata": {},
   "outputs": [],
   "source": [
    "from sklearn.metrics import confusion_matrix,classification_report ,accuracy_score,jaccard_score\n",
    "import numpy as np "
   ]
  },
  {
   "cell_type": "code",
   "execution_count": 33,
   "metadata": {},
   "outputs": [],
   "source": [
    "actual = np.array([1, 1, 0, 1, 0, 0, 1, 0, 0, 0, 0])\n",
    "predicted = np.array([1, 0, 0, 1, 0, 0, 1, 1, 1, 0, 0] )"
   ]
  },
  {
   "cell_type": "markdown",
   "metadata": {},
   "source": [
    "* Actual Data \n",
    "    * \"Yes\" : 4\n",
    "    * \"No\"  : 7 \n",
    "* Predicated Data \n",
    "    * \"Yes\" : 5\n",
    "    * \"No\"  : 6"
   ]
  },
  {
   "cell_type": "code",
   "execution_count": 34,
   "metadata": {},
   "outputs": [
    {
     "data": {
      "text/plain": [
       "0.5"
      ]
     },
     "execution_count": 34,
     "metadata": {},
     "output_type": "execute_result"
    }
   ],
   "source": [
    "jaccard_score(actual,predicted) # 50 % of Data Is similar But invdule it different"
   ]
  },
  {
   "cell_type": "code",
   "execution_count": 26,
   "metadata": {},
   "outputs": [],
   "source": [
    "results = confusion_matrix(actual, predicted) "
   ]
  },
  {
   "cell_type": "code",
   "execution_count": 27,
   "metadata": {},
   "outputs": [
    {
     "name": "stdout",
     "output_type": "stream",
     "text": [
      "Confusion Matrix:\n",
      "[[5 2]\n",
      " [1 3]]\n"
     ]
    }
   ],
   "source": [
    "print('Confusion Matrix:')\n",
    "print(results)"
   ]
  },
  {
   "cell_type": "code",
   "execution_count": 43,
   "metadata": {
    "collapsed": true,
    "jupyter": {
     "outputs_hidden": true
    }
   },
   "outputs": [
    {
     "data": {
      "text/plain": [
       "<matplotlib.axes._subplots.AxesSubplot at 0x22be3ead080>"
      ]
     },
     "execution_count": 43,
     "metadata": {},
     "output_type": "execute_result"
    },
    {
     "data": {
      "image/png": "[encoded data removed]",
      "text/plain": [
       "<Figure size 432x288 with 2 Axes>"
      ]
     },
     "metadata": {
      "needs_background": "light"
     },
     "output_type": "display_data"
    }
   ],
   "source": [
    "import seaborn as sns\n",
    "sns.heatmap(results)"
   ]
  },
  {
   "cell_type": "code",
   "execution_count": 28,
   "metadata": {},
   "outputs": [],
   "source": [
    "TP = results[0,0]\n",
    "TN = results[0,1]\n",
    "FP = results[1,0]\n",
    "FN = results[1,1]"
   ]
  },
  {
   "cell_type": "code",
   "execution_count": 29,
   "metadata": {},
   "outputs": [
    {
     "name": "stdout",
     "output_type": "stream",
     "text": [
      "5 2 1 3\n"
     ]
    }
   ],
   "source": [
    "print(TP,TN,FP,FN)"
   ]
  },
  {
   "cell_type": "code",
   "execution_count": 30,
   "metadata": {},
   "outputs": [],
   "source": [
    "total = len(actual)"
   ]
  },
  {
   "cell_type": "code",
   "execution_count": 37,
   "metadata": {},
   "outputs": [
    {
     "data": {
      "text/plain": [
       "0.6363636363636364"
      ]
     },
     "execution_count": 37,
     "metadata": {},
     "output_type": "execute_result"
    }
   ],
   "source": [
    "acc = (TP+TN)/total  # Overall, how often is the classifier correct\n",
    "acc"
   ]
  },
  {
   "cell_type": "code",
   "execution_count": 39,
   "metadata": {},
   "outputs": [
    {
     "name": "stdout",
     "output_type": "stream",
     "text": [
      "Accuracy Score is a Overall, how often is the classifier correct : 0.7272727272727273\n"
     ]
    }
   ],
   "source": [
    "print('Accuracy Score is a Overall, how often is the classifier correct :',accuracy_score(actual, predicted)) # Because of Normilization"
   ]
  },
  {
   "cell_type": "code",
   "execution_count": 10,
   "metadata": {},
   "outputs": [
    {
     "name": "stdout",
     "output_type": "stream",
     "text": [
      "Report : \n",
      "              precision    recall  f1-score   support\n",
      "\n",
      "           0       0.80      0.67      0.73         6\n",
      "           1       0.60      0.75      0.67         4\n",
      "\n",
      "    accuracy                           0.70        10\n",
      "   macro avg       0.70      0.71      0.70        10\n",
      "weighted avg       0.72      0.70      0.70        10\n",
      "\n"
     ]
    }
   ],
   "source": [
    "print('Report : ')\n",
    "print(classification_report(actual, predicted))"
   ]
  },
  {
   "cell_type": "markdown",
   "metadata": {},
   "source": [
    "![](https://lh3.googleusercontent.com/-wcAWI8mtuG4/Xu2EmAsug_I/AAAAAAAAorM/QGgoFya5O9A9_5g71P81kQpof2a1k8EUwCK8BGAsYHg/s0/2020-06-19.png)"
   ]
  },
  {
   "cell_type": "code",
   "execution_count": 42,
   "metadata": {},
   "outputs": [
    {
     "name": "stdout",
     "output_type": "stream",
     "text": [
      "How often does the yes condition actually occur in our sample:\n",
      "[0.09090909 0.09090909 0.         0.09090909 0.         0.\n",
      " 0.09090909 0.         0.         0.         0.        ]\n"
     ]
    }
   ],
   "source": [
    "Prevalence = actual/total\n",
    "print(\"How often does the yes condition actually occur in our sample:\")\n",
    "print(Prevalence)"
   ]
  },
  {
   "cell_type": "code",
   "execution_count": 50,
   "metadata": {},
   "outputs": [
    {
     "name": "stdout",
     "output_type": "stream",
     "text": [
      "When it predicts yes, how often is it correct 2.0\n"
     ]
    }
   ],
   "source": [
    "Precision = TP/TP+FP\n",
    "print(\"When it predicts yes, how often is it correct\",Precision)"
   ]
  }
 ],
 "metadata": {
  "kernelspec": {
   "display_name": "Python 3",
   "language": "python",
   "name": "python3"
  },
  "language_info": {
   "codemirror_mode": {
    "name": "ipython",
    "version": 3
   },
   "file_extension": ".py",
   "mimetype": "text/x-python",
   "name": "python",
   "nbconvert_exporter": "python",
   "pygments_lexer": "ipython3",
   "version": "3.6.8"
  }
 },
 "nbformat": 4,
 "nbformat_minor": 4
}
