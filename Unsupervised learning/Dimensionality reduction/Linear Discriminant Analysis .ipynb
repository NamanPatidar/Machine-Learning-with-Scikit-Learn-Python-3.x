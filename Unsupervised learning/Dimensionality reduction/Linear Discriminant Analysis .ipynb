{
 "cells": [
  {
   "cell_type": "markdown",
   "metadata": {},
   "source": [
    "### Linear Discriminant Analysis (LDA)\n",
    "Linear Discriminant Analysis (LDA) is most commonly used as dimensionality reduction technique in the pre-processing step for pattern-classification and machine learning applications. The goal is to project a dataset onto a lower-dimensional space with good class-separability in order avoid overfitting (“curse of dimensionality”) and also reduce computational costs.\n",
    "\n",
    "##### Principal Component Analysis vs. Linear Discriminant Analysis\n",
    "Both Linear Discriminant Analysis (LDA) and Principal Component Analysis (PCA) are linear transformation techniques that are commonly used for dimensionality reduction. PCA can be described as an “unsupervised” algorithm, since it “ignores” class labels and its goal is to find the directions (the so-called principal components) that maximize the variance in a dataset. In contrast to PCA, LDA is “supervised” and computes the directions (“linear discriminants”) that will represent the axes that that maximize the separation between multiple classes.\n",
    "\n",
    "Although it might sound intuitive that LDA is superior to PCA for a multi-class classification task where the class labels are known, this might not always the case.\n",
    "For example, comparisons between classification accuracies for image recognition after using PCA or LDA show that PCA tends to outperform LDA if the number of samples per class is relatively small (PCA vs. LDA, A.M. Martinez et al., 2001). In practice, it is also not uncommon to use both LDA and PCA in combination: E.g., PCA for dimensionality reduction followed by an LDA.\n",
    "\n",
    "![](https://sebastianraschka.com/images/blog/2014/linear-discriminant-analysis/lda_1.png)"
   ]
  },
  {
   "cell_type": "markdown",
   "metadata": {},
   "source": [
    "<p>Listed below are the 5 general steps for performing a linear discriminant analysis; we will explore them in more detail in the following sections.</p>\n",
    "<ol>\n",
    "  <li>Compute the <span class=\"MathJax_Preview\" style=\"color: inherit; display: none;\"></span><span class=\"MathJax\" id=\"MathJax-Element-11-Frame\" tabindex=\"0\" data-mathml=\"<math xmlns=&quot;http://www.w3.org/1998/Math/MathML&quot;><mi>d</mi></math>\" role=\"presentation\" style=\"position: relative;\"><nobr aria-hidden=\"true\"><span class=\"math\" id=\"MathJax-Span-56\" style=\"width: 0.628em; display: inline-block;\"><span style=\"display: inline-block; position: relative; width: 0.523em; height: 0px; font-size: 120%;\"><span style=\"position: absolute; clip: rect(1.305em, 1000.52em, 2.294em, -999.997em); top: -2.133em; left: 0em;\"><span class=\"mrow\" id=\"MathJax-Span-57\"><span class=\"mi\" id=\"MathJax-Span-58\" style=\"font-family: MathJax_Math-italic;\">d<span style=\"display: inline-block; overflow: hidden; height: 1px; width: 0.003em;\"></span></span></span><span style=\"display: inline-block; width: 0px; height: 2.138em;\"></span></span></span><span style=\"display: inline-block; overflow: hidden; vertical-align: -0.059em; border-left: 0px solid; width: 0px; height: 1.003em;\"></span></span></nobr><span class=\"MJX_Assistive_MathML\" role=\"presentation\"><math xmlns=\"http://www.w3.org/1998/Math/MathML\"><mi>d</mi></math></span></span><script type=\"math/tex\" id=\"MathJax-Element-11\">d</script>-dimensional mean vectors for the different classes from the dataset.</li>\n",
    "  <li>Compute the scatter matrices (in-between-class and within-class scatter matrix).</li>\n",
    "  <li>Compute the eigenvectors (<span class=\"MathJax_Preview\" style=\"color: inherit; display: none;\"></span><span class=\"MathJax\" id=\"MathJax-Element-12-Frame\" tabindex=\"0\" data-mathml=\"<math xmlns=&quot;http://www.w3.org/1998/Math/MathML&quot;><mrow class=&quot;MJX-TeXAtom-ORD&quot;><mpadded width=&quot;0&quot;><mi>e</mi></mpadded></mrow><mspace width=&quot;1px&quot; /><msub><mrow class=&quot;MJX-TeXAtom-ORD&quot;><mi>e</mi></mrow><mn>1</mn></msub><mo>,</mo><mspace width=&quot;thickmathspace&quot; /><mrow class=&quot;MJX-TeXAtom-ORD&quot;><mpadded width=&quot;0&quot;><mi>e</mi></mpadded></mrow><mspace width=&quot;1px&quot; /><msub><mrow class=&quot;MJX-TeXAtom-ORD&quot;><mi>e</mi></mrow><mn>2</mn></msub><mo>,</mo><mspace width=&quot;thickmathspace&quot; /><mo>.</mo><mo>.</mo><mo>.</mo><mo>,</mo><mspace width=&quot;thickmathspace&quot; /><mrow class=&quot;MJX-TeXAtom-ORD&quot;><mpadded width=&quot;0&quot;><mi>e</mi></mpadded></mrow><mspace width=&quot;1px&quot; /><msub><mrow class=&quot;MJX-TeXAtom-ORD&quot;><mi>e</mi></mrow><mi>d</mi></msub></math>\" role=\"presentation\" style=\"position: relative;\"><nobr aria-hidden=\"true\"><span class=\"math\" id=\"MathJax-Span-59\" style=\"width: 7.503em; display: inline-block;\"><span style=\"display: inline-block; position: relative; width: 6.253em; height: 0px; font-size: 120%;\"><span style=\"position: absolute; clip: rect(1.617em, 1006.25em, 2.555em, -999.997em); top: -2.185em; left: 0em;\"><span class=\"mrow\" id=\"MathJax-Span-60\"><span class=\"texatom\" id=\"MathJax-Span-61\"><span class=\"mrow\" id=\"MathJax-Span-62\"><span class=\"mpadded\" id=\"MathJax-Span-63\"><span style=\"display: inline-block; position: relative; width: 0em; height: 0px;\"><span style=\"position: absolute; clip: rect(3.44em, 1000.42em, 4.169em, -999.997em); top: -4.008em; left: 0em;\"><span class=\"mrow\" id=\"MathJax-Span-64\"><span class=\"mi\" id=\"MathJax-Span-65\" style=\"font-family: MathJax_Math-italic;\">e</span></span><span style=\"display: inline-block; width: 0px; height: 4.013em;\"></span></span></span></span></span></span><span class=\"mspace\" id=\"MathJax-Span-66\" style=\"height: 0em; vertical-align: 0em; width: 0.055em; display: inline-block; overflow: hidden;\"></span><span class=\"msubsup\" id=\"MathJax-Span-67\"><span style=\"display: inline-block; position: relative; width: 0.888em; height: 0px;\"><span style=\"position: absolute; clip: rect(3.44em, 1000.42em, 4.169em, -999.997em); top: -4.008em; left: 0em;\"><span class=\"texatom\" id=\"MathJax-Span-68\"><span class=\"mrow\" id=\"MathJax-Span-69\"><span class=\"mi\" id=\"MathJax-Span-70\" style=\"font-family: MathJax_Math-italic;\">e</span></span></span><span style=\"display: inline-block; width: 0px; height: 4.013em;\"></span></span><span style=\"position: absolute; top: -3.852em; left: 0.471em;\"><span class=\"mn\" id=\"MathJax-Span-71\" style=\"font-size: 70.7%; font-family: MathJax_Main;\">1</span><span style=\"display: inline-block; width: 0px; height: 4.013em;\"></span></span></span></span><span class=\"mo\" id=\"MathJax-Span-72\" style=\"font-family: MathJax_Main;\">,</span><span class=\"mspace\" id=\"MathJax-Span-73\" style=\"height: 0em; vertical-align: 0em; width: 0.263em; display: inline-block; overflow: hidden;\"></span><span class=\"texatom\" id=\"MathJax-Span-74\" style=\"padding-left: 0.159em;\"><span class=\"mrow\" id=\"MathJax-Span-75\"><span class=\"mpadded\" id=\"MathJax-Span-76\"><span style=\"display: inline-block; position: relative; width: 0em; height: 0px;\"><span style=\"position: absolute; clip: rect(3.44em, 1000.42em, 4.169em, -999.997em); top: -4.008em; left: 0em;\"><span class=\"mrow\" id=\"MathJax-Span-77\"><span class=\"mi\" id=\"MathJax-Span-78\" style=\"font-family: MathJax_Math-italic;\">e</span></span><span style=\"display: inline-block; width: 0px; height: 4.013em;\"></span></span></span></span></span></span><span class=\"mspace\" id=\"MathJax-Span-79\" style=\"height: 0em; vertical-align: 0em; width: 0.055em; display: inline-block; overflow: hidden;\"></span><span class=\"msubsup\" id=\"MathJax-Span-80\"><span style=\"display: inline-block; position: relative; width: 0.888em; height: 0px;\"><span style=\"position: absolute; clip: rect(3.44em, 1000.42em, 4.169em, -999.997em); top: -4.008em; left: 0em;\"><span class=\"texatom\" id=\"MathJax-Span-81\"><span class=\"mrow\" id=\"MathJax-Span-82\"><span class=\"mi\" id=\"MathJax-Span-83\" style=\"font-family: MathJax_Math-italic;\">e</span></span></span><span style=\"display: inline-block; width: 0px; height: 4.013em;\"></span></span><span style=\"position: absolute; top: -3.852em; left: 0.471em;\"><span class=\"mn\" id=\"MathJax-Span-84\" style=\"font-size: 70.7%; font-family: MathJax_Main;\">2</span><span style=\"display: inline-block; width: 0px; height: 4.013em;\"></span></span></span></span><span class=\"mo\" id=\"MathJax-Span-85\" style=\"font-family: MathJax_Main;\">,</span><span class=\"mspace\" id=\"MathJax-Span-86\" style=\"height: 0em; vertical-align: 0em; width: 0.263em; display: inline-block; overflow: hidden;\"></span><span class=\"mo\" id=\"MathJax-Span-87\" style=\"font-family: MathJax_Main; padding-left: 0.159em;\">.</span><span class=\"mo\" id=\"MathJax-Span-88\" style=\"font-family: MathJax_Main; padding-left: 0.159em;\">.</span><span class=\"mo\" id=\"MathJax-Span-89\" style=\"font-family: MathJax_Main; padding-left: 0.159em;\">.</span><span class=\"mo\" id=\"MathJax-Span-90\" style=\"font-family: MathJax_Main; padding-left: 0.159em;\">,</span><span class=\"mspace\" id=\"MathJax-Span-91\" style=\"height: 0em; vertical-align: 0em; width: 0.263em; display: inline-block; overflow: hidden;\"></span><span class=\"texatom\" id=\"MathJax-Span-92\" style=\"padding-left: 0.159em;\"><span class=\"mrow\" id=\"MathJax-Span-93\"><span class=\"mpadded\" id=\"MathJax-Span-94\"><span style=\"display: inline-block; position: relative; width: 0em; height: 0px;\"><span style=\"position: absolute; clip: rect(3.44em, 1000.42em, 4.169em, -999.997em); top: -4.008em; left: 0em;\"><span class=\"mrow\" id=\"MathJax-Span-95\"><span class=\"mi\" id=\"MathJax-Span-96\" style=\"font-family: MathJax_Math-italic;\">e</span></span><span style=\"display: inline-block; width: 0px; height: 4.013em;\"></span></span></span></span></span></span><span class=\"mspace\" id=\"MathJax-Span-97\" style=\"height: 0em; vertical-align: 0em; width: 0.055em; display: inline-block; overflow: hidden;\"></span><span class=\"msubsup\" id=\"MathJax-Span-98\"><span style=\"display: inline-block; position: relative; width: 0.888em; height: 0px;\"><span style=\"position: absolute; clip: rect(3.44em, 1000.42em, 4.169em, -999.997em); top: -4.008em; left: 0em;\"><span class=\"texatom\" id=\"MathJax-Span-99\"><span class=\"mrow\" id=\"MathJax-Span-100\"><span class=\"mi\" id=\"MathJax-Span-101\" style=\"font-family: MathJax_Math-italic;\">e</span></span></span><span style=\"display: inline-block; width: 0px; height: 4.013em;\"></span></span><span style=\"position: absolute; top: -3.852em; left: 0.471em;\"><span class=\"mi\" id=\"MathJax-Span-102\" style=\"font-size: 70.7%; font-family: MathJax_Math-italic;\">d<span style=\"display: inline-block; overflow: hidden; height: 1px; width: 0.003em;\"></span></span><span style=\"display: inline-block; width: 0px; height: 4.013em;\"></span></span></span></span></span><span style=\"display: inline-block; width: 0px; height: 2.19em;\"></span></span></span><span style=\"display: inline-block; overflow: hidden; vertical-align: -0.309em; border-left: 0px solid; width: 0px; height: 0.878em;\"></span></span></nobr><span class=\"MJX_Assistive_MathML\" role=\"presentation\"><math xmlns=\"http://www.w3.org/1998/Math/MathML\"><mrow class=\"MJX-TeXAtom-ORD\"><mpadded width=\"0\"><mi>e</mi></mpadded></mrow><mspace width=\"1px\"></mspace><msub><mrow class=\"MJX-TeXAtom-ORD\"><mi>e</mi></mrow><mn>1</mn></msub><mo>,</mo><mspace width=\"thickmathspace\"></mspace><mrow class=\"MJX-TeXAtom-ORD\"><mpadded width=\"0\"><mi>e</mi></mpadded></mrow><mspace width=\"1px\"></mspace><msub><mrow class=\"MJX-TeXAtom-ORD\"><mi>e</mi></mrow><mn>2</mn></msub><mo>,</mo><mspace width=\"thickmathspace\"></mspace><mo>.</mo><mo>.</mo><mo>.</mo><mo>,</mo><mspace width=\"thickmathspace\"></mspace><mrow class=\"MJX-TeXAtom-ORD\"><mpadded width=\"0\"><mi>e</mi></mpadded></mrow><mspace width=\"1px\"></mspace><msub><mrow class=\"MJX-TeXAtom-ORD\"><mi>e</mi></mrow><mi>d</mi></msub></math></span></span><script type=\"math/tex\" id=\"MathJax-Element-12\">\\pmb e_1, \\; \\pmb e_2, \\; ..., \\; \\pmb e_d</script>) and corresponding eigenvalues (<span class=\"MathJax_Preview\" style=\"color: inherit; display: none;\"></span><span class=\"MathJax\" id=\"MathJax-Element-13-Frame\" tabindex=\"0\" data-mathml=\"<math xmlns=&quot;http://www.w3.org/1998/Math/MathML&quot;><mrow class=&quot;MJX-TeXAtom-ORD&quot;><mpadded width=&quot;0&quot;><mi>&amp;#x03BB;</mi></mpadded></mrow><mspace width=&quot;1px&quot; /><msub><mrow class=&quot;MJX-TeXAtom-ORD&quot;><mi>&amp;#x03BB;</mi></mrow><mn>1</mn></msub><mo>,</mo><mspace width=&quot;thickmathspace&quot; /><mrow class=&quot;MJX-TeXAtom-ORD&quot;><mpadded width=&quot;0&quot;><mi>&amp;#x03BB;</mi></mpadded></mrow><mspace width=&quot;1px&quot; /><msub><mrow class=&quot;MJX-TeXAtom-ORD&quot;><mi>&amp;#x03BB;</mi></mrow><mn>2</mn></msub><mo>,</mo><mspace width=&quot;thickmathspace&quot; /><mo>.</mo><mo>.</mo><mo>.</mo><mo>,</mo><mspace width=&quot;thickmathspace&quot; /><mrow class=&quot;MJX-TeXAtom-ORD&quot;><mpadded width=&quot;0&quot;><mi>&amp;#x03BB;</mi></mpadded></mrow><mspace width=&quot;1px&quot; /><msub><mrow class=&quot;MJX-TeXAtom-ORD&quot;><mi>&amp;#x03BB;</mi></mrow><mi>d</mi></msub></math>\" role=\"presentation\" style=\"position: relative;\"><nobr aria-hidden=\"true\"><span class=\"math\" id=\"MathJax-Span-103\" style=\"width: 7.919em; display: inline-block;\"><span style=\"display: inline-block; position: relative; width: 6.565em; height: 0px; font-size: 120%;\"><span style=\"position: absolute; clip: rect(1.357em, 1006.57em, 2.555em, -999.997em); top: -2.185em; left: 0em;\"><span class=\"mrow\" id=\"MathJax-Span-104\"><span class=\"texatom\" id=\"MathJax-Span-105\"><span class=\"mrow\" id=\"MathJax-Span-106\"><span class=\"mpadded\" id=\"MathJax-Span-107\"><span style=\"display: inline-block; position: relative; width: 0em; height: 0px;\"><span style=\"position: absolute; clip: rect(3.18em, 1000.58em, 4.169em, -999.997em); top: -4.008em; left: 0em;\"><span class=\"mrow\" id=\"MathJax-Span-108\"><span class=\"mi\" id=\"MathJax-Span-109\" style=\"font-family: MathJax_Math-italic;\">λ</span></span><span style=\"display: inline-block; width: 0px; height: 4.013em;\"></span></span></span></span></span></span><span class=\"mspace\" id=\"MathJax-Span-110\" style=\"height: 0em; vertical-align: 0em; width: 0.055em; display: inline-block; overflow: hidden;\"></span><span class=\"msubsup\" id=\"MathJax-Span-111\"><span style=\"display: inline-block; position: relative; width: 0.992em; height: 0px;\"><span style=\"position: absolute; clip: rect(3.18em, 1000.58em, 4.169em, -999.997em); top: -4.008em; left: 0em;\"><span class=\"texatom\" id=\"MathJax-Span-112\"><span class=\"mrow\" id=\"MathJax-Span-113\"><span class=\"mi\" id=\"MathJax-Span-114\" style=\"font-family: MathJax_Math-italic;\">λ</span></span></span><span style=\"display: inline-block; width: 0px; height: 4.013em;\"></span></span><span style=\"position: absolute; top: -3.852em; left: 0.576em;\"><span class=\"mn\" id=\"MathJax-Span-115\" style=\"font-size: 70.7%; font-family: MathJax_Main;\">1</span><span style=\"display: inline-block; width: 0px; height: 4.013em;\"></span></span></span></span><span class=\"mo\" id=\"MathJax-Span-116\" style=\"font-family: MathJax_Main;\">,</span><span class=\"mspace\" id=\"MathJax-Span-117\" style=\"height: 0em; vertical-align: 0em; width: 0.263em; display: inline-block; overflow: hidden;\"></span><span class=\"texatom\" id=\"MathJax-Span-118\" style=\"padding-left: 0.159em;\"><span class=\"mrow\" id=\"MathJax-Span-119\"><span class=\"mpadded\" id=\"MathJax-Span-120\"><span style=\"display: inline-block; position: relative; width: 0em; height: 0px;\"><span style=\"position: absolute; clip: rect(3.18em, 1000.58em, 4.169em, -999.997em); top: -4.008em; left: 0em;\"><span class=\"mrow\" id=\"MathJax-Span-121\"><span class=\"mi\" id=\"MathJax-Span-122\" style=\"font-family: MathJax_Math-italic;\">λ</span></span><span style=\"display: inline-block; width: 0px; height: 4.013em;\"></span></span></span></span></span></span><span class=\"mspace\" id=\"MathJax-Span-123\" style=\"height: 0em; vertical-align: 0em; width: 0.055em; display: inline-block; overflow: hidden;\"></span><span class=\"msubsup\" id=\"MathJax-Span-124\"><span style=\"display: inline-block; position: relative; width: 0.992em; height: 0px;\"><span style=\"position: absolute; clip: rect(3.18em, 1000.58em, 4.169em, -999.997em); top: -4.008em; left: 0em;\"><span class=\"texatom\" id=\"MathJax-Span-125\"><span class=\"mrow\" id=\"MathJax-Span-126\"><span class=\"mi\" id=\"MathJax-Span-127\" style=\"font-family: MathJax_Math-italic;\">λ</span></span></span><span style=\"display: inline-block; width: 0px; height: 4.013em;\"></span></span><span style=\"position: absolute; top: -3.852em; left: 0.576em;\"><span class=\"mn\" id=\"MathJax-Span-128\" style=\"font-size: 70.7%; font-family: MathJax_Main;\">2</span><span style=\"display: inline-block; width: 0px; height: 4.013em;\"></span></span></span></span><span class=\"mo\" id=\"MathJax-Span-129\" style=\"font-family: MathJax_Main;\">,</span><span class=\"mspace\" id=\"MathJax-Span-130\" style=\"height: 0em; vertical-align: 0em; width: 0.263em; display: inline-block; overflow: hidden;\"></span><span class=\"mo\" id=\"MathJax-Span-131\" style=\"font-family: MathJax_Main; padding-left: 0.159em;\">.</span><span class=\"mo\" id=\"MathJax-Span-132\" style=\"font-family: MathJax_Main; padding-left: 0.159em;\">.</span><span class=\"mo\" id=\"MathJax-Span-133\" style=\"font-family: MathJax_Main; padding-left: 0.159em;\">.</span><span class=\"mo\" id=\"MathJax-Span-134\" style=\"font-family: MathJax_Main; padding-left: 0.159em;\">,</span><span class=\"mspace\" id=\"MathJax-Span-135\" style=\"height: 0em; vertical-align: 0em; width: 0.263em; display: inline-block; overflow: hidden;\"></span><span class=\"texatom\" id=\"MathJax-Span-136\" style=\"padding-left: 0.159em;\"><span class=\"mrow\" id=\"MathJax-Span-137\"><span class=\"mpadded\" id=\"MathJax-Span-138\"><span style=\"display: inline-block; position: relative; width: 0em; height: 0px;\"><span style=\"position: absolute; clip: rect(3.18em, 1000.58em, 4.169em, -999.997em); top: -4.008em; left: 0em;\"><span class=\"mrow\" id=\"MathJax-Span-139\"><span class=\"mi\" id=\"MathJax-Span-140\" style=\"font-family: MathJax_Math-italic;\">λ</span></span><span style=\"display: inline-block; width: 0px; height: 4.013em;\"></span></span></span></span></span></span><span class=\"mspace\" id=\"MathJax-Span-141\" style=\"height: 0em; vertical-align: 0em; width: 0.055em; display: inline-block; overflow: hidden;\"></span><span class=\"msubsup\" id=\"MathJax-Span-142\"><span style=\"display: inline-block; position: relative; width: 1.044em; height: 0px;\"><span style=\"position: absolute; clip: rect(3.18em, 1000.58em, 4.169em, -999.997em); top: -4.008em; left: 0em;\"><span class=\"texatom\" id=\"MathJax-Span-143\"><span class=\"mrow\" id=\"MathJax-Span-144\"><span class=\"mi\" id=\"MathJax-Span-145\" style=\"font-family: MathJax_Math-italic;\">λ</span></span></span><span style=\"display: inline-block; width: 0px; height: 4.013em;\"></span></span><span style=\"position: absolute; top: -3.852em; left: 0.576em;\"><span class=\"mi\" id=\"MathJax-Span-146\" style=\"font-size: 70.7%; font-family: MathJax_Math-italic;\">d<span style=\"display: inline-block; overflow: hidden; height: 1px; width: 0.003em;\"></span></span><span style=\"display: inline-block; width: 0px; height: 4.013em;\"></span></span></span></span></span><span style=\"display: inline-block; width: 0px; height: 2.19em;\"></span></span></span><span style=\"display: inline-block; overflow: hidden; vertical-align: -0.309em; border-left: 0px solid; width: 0px; height: 1.191em;\"></span></span></nobr><span class=\"MJX_Assistive_MathML\" role=\"presentation\"><math xmlns=\"http://www.w3.org/1998/Math/MathML\"><mrow class=\"MJX-TeXAtom-ORD\"><mpadded width=\"0\"><mi>λ</mi></mpadded></mrow><mspace width=\"1px\"></mspace><msub><mrow class=\"MJX-TeXAtom-ORD\"><mi>λ</mi></mrow><mn>1</mn></msub><mo>,</mo><mspace width=\"thickmathspace\"></mspace><mrow class=\"MJX-TeXAtom-ORD\"><mpadded width=\"0\"><mi>λ</mi></mpadded></mrow><mspace width=\"1px\"></mspace><msub><mrow class=\"MJX-TeXAtom-ORD\"><mi>λ</mi></mrow><mn>2</mn></msub><mo>,</mo><mspace width=\"thickmathspace\"></mspace><mo>.</mo><mo>.</mo><mo>.</mo><mo>,</mo><mspace width=\"thickmathspace\"></mspace><mrow class=\"MJX-TeXAtom-ORD\"><mpadded width=\"0\"><mi>λ</mi></mpadded></mrow><mspace width=\"1px\"></mspace><msub><mrow class=\"MJX-TeXAtom-ORD\"><mi>λ</mi></mrow><mi>d</mi></msub></math></span></span><script type=\"math/tex\" id=\"MathJax-Element-13\">\\pmb \\lambda_1, \\; \\pmb \\lambda_2, \\; ..., \\; \\pmb \\lambda_d</script>) for the scatter matrices.</li>\n",
    "  <li>Sort the eigenvectors by decreasing eigenvalues and choose <span class=\"MathJax_Preview\" style=\"color: inherit; display: none;\"></span><span class=\"MathJax\" id=\"MathJax-Element-14-Frame\" tabindex=\"0\" data-mathml=\"<math xmlns=&quot;http://www.w3.org/1998/Math/MathML&quot;><mi>k</mi></math>\" role=\"presentation\" style=\"position: relative;\"><nobr aria-hidden=\"true\"><span class=\"math\" id=\"MathJax-Span-147\" style=\"width: 0.628em; display: inline-block;\"><span style=\"display: inline-block; position: relative; width: 0.523em; height: 0px; font-size: 120%;\"><span style=\"position: absolute; clip: rect(1.305em, 1000.52em, 2.294em, -999.997em); top: -2.133em; left: 0em;\"><span class=\"mrow\" id=\"MathJax-Span-148\"><span class=\"mi\" id=\"MathJax-Span-149\" style=\"font-family: MathJax_Math-italic;\">k</span></span><span style=\"display: inline-block; width: 0px; height: 2.138em;\"></span></span></span><span style=\"display: inline-block; overflow: hidden; vertical-align: -0.059em; border-left: 0px solid; width: 0px; height: 1.003em;\"></span></span></nobr><span class=\"MJX_Assistive_MathML\" role=\"presentation\"><math xmlns=\"http://www.w3.org/1998/Math/MathML\"><mi>k</mi></math></span></span><script type=\"math/tex\" id=\"MathJax-Element-14\">k</script> eigenvectors with the largest eigenvalues to form a <span class=\"MathJax_Preview\" style=\"color: inherit; display: none;\"></span><span class=\"MathJax\" id=\"MathJax-Element-15-Frame\" tabindex=\"0\" data-mathml=\"<math xmlns=&quot;http://www.w3.org/1998/Math/MathML&quot;><mi>d</mi><mo>&amp;#x00D7;</mo><mi>k</mi></math>\" role=\"presentation\" style=\"position: relative;\"><nobr aria-hidden=\"true\"><span class=\"math\" id=\"MathJax-Span-150\" style=\"width: 2.711em; display: inline-block;\"><span style=\"display: inline-block; position: relative; width: 2.242em; height: 0px; font-size: 120%;\"><span style=\"position: absolute; clip: rect(1.357em, 1002.24em, 2.346em, -999.997em); top: -2.185em; left: 0em;\"><span class=\"mrow\" id=\"MathJax-Span-151\"><span class=\"mi\" id=\"MathJax-Span-152\" style=\"font-family: MathJax_Math-italic;\">d<span style=\"display: inline-block; overflow: hidden; height: 1px; width: 0.003em;\"></span></span><span class=\"mo\" id=\"MathJax-Span-153\" style=\"font-family: MathJax_Main; padding-left: 0.211em;\">×</span><span class=\"mi\" id=\"MathJax-Span-154\" style=\"font-family: MathJax_Math-italic; padding-left: 0.211em;\">k</span></span><span style=\"display: inline-block; width: 0px; height: 2.19em;\"></span></span></span><span style=\"display: inline-block; overflow: hidden; vertical-align: -0.059em; border-left: 0px solid; width: 0px; height: 1.003em;\"></span></span></nobr><span class=\"MJX_Assistive_MathML\" role=\"presentation\"><math xmlns=\"http://www.w3.org/1998/Math/MathML\"><mi>d</mi><mo>×</mo><mi>k</mi></math></span></span><script type=\"math/tex\" id=\"MathJax-Element-15\">d \\times k</script> dimensional matrix <span class=\"MathJax_Preview\" style=\"color: inherit; display: none;\"></span><span class=\"MathJax\" id=\"MathJax-Element-16-Frame\" tabindex=\"0\" data-mathml=\"<math xmlns=&quot;http://www.w3.org/1998/Math/MathML&quot;><mrow class=&quot;MJX-TeXAtom-ORD&quot;><mpadded width=&quot;0&quot;><mi>W</mi></mpadded></mrow><mspace width=&quot;1px&quot; /><mrow class=&quot;MJX-TeXAtom-ORD&quot;><mi>W</mi></mrow><mspace width=&quot;thickmathspace&quot; /></math>\" role=\"presentation\" style=\"position: relative;\"><nobr aria-hidden=\"true\"><span class=\"math\" id=\"MathJax-Span-155\" style=\"width: 1.669em; display: inline-block;\"><span style=\"display: inline-block; position: relative; width: 1.357em; height: 0px; font-size: 120%;\"><span style=\"position: absolute; clip: rect(1.305em, 1001.36em, 2.294em, -999.997em); top: -2.133em; left: 0em;\"><span class=\"mrow\" id=\"MathJax-Span-156\"><span class=\"texatom\" id=\"MathJax-Span-157\"><span class=\"mrow\" id=\"MathJax-Span-158\"><span class=\"mpadded\" id=\"MathJax-Span-159\"><span style=\"display: inline-block; position: relative; width: 0em; height: 0px;\"><span style=\"position: absolute; clip: rect(3.18em, 1001.04em, 4.169em, -999.997em); top: -4.008em; left: 0em;\"><span class=\"mrow\" id=\"MathJax-Span-160\"><span class=\"mi\" id=\"MathJax-Span-161\" style=\"font-family: MathJax_Math-italic;\">W<span style=\"display: inline-block; overflow: hidden; height: 1px; width: 0.107em;\"></span></span></span><span style=\"display: inline-block; width: 0px; height: 4.013em;\"></span></span></span></span></span></span><span class=\"mspace\" id=\"MathJax-Span-162\" style=\"height: 0em; vertical-align: 0em; width: 0.055em; display: inline-block; overflow: hidden;\"></span><span class=\"texatom\" id=\"MathJax-Span-163\"><span class=\"mrow\" id=\"MathJax-Span-164\"><span class=\"mi\" id=\"MathJax-Span-165\" style=\"font-family: MathJax_Math-italic;\">W<span style=\"display: inline-block; overflow: hidden; height: 1px; width: 0.107em;\"></span></span></span></span><span class=\"mspace\" id=\"MathJax-Span-166\" style=\"height: 0em; vertical-align: 0em; width: 0.263em; display: inline-block; overflow: hidden;\"></span></span><span style=\"display: inline-block; width: 0px; height: 2.138em;\"></span></span></span><span style=\"display: inline-block; overflow: hidden; vertical-align: -0.059em; border-left: 0px solid; width: 0px; height: 1.003em;\"></span></span></nobr><span class=\"MJX_Assistive_MathML\" role=\"presentation\"><math xmlns=\"http://www.w3.org/1998/Math/MathML\"><mrow class=\"MJX-TeXAtom-ORD\"><mpadded width=\"0\"><mi>W</mi></mpadded></mrow><mspace width=\"1px\"></mspace><mrow class=\"MJX-TeXAtom-ORD\"><mi>W</mi></mrow><mspace width=\"thickmathspace\"></mspace></math></span></span><script type=\"math/tex\" id=\"MathJax-Element-16\">\\pmb W\\;</script> (where every column represents an eigenvector).</li>\n",
    "  <li>Use this <span class=\"MathJax_Preview\" style=\"color: inherit; display: none;\"></span><span class=\"MathJax\" id=\"MathJax-Element-17-Frame\" tabindex=\"0\" data-mathml=\"<math xmlns=&quot;http://www.w3.org/1998/Math/MathML&quot;><mi>d</mi><mo>&amp;#x00D7;</mo><mi>k</mi></math>\" role=\"presentation\" style=\"position: relative;\"><nobr aria-hidden=\"true\"><span class=\"math\" id=\"MathJax-Span-167\" style=\"width: 2.711em; display: inline-block;\"><span style=\"display: inline-block; position: relative; width: 2.242em; height: 0px; font-size: 120%;\"><span style=\"position: absolute; clip: rect(1.357em, 1002.24em, 2.346em, -999.997em); top: -2.185em; left: 0em;\"><span class=\"mrow\" id=\"MathJax-Span-168\"><span class=\"mi\" id=\"MathJax-Span-169\" style=\"font-family: MathJax_Math-italic;\">d<span style=\"display: inline-block; overflow: hidden; height: 1px; width: 0.003em;\"></span></span><span class=\"mo\" id=\"MathJax-Span-170\" style=\"font-family: MathJax_Main; padding-left: 0.211em;\">×</span><span class=\"mi\" id=\"MathJax-Span-171\" style=\"font-family: MathJax_Math-italic; padding-left: 0.211em;\">k</span></span><span style=\"display: inline-block; width: 0px; height: 2.19em;\"></span></span></span><span style=\"display: inline-block; overflow: hidden; vertical-align: -0.059em; border-left: 0px solid; width: 0px; height: 1.003em;\"></span></span></nobr><span class=\"MJX_Assistive_MathML\" role=\"presentation\"><math xmlns=\"http://www.w3.org/1998/Math/MathML\"><mi>d</mi><mo>×</mo><mi>k</mi></math></span></span><script type=\"math/tex\" id=\"MathJax-Element-17\">d \\times k</script> eigenvector matrix to transform the samples onto the new subspace. This can be summarized by the matrix multiplication: <span class=\"MathJax_Preview\" style=\"color: inherit; display: none;\"></span><span class=\"MathJax\" id=\"MathJax-Element-18-Frame\" tabindex=\"0\" data-mathml=\"<math xmlns=&quot;http://www.w3.org/1998/Math/MathML&quot;><mrow class=&quot;MJX-TeXAtom-ORD&quot;><mpadded width=&quot;0&quot;><mi>Y</mi></mpadded></mrow><mspace width=&quot;1px&quot; /><mrow class=&quot;MJX-TeXAtom-ORD&quot;><mi>Y</mi></mrow><mo>=</mo><mrow class=&quot;MJX-TeXAtom-ORD&quot;><mpadded width=&quot;0&quot;><mi>X</mi></mpadded></mrow><mspace width=&quot;1px&quot; /><mrow class=&quot;MJX-TeXAtom-ORD&quot;><mi>X</mi></mrow><mo>&amp;#x00D7;</mo><mrow class=&quot;MJX-TeXAtom-ORD&quot;><mpadded width=&quot;0&quot;><mi>W</mi></mpadded></mrow><mspace width=&quot;1px&quot; /><mrow class=&quot;MJX-TeXAtom-ORD&quot;><mi>W</mi></mrow></math>\" role=\"presentation\" style=\"position: relative;\"><nobr aria-hidden=\"true\"><span class=\"math\" id=\"MathJax-Span-172\" style=\"width: 6.409em; display: inline-block;\"><span style=\"display: inline-block; position: relative; width: 5.315em; height: 0px; font-size: 120%;\"><span style=\"position: absolute; clip: rect(1.357em, 1005.32em, 2.346em, -999.997em); top: -2.185em; left: 0em;\"><span class=\"mrow\" id=\"MathJax-Span-173\"><span class=\"texatom\" id=\"MathJax-Span-174\"><span class=\"mrow\" id=\"MathJax-Span-175\"><span class=\"mpadded\" id=\"MathJax-Span-176\"><span style=\"display: inline-block; position: relative; width: 0em; height: 0px;\"><span style=\"position: absolute; clip: rect(3.18em, 1000.78em, 4.169em, -999.997em); top: -4.008em; left: 0em;\"><span class=\"mrow\" id=\"MathJax-Span-177\"><span class=\"mi\" id=\"MathJax-Span-178\" style=\"font-family: MathJax_Math-italic;\">Y<span style=\"display: inline-block; overflow: hidden; height: 1px; width: 0.159em;\"></span></span></span><span style=\"display: inline-block; width: 0px; height: 4.013em;\"></span></span></span></span></span></span><span class=\"mspace\" id=\"MathJax-Span-179\" style=\"height: 0em; vertical-align: 0em; width: 0.055em; display: inline-block; overflow: hidden;\"></span><span class=\"texatom\" id=\"MathJax-Span-180\"><span class=\"mrow\" id=\"MathJax-Span-181\"><span class=\"mi\" id=\"MathJax-Span-182\" style=\"font-family: MathJax_Math-italic;\">Y<span style=\"display: inline-block; overflow: hidden; height: 1px; width: 0.159em;\"></span></span></span></span><span class=\"mo\" id=\"MathJax-Span-183\" style=\"font-family: MathJax_Main; padding-left: 0.263em;\">=</span><span class=\"texatom\" id=\"MathJax-Span-184\" style=\"padding-left: 0.263em;\"><span class=\"mrow\" id=\"MathJax-Span-185\"><span class=\"mpadded\" id=\"MathJax-Span-186\"><span style=\"display: inline-block; position: relative; width: 0em; height: 0px;\"><span style=\"position: absolute; clip: rect(3.18em, 1000.84em, 4.169em, -999.997em); top: -4.008em; left: 0em;\"><span class=\"mrow\" id=\"MathJax-Span-187\"><span class=\"mi\" id=\"MathJax-Span-188\" style=\"font-family: MathJax_Math-italic;\">X<span style=\"display: inline-block; overflow: hidden; height: 1px; width: 0.003em;\"></span></span></span><span style=\"display: inline-block; width: 0px; height: 4.013em;\"></span></span></span></span></span></span><span class=\"mspace\" id=\"MathJax-Span-189\" style=\"height: 0em; vertical-align: 0em; width: 0.055em; display: inline-block; overflow: hidden;\"></span><span class=\"texatom\" id=\"MathJax-Span-190\"><span class=\"mrow\" id=\"MathJax-Span-191\"><span class=\"mi\" id=\"MathJax-Span-192\" style=\"font-family: MathJax_Math-italic;\">X<span style=\"display: inline-block; overflow: hidden; height: 1px; width: 0.003em;\"></span></span></span></span><span class=\"mo\" id=\"MathJax-Span-193\" style=\"font-family: MathJax_Main; padding-left: 0.211em;\">×</span><span class=\"texatom\" id=\"MathJax-Span-194\" style=\"padding-left: 0.211em;\"><span class=\"mrow\" id=\"MathJax-Span-195\"><span class=\"mpadded\" id=\"MathJax-Span-196\"><span style=\"display: inline-block; position: relative; width: 0em; height: 0px;\"><span style=\"position: absolute; clip: rect(3.18em, 1001.04em, 4.169em, -999.997em); top: -4.008em; left: 0em;\"><span class=\"mrow\" id=\"MathJax-Span-197\"><span class=\"mi\" id=\"MathJax-Span-198\" style=\"font-family: MathJax_Math-italic;\">W<span style=\"display: inline-block; overflow: hidden; height: 1px; width: 0.107em;\"></span></span></span><span style=\"display: inline-block; width: 0px; height: 4.013em;\"></span></span></span></span></span></span><span class=\"mspace\" id=\"MathJax-Span-199\" style=\"height: 0em; vertical-align: 0em; width: 0.055em; display: inline-block; overflow: hidden;\"></span><span class=\"texatom\" id=\"MathJax-Span-200\"><span class=\"mrow\" id=\"MathJax-Span-201\"><span class=\"mi\" id=\"MathJax-Span-202\" style=\"font-family: MathJax_Math-italic;\">W<span style=\"display: inline-block; overflow: hidden; height: 1px; width: 0.107em;\"></span></span></span></span></span><span style=\"display: inline-block; width: 0px; height: 2.19em;\"></span></span></span><span style=\"display: inline-block; overflow: hidden; vertical-align: -0.059em; border-left: 0px solid; width: 0px; height: 1.003em;\"></span></span></nobr><span class=\"MJX_Assistive_MathML\" role=\"presentation\"><math xmlns=\"http://www.w3.org/1998/Math/MathML\"><mrow class=\"MJX-TeXAtom-ORD\"><mpadded width=\"0\"><mi>Y</mi></mpadded></mrow><mspace width=\"1px\"></mspace><mrow class=\"MJX-TeXAtom-ORD\"><mi>Y</mi></mrow><mo>=</mo><mrow class=\"MJX-TeXAtom-ORD\"><mpadded width=\"0\"><mi>X</mi></mpadded></mrow><mspace width=\"1px\"></mspace><mrow class=\"MJX-TeXAtom-ORD\"><mi>X</mi></mrow><mo>×</mo><mrow class=\"MJX-TeXAtom-ORD\"><mpadded width=\"0\"><mi>W</mi></mpadded></mrow><mspace width=\"1px\"></mspace><mrow class=\"MJX-TeXAtom-ORD\"><mi>W</mi></mrow></math></span></span><script type=\"math/tex\" id=\"MathJax-Element-18\">\\pmb Y = \\pmb X \\times \\pmb W</script> (where <span class=\"MathJax_Preview\" style=\"color: inherit; display: none;\"></span><span class=\"MathJax\" id=\"MathJax-Element-19-Frame\" tabindex=\"0\" data-mathml=\"<math xmlns=&quot;http://www.w3.org/1998/Math/MathML&quot;><mrow class=&quot;MJX-TeXAtom-ORD&quot;><mpadded width=&quot;0&quot;><mi>X</mi></mpadded></mrow><mspace width=&quot;1px&quot; /><mrow class=&quot;MJX-TeXAtom-ORD&quot;><mi>X</mi></mrow></math>\" role=\"presentation\" style=\"position: relative;\"><nobr aria-hidden=\"true\"><span class=\"math\" id=\"MathJax-Span-203\" style=\"width: 1.096em; display: inline-block;\"><span style=\"display: inline-block; position: relative; width: 0.888em; height: 0px; font-size: 120%;\"><span style=\"position: absolute; clip: rect(1.305em, 1000.89em, 2.294em, -999.997em); top: -2.133em; left: 0em;\"><span class=\"mrow\" id=\"MathJax-Span-204\"><span class=\"texatom\" id=\"MathJax-Span-205\"><span class=\"mrow\" id=\"MathJax-Span-206\"><span class=\"mpadded\" id=\"MathJax-Span-207\"><span style=\"display: inline-block; position: relative; width: 0em; height: 0px;\"><span style=\"position: absolute; clip: rect(3.18em, 1000.84em, 4.169em, -999.997em); top: -4.008em; left: 0em;\"><span class=\"mrow\" id=\"MathJax-Span-208\"><span class=\"mi\" id=\"MathJax-Span-209\" style=\"font-family: MathJax_Math-italic;\">X<span style=\"display: inline-block; overflow: hidden; height: 1px; width: 0.003em;\"></span></span></span><span style=\"display: inline-block; width: 0px; height: 4.013em;\"></span></span></span></span></span></span><span class=\"mspace\" id=\"MathJax-Span-210\" style=\"height: 0em; vertical-align: 0em; width: 0.055em; display: inline-block; overflow: hidden;\"></span><span class=\"texatom\" id=\"MathJax-Span-211\"><span class=\"mrow\" id=\"MathJax-Span-212\"><span class=\"mi\" id=\"MathJax-Span-213\" style=\"font-family: MathJax_Math-italic;\">X<span style=\"display: inline-block; overflow: hidden; height: 1px; width: 0.003em;\"></span></span></span></span></span><span style=\"display: inline-block; width: 0px; height: 2.138em;\"></span></span></span><span style=\"display: inline-block; overflow: hidden; vertical-align: -0.059em; border-left: 0px solid; width: 0px; height: 0.941em;\"></span></span></nobr><span class=\"MJX_Assistive_MathML\" role=\"presentation\"><math xmlns=\"http://www.w3.org/1998/Math/MathML\"><mrow class=\"MJX-TeXAtom-ORD\"><mpadded width=\"0\"><mi>X</mi></mpadded></mrow><mspace width=\"1px\"></mspace><mrow class=\"MJX-TeXAtom-ORD\"><mi>X</mi></mrow></math></span></span><script type=\"math/tex\" id=\"MathJax-Element-19\">\\pmb X</script> is a <span class=\"MathJax_Preview\" style=\"color: inherit; display: none;\"></span><span class=\"MathJax\" id=\"MathJax-Element-20-Frame\" tabindex=\"0\" data-mathml=\"<math xmlns=&quot;http://www.w3.org/1998/Math/MathML&quot;><mi>n</mi><mo>&amp;#x00D7;</mo><mi>d</mi></math>\" role=\"presentation\" style=\"position: relative;\"><nobr aria-hidden=\"true\"><span class=\"math\" id=\"MathJax-Span-214\" style=\"width: 2.815em; display: inline-block;\"><span style=\"display: inline-block; position: relative; width: 2.346em; height: 0px; font-size: 120%;\"><span style=\"position: absolute; clip: rect(1.357em, 1002.35em, 2.346em, -999.997em); top: -2.185em; left: 0em;\"><span class=\"mrow\" id=\"MathJax-Span-215\"><span class=\"mi\" id=\"MathJax-Span-216\" style=\"font-family: MathJax_Math-italic;\">n</span><span class=\"mo\" id=\"MathJax-Span-217\" style=\"font-family: MathJax_Main; padding-left: 0.211em;\">×</span><span class=\"mi\" id=\"MathJax-Span-218\" style=\"font-family: MathJax_Math-italic; padding-left: 0.211em;\">d<span style=\"display: inline-block; overflow: hidden; height: 1px; width: 0.003em;\"></span></span></span><span style=\"display: inline-block; width: 0px; height: 2.19em;\"></span></span></span><span style=\"display: inline-block; overflow: hidden; vertical-align: -0.059em; border-left: 0px solid; width: 0px; height: 1.003em;\"></span></span></nobr><span class=\"MJX_Assistive_MathML\" role=\"presentation\"><math xmlns=\"http://www.w3.org/1998/Math/MathML\"><mi>n</mi><mo>×</mo><mi>d</mi></math></span></span><script type=\"math/tex\" id=\"MathJax-Element-20\">n \\times d</script>-dimensional matrix representing the <span class=\"MathJax_Preview\" style=\"color: inherit; display: none;\"></span><span class=\"MathJax\" id=\"MathJax-Element-21-Frame\" tabindex=\"0\" data-mathml=\"<math xmlns=&quot;http://www.w3.org/1998/Math/MathML&quot;><mi>n</mi></math>\" role=\"presentation\" style=\"position: relative;\"><nobr aria-hidden=\"true\"><span class=\"math\" id=\"MathJax-Span-219\" style=\"width: 0.732em; display: inline-block;\"><span style=\"display: inline-block; position: relative; width: 0.576em; height: 0px; font-size: 120%;\"><span style=\"position: absolute; clip: rect(1.565em, 1000.58em, 2.294em, -999.997em); top: -2.133em; left: 0em;\"><span class=\"mrow\" id=\"MathJax-Span-220\"><span class=\"mi\" id=\"MathJax-Span-221\" style=\"font-family: MathJax_Math-italic;\">n</span></span><span style=\"display: inline-block; width: 0px; height: 2.138em;\"></span></span></span><span style=\"display: inline-block; overflow: hidden; vertical-align: -0.059em; border-left: 0px solid; width: 0px; height: 0.691em;\"></span></span></nobr><span class=\"MJX_Assistive_MathML\" role=\"presentation\"><math xmlns=\"http://www.w3.org/1998/Math/MathML\"><mi>n</mi></math></span></span><script type=\"math/tex\" id=\"MathJax-Element-21\">n</script> samples, and <span class=\"MathJax_Preview\" style=\"color: inherit; display: none;\"></span><span class=\"MathJax\" id=\"MathJax-Element-22-Frame\" tabindex=\"0\" data-mathml=\"<math xmlns=&quot;http://www.w3.org/1998/Math/MathML&quot;><mrow class=&quot;MJX-TeXAtom-ORD&quot;><mpadded width=&quot;0&quot;><mi>y</mi></mpadded></mrow><mspace width=&quot;1px&quot; /><mrow class=&quot;MJX-TeXAtom-ORD&quot;><mi>y</mi></mrow></math>\" role=\"presentation\" style=\"position: relative;\"><nobr aria-hidden=\"true\"><span class=\"math\" id=\"MathJax-Span-222\" style=\"width: 0.628em; display: inline-block;\"><span style=\"display: inline-block; position: relative; width: 0.523em; height: 0px; font-size: 120%;\"><span style=\"position: absolute; clip: rect(1.565em, 1000.52em, 2.503em, -999.997em); top: -2.133em; left: 0em;\"><span class=\"mrow\" id=\"MathJax-Span-223\"><span class=\"texatom\" id=\"MathJax-Span-224\"><span class=\"mrow\" id=\"MathJax-Span-225\"><span class=\"mpadded\" id=\"MathJax-Span-226\"><span style=\"display: inline-block; position: relative; width: 0em; height: 0px;\"><span style=\"position: absolute; clip: rect(3.44em, 1000.52em, 4.378em, -999.997em); top: -4.008em; left: 0em;\"><span class=\"mrow\" id=\"MathJax-Span-227\"><span class=\"mi\" id=\"MathJax-Span-228\" style=\"font-family: MathJax_Math-italic;\">y<span style=\"display: inline-block; overflow: hidden; height: 1px; width: 0.003em;\"></span></span></span><span style=\"display: inline-block; width: 0px; height: 4.013em;\"></span></span></span></span></span></span><span class=\"mspace\" id=\"MathJax-Span-229\" style=\"height: 0em; vertical-align: 0em; width: 0.055em; display: inline-block; overflow: hidden;\"></span><span class=\"texatom\" id=\"MathJax-Span-230\"><span class=\"mrow\" id=\"MathJax-Span-231\"><span class=\"mi\" id=\"MathJax-Span-232\" style=\"font-family: MathJax_Math-italic;\">y<span style=\"display: inline-block; overflow: hidden; height: 1px; width: 0.003em;\"></span></span></span></span></span><span style=\"display: inline-block; width: 0px; height: 2.138em;\"></span></span></span><span style=\"display: inline-block; overflow: hidden; vertical-align: -0.309em; border-left: 0px solid; width: 0px; height: 0.878em;\"></span></span></nobr><span class=\"MJX_Assistive_MathML\" role=\"presentation\"><math xmlns=\"http://www.w3.org/1998/Math/MathML\"><mrow class=\"MJX-TeXAtom-ORD\"><mpadded width=\"0\"><mi>y</mi></mpadded></mrow><mspace width=\"1px\"></mspace><mrow class=\"MJX-TeXAtom-ORD\"><mi>y</mi></mrow></math></span></span><script type=\"math/tex\" id=\"MathJax-Element-22\">\\pmb y</script> are the transformed <span class=\"MathJax_Preview\" style=\"color: inherit; display: none;\"></span><span class=\"MathJax\" id=\"MathJax-Element-23-Frame\" tabindex=\"0\" data-mathml=\"<math xmlns=&quot;http://www.w3.org/1998/Math/MathML&quot;><mi>n</mi><mo>&amp;#x00D7;</mo><mi>k</mi></math>\" role=\"presentation\" style=\"position: relative;\"><nobr aria-hidden=\"true\"><span class=\"math\" id=\"MathJax-Span-233\" style=\"width: 2.815em; display: inline-block;\"><span style=\"display: inline-block; position: relative; width: 2.346em; height: 0px; font-size: 120%;\"><span style=\"position: absolute; clip: rect(1.357em, 1002.35em, 2.346em, -999.997em); top: -2.185em; left: 0em;\"><span class=\"mrow\" id=\"MathJax-Span-234\"><span class=\"mi\" id=\"MathJax-Span-235\" style=\"font-family: MathJax_Math-italic;\">n</span><span class=\"mo\" id=\"MathJax-Span-236\" style=\"font-family: MathJax_Main; padding-left: 0.211em;\">×</span><span class=\"mi\" id=\"MathJax-Span-237\" style=\"font-family: MathJax_Math-italic; padding-left: 0.211em;\">k</span></span><span style=\"display: inline-block; width: 0px; height: 2.19em;\"></span></span></span><span style=\"display: inline-block; overflow: hidden; vertical-align: -0.059em; border-left: 0px solid; width: 0px; height: 1.003em;\"></span></span></nobr><span class=\"MJX_Assistive_MathML\" role=\"presentation\"><math xmlns=\"http://www.w3.org/1998/Math/MathML\"><mi>n</mi><mo>×</mo><mi>k</mi></math></span></span><script type=\"math/tex\" id=\"MathJax-Element-23\">n \\times k</script>-dimensional samples in the new subspace).</li>\n",
    "</ol>"
   ]
  },
  {
   "cell_type": "markdown",
   "metadata": {},
   "source": [
    "![](https://lh3.googleusercontent.com/-vm7n_r5cDbw/Xsup95eUa4I/AAAAAAAAoOc/MHPOUyq7h7gzDlGo5ky_IFqNhotpBBfYwCK8BGAsYHg/s0/2020-05-25.png)"
   ]
  },
  {
   "cell_type": "markdown",
   "metadata": {},
   "source": [
    "### Preparing Data"
   ]
  },
  {
   "cell_type": "code",
   "execution_count": 1,
   "metadata": {},
   "outputs": [],
   "source": [
    "feature_dict = {i:label for i,label in zip(\n",
    "                range(4),\n",
    "                  ('sepal length in cm',\n",
    "                  'sepal width in cm',\n",
    "                  'petal length in cm',\n",
    "                  'petal width in cm', ))}"
   ]
  },
  {
   "cell_type": "code",
   "execution_count": 34,
   "metadata": {},
   "outputs": [
    {
     "data": {
      "text/html": [
       "<div>\n",
       "<style scoped>\n",
       "    .dataframe tbody tr th:only-of-type {\n",
       "        vertical-align: middle;\n",
       "    }\n",
       "\n",
       "    .dataframe tbody tr th {\n",
       "        vertical-align: top;\n",
       "    }\n",
       "\n",
       "    .dataframe thead th {\n",
       "        text-align: right;\n",
       "    }\n",
       "</style>\n",
       "<table border=\"1\" class=\"dataframe\">\n",
       "  <thead>\n",
       "    <tr style=\"text-align: right;\">\n",
       "      <th></th>\n",
       "      <th>sepal length in cm</th>\n",
       "      <th>sepal width in cm</th>\n",
       "      <th>petal length in cm</th>\n",
       "      <th>petal width in cm</th>\n",
       "      <th>class label</th>\n",
       "    </tr>\n",
       "  </thead>\n",
       "  <tbody>\n",
       "    <tr>\n",
       "      <th>145</th>\n",
       "      <td>6.7</td>\n",
       "      <td>3.0</td>\n",
       "      <td>5.2</td>\n",
       "      <td>2.3</td>\n",
       "      <td>Iris-virginica</td>\n",
       "    </tr>\n",
       "    <tr>\n",
       "      <th>146</th>\n",
       "      <td>6.3</td>\n",
       "      <td>2.5</td>\n",
       "      <td>5.0</td>\n",
       "      <td>1.9</td>\n",
       "      <td>Iris-virginica</td>\n",
       "    </tr>\n",
       "    <tr>\n",
       "      <th>147</th>\n",
       "      <td>6.5</td>\n",
       "      <td>3.0</td>\n",
       "      <td>5.2</td>\n",
       "      <td>2.0</td>\n",
       "      <td>Iris-virginica</td>\n",
       "    </tr>\n",
       "    <tr>\n",
       "      <th>148</th>\n",
       "      <td>6.2</td>\n",
       "      <td>3.4</td>\n",
       "      <td>5.4</td>\n",
       "      <td>2.3</td>\n",
       "      <td>Iris-virginica</td>\n",
       "    </tr>\n",
       "    <tr>\n",
       "      <th>149</th>\n",
       "      <td>5.9</td>\n",
       "      <td>3.0</td>\n",
       "      <td>5.1</td>\n",
       "      <td>1.8</td>\n",
       "      <td>Iris-virginica</td>\n",
       "    </tr>\n",
       "  </tbody>\n",
       "</table>\n",
       "</div>"
      ],
      "text/plain": [
       "     sepal length in cm  sepal width in cm  petal length in cm  \\\n",
       "145                 6.7                3.0                 5.2   \n",
       "146                 6.3                2.5                 5.0   \n",
       "147                 6.5                3.0                 5.2   \n",
       "148                 6.2                3.4                 5.4   \n",
       "149                 5.9                3.0                 5.1   \n",
       "\n",
       "     petal width in cm     class label  \n",
       "145                2.3  Iris-virginica  \n",
       "146                1.9  Iris-virginica  \n",
       "147                2.0  Iris-virginica  \n",
       "148                2.3  Iris-virginica  \n",
       "149                1.8  Iris-virginica  "
      ]
     },
     "execution_count": 34,
     "metadata": {},
     "output_type": "execute_result"
    }
   ],
   "source": [
    "import pandas as pd\n",
    "\n",
    "df = pd.io.parsers.read_csv(\n",
    "    filepath_or_buffer='https://archive.ics.uci.edu/ml/machine-learning-databases/iris/iris.data',\n",
    "    header=None,\n",
    "    sep=',',\n",
    "    )\n",
    "df.columns = [l for i,l in sorted(feature_dict.items())] + ['class label']\n",
    "df.dropna(how=\"all\", inplace=True) # to drop the empty line at file-end\n",
    "\n",
    "df.tail()"
   ]
  },
  {
   "cell_type": "markdown",
   "metadata": {},
   "source": [
    "Since it is more convenient to work with numerical values, we will use the LabelEncode from the scikit-learn library to convert the class labels into numbers: 1, 2, and 3."
   ]
  },
  {
   "cell_type": "code",
   "execution_count": 35,
   "metadata": {},
   "outputs": [],
   "source": [
    "from sklearn.preprocessing import LabelEncoder\n",
    "X = df.values\n",
    "y = df['class label'].values"
   ]
  },
  {
   "cell_type": "code",
   "execution_count": 78,
   "metadata": {},
   "outputs": [],
   "source": [
    "enc = LabelEncoder()\n",
    "label_encoder = enc.fit(y)\n",
    "y = label_encoder.transform(y) + 1\n",
    "\n",
    "label_dict = {1: 'Setosa', 2: 'Versicolor', 3:'Virginica'}"
   ]
  },
  {
   "cell_type": "markdown",
   "metadata": {},
   "source": [
    "![](https://lh3.googleusercontent.com/-ijAjrFHaPf0/Xsur84pTdXI/AAAAAAAAoOo/pWjX__KuqOg_yK0gfbfcSPhgXRdP1k96QCK8BGAsYHg/s0/2020-05-25.png)"
   ]
  },
  {
   "cell_type": "code",
   "execution_count": 37,
   "metadata": {},
   "outputs": [
    {
     "data": {
      "text/plain": [
       "array([1, 1, 1, 1, 1, 1, 1, 1, 1, 1, 1, 1, 1, 1, 1, 1, 1, 1, 1, 1, 1, 1,\n",
       "       1, 1, 1, 1, 1, 1, 1, 1, 1, 1, 1, 1, 1, 1, 1, 1, 1, 1, 1, 1, 1, 1,\n",
       "       1, 1, 1, 1, 1, 1, 2, 2, 2, 2, 2, 2, 2, 2, 2, 2, 2, 2, 2, 2, 2, 2,\n",
       "       2, 2, 2, 2, 2, 2, 2, 2, 2, 2, 2, 2, 2, 2, 2, 2, 2, 2, 2, 2, 2, 2,\n",
       "       2, 2, 2, 2, 2, 2, 2, 2, 2, 2, 2, 2, 3, 3, 3, 3, 3, 3, 3, 3, 3, 3,\n",
       "       3, 3, 3, 3, 3, 3, 3, 3, 3, 3, 3, 3, 3, 3, 3, 3, 3, 3, 3, 3, 3, 3,\n",
       "       3, 3, 3, 3, 3, 3, 3, 3, 3, 3, 3, 3, 3, 3, 3, 3, 3, 3])"
      ]
     },
     "execution_count": 37,
     "metadata": {},
     "output_type": "execute_result"
    }
   ],
   "source": [
    "y"
   ]
  },
  {
   "cell_type": "code",
   "execution_count": 26,
   "metadata": {},
   "outputs": [],
   "source": [
    "df['Target']=y"
   ]
  },
  {
   "cell_type": "code",
   "execution_count": 27,
   "metadata": {},
   "outputs": [
    {
     "data": {
      "text/html": [
       "<div>\n",
       "<style scoped>\n",
       "    .dataframe tbody tr th:only-of-type {\n",
       "        vertical-align: middle;\n",
       "    }\n",
       "\n",
       "    .dataframe tbody tr th {\n",
       "        vertical-align: top;\n",
       "    }\n",
       "\n",
       "    .dataframe thead th {\n",
       "        text-align: right;\n",
       "    }\n",
       "</style>\n",
       "<table border=\"1\" class=\"dataframe\">\n",
       "  <thead>\n",
       "    <tr style=\"text-align: right;\">\n",
       "      <th></th>\n",
       "      <th>sepal length in cm</th>\n",
       "      <th>sepal width in cm</th>\n",
       "      <th>petal length in cm</th>\n",
       "      <th>petal width in cm</th>\n",
       "      <th>class label</th>\n",
       "      <th>Target</th>\n",
       "    </tr>\n",
       "  </thead>\n",
       "  <tbody>\n",
       "    <tr>\n",
       "      <th>0</th>\n",
       "      <td>5.1</td>\n",
       "      <td>3.5</td>\n",
       "      <td>1.4</td>\n",
       "      <td>0.2</td>\n",
       "      <td>Iris-setosa</td>\n",
       "      <td>1</td>\n",
       "    </tr>\n",
       "    <tr>\n",
       "      <th>1</th>\n",
       "      <td>4.9</td>\n",
       "      <td>3.0</td>\n",
       "      <td>1.4</td>\n",
       "      <td>0.2</td>\n",
       "      <td>Iris-setosa</td>\n",
       "      <td>1</td>\n",
       "    </tr>\n",
       "    <tr>\n",
       "      <th>2</th>\n",
       "      <td>4.7</td>\n",
       "      <td>3.2</td>\n",
       "      <td>1.3</td>\n",
       "      <td>0.2</td>\n",
       "      <td>Iris-setosa</td>\n",
       "      <td>1</td>\n",
       "    </tr>\n",
       "    <tr>\n",
       "      <th>3</th>\n",
       "      <td>4.6</td>\n",
       "      <td>3.1</td>\n",
       "      <td>1.5</td>\n",
       "      <td>0.2</td>\n",
       "      <td>Iris-setosa</td>\n",
       "      <td>1</td>\n",
       "    </tr>\n",
       "    <tr>\n",
       "      <th>4</th>\n",
       "      <td>5.0</td>\n",
       "      <td>3.6</td>\n",
       "      <td>1.4</td>\n",
       "      <td>0.2</td>\n",
       "      <td>Iris-setosa</td>\n",
       "      <td>1</td>\n",
       "    </tr>\n",
       "  </tbody>\n",
       "</table>\n",
       "</div>"
      ],
      "text/plain": [
       "   sepal length in cm  sepal width in cm  petal length in cm  \\\n",
       "0                 5.1                3.5                 1.4   \n",
       "1                 4.9                3.0                 1.4   \n",
       "2                 4.7                3.2                 1.3   \n",
       "3                 4.6                3.1                 1.5   \n",
       "4                 5.0                3.6                 1.4   \n",
       "\n",
       "   petal width in cm  class label  Target  \n",
       "0                0.2  Iris-setosa       1  \n",
       "1                0.2  Iris-setosa       1  \n",
       "2                0.2  Iris-setosa       1  \n",
       "3                0.2  Iris-setosa       1  \n",
       "4                0.2  Iris-setosa       1  "
      ]
     },
     "execution_count": 27,
     "metadata": {},
     "output_type": "execute_result"
    }
   ],
   "source": [
    "df.head()"
   ]
  },
  {
   "cell_type": "code",
   "execution_count": 51,
   "metadata": {},
   "outputs": [
    {
     "data": {
      "text/html": [
       "<div>\n",
       "<style scoped>\n",
       "    .dataframe tbody tr th:only-of-type {\n",
       "        vertical-align: middle;\n",
       "    }\n",
       "\n",
       "    .dataframe tbody tr th {\n",
       "        vertical-align: top;\n",
       "    }\n",
       "\n",
       "    .dataframe thead th {\n",
       "        text-align: right;\n",
       "    }\n",
       "</style>\n",
       "<table border=\"1\" class=\"dataframe\">\n",
       "  <thead>\n",
       "    <tr style=\"text-align: right;\">\n",
       "      <th></th>\n",
       "      <th>sepal length in cm</th>\n",
       "      <th>sepal width in cm</th>\n",
       "      <th>petal length in cm</th>\n",
       "      <th>petal width in cm</th>\n",
       "      <th>class label</th>\n",
       "    </tr>\n",
       "  </thead>\n",
       "  <tbody>\n",
       "    <tr>\n",
       "      <th>145</th>\n",
       "      <td>6.7</td>\n",
       "      <td>3.0</td>\n",
       "      <td>5.2</td>\n",
       "      <td>2.3</td>\n",
       "      <td>Iris-virginica</td>\n",
       "    </tr>\n",
       "    <tr>\n",
       "      <th>146</th>\n",
       "      <td>6.3</td>\n",
       "      <td>2.5</td>\n",
       "      <td>5.0</td>\n",
       "      <td>1.9</td>\n",
       "      <td>Iris-virginica</td>\n",
       "    </tr>\n",
       "    <tr>\n",
       "      <th>147</th>\n",
       "      <td>6.5</td>\n",
       "      <td>3.0</td>\n",
       "      <td>5.2</td>\n",
       "      <td>2.0</td>\n",
       "      <td>Iris-virginica</td>\n",
       "    </tr>\n",
       "    <tr>\n",
       "      <th>148</th>\n",
       "      <td>6.2</td>\n",
       "      <td>3.4</td>\n",
       "      <td>5.4</td>\n",
       "      <td>2.3</td>\n",
       "      <td>Iris-virginica</td>\n",
       "    </tr>\n",
       "    <tr>\n",
       "      <th>149</th>\n",
       "      <td>5.9</td>\n",
       "      <td>3.0</td>\n",
       "      <td>5.1</td>\n",
       "      <td>1.8</td>\n",
       "      <td>Iris-virginica</td>\n",
       "    </tr>\n",
       "  </tbody>\n",
       "</table>\n",
       "</div>"
      ],
      "text/plain": [
       "     sepal length in cm  sepal width in cm  petal length in cm  \\\n",
       "145                 6.7                3.0                 5.2   \n",
       "146                 6.3                2.5                 5.0   \n",
       "147                 6.5                3.0                 5.2   \n",
       "148                 6.2                3.4                 5.4   \n",
       "149                 5.9                3.0                 5.1   \n",
       "\n",
       "     petal width in cm     class label  \n",
       "145                2.3  Iris-virginica  \n",
       "146                1.9  Iris-virginica  \n",
       "147                2.0  Iris-virginica  \n",
       "148                2.3  Iris-virginica  \n",
       "149                1.8  Iris-virginica  "
      ]
     },
     "execution_count": 51,
     "metadata": {},
     "output_type": "execute_result"
    }
   ],
   "source": [
    "df.tail()"
   ]
  },
  {
   "cell_type": "code",
   "execution_count": 52,
   "metadata": {},
   "outputs": [
    {
     "data": {
      "text/plain": [
       "sepal length in cm    0\n",
       "sepal width in cm     0\n",
       "petal length in cm    0\n",
       "petal width in cm     0\n",
       "class label           0\n",
       "dtype: int64"
      ]
     },
     "execution_count": 52,
     "metadata": {},
     "output_type": "execute_result"
    }
   ],
   "source": [
    "df.isna().sum()"
   ]
  },
  {
   "cell_type": "code",
   "execution_count": 66,
   "metadata": {},
   "outputs": [
    {
     "name": "stdout",
     "output_type": "stream",
     "text": [
      "<class 'pandas.core.frame.DataFrame'>\n",
      "Int64Index: 150 entries, 0 to 149\n",
      "Data columns (total 5 columns):\n",
      " #   Column              Non-Null Count  Dtype  \n",
      "---  ------              --------------  -----  \n",
      " 0   sepal length in cm  150 non-null    float64\n",
      " 1   sepal width in cm   150 non-null    float64\n",
      " 2   petal length in cm  150 non-null    float64\n",
      " 3   petal width in cm   150 non-null    float64\n",
      " 4   class label         150 non-null    object \n",
      "dtypes: float64(4), object(1)\n",
      "memory usage: 7.0+ KB\n"
     ]
    }
   ],
   "source": [
    "df.info()"
   ]
  },
  {
   "cell_type": "code",
   "execution_count": 67,
   "metadata": {},
   "outputs": [],
   "source": [
    "### pca \n",
    "from sklearn.decomposition import PCA as sklearnPCA"
   ]
  },
  {
   "cell_type": "code",
   "execution_count": 76,
   "metadata": {
    "collapsed": true,
    "jupyter": {
     "outputs_hidden": true
    }
   },
   "outputs": [
    {
     "data": {
      "text/html": [
       "<div>\n",
       "<style scoped>\n",
       "    .dataframe tbody tr th:only-of-type {\n",
       "        vertical-align: middle;\n",
       "    }\n",
       "\n",
       "    .dataframe tbody tr th {\n",
       "        vertical-align: top;\n",
       "    }\n",
       "\n",
       "    .dataframe thead th {\n",
       "        text-align: right;\n",
       "    }\n",
       "</style>\n",
       "<table border=\"1\" class=\"dataframe\">\n",
       "  <thead>\n",
       "    <tr style=\"text-align: right;\">\n",
       "      <th></th>\n",
       "      <th>sepal length in cm</th>\n",
       "      <th>sepal width in cm</th>\n",
       "      <th>petal length in cm</th>\n",
       "      <th>petal width in cm</th>\n",
       "    </tr>\n",
       "  </thead>\n",
       "  <tbody>\n",
       "    <tr>\n",
       "      <th>0</th>\n",
       "      <td>5.1</td>\n",
       "      <td>3.5</td>\n",
       "      <td>1.4</td>\n",
       "      <td>0.2</td>\n",
       "    </tr>\n",
       "    <tr>\n",
       "      <th>1</th>\n",
       "      <td>4.9</td>\n",
       "      <td>3.0</td>\n",
       "      <td>1.4</td>\n",
       "      <td>0.2</td>\n",
       "    </tr>\n",
       "    <tr>\n",
       "      <th>2</th>\n",
       "      <td>4.7</td>\n",
       "      <td>3.2</td>\n",
       "      <td>1.3</td>\n",
       "      <td>0.2</td>\n",
       "    </tr>\n",
       "    <tr>\n",
       "      <th>3</th>\n",
       "      <td>4.6</td>\n",
       "      <td>3.1</td>\n",
       "      <td>1.5</td>\n",
       "      <td>0.2</td>\n",
       "    </tr>\n",
       "    <tr>\n",
       "      <th>4</th>\n",
       "      <td>5.0</td>\n",
       "      <td>3.6</td>\n",
       "      <td>1.4</td>\n",
       "      <td>0.2</td>\n",
       "    </tr>\n",
       "  </tbody>\n",
       "</table>\n",
       "</div>"
      ],
      "text/plain": [
       "   sepal length in cm  sepal width in cm  petal length in cm  \\\n",
       "0                 5.1                3.5                 1.4   \n",
       "1                 4.9                3.0                 1.4   \n",
       "2                 4.7                3.2                 1.3   \n",
       "3                 4.6                3.1                 1.5   \n",
       "4                 5.0                3.6                 1.4   \n",
       "\n",
       "   petal width in cm  \n",
       "0                0.2  \n",
       "1                0.2  \n",
       "2                0.2  \n",
       "3                0.2  \n",
       "4                0.2  "
      ]
     },
     "execution_count": 76,
     "metadata": {},
     "output_type": "execute_result"
    }
   ],
   "source": [
    "Features = df.drop(['class label'],axis=1)\n",
    "Features.head()"
   ]
  },
  {
   "cell_type": "code",
   "execution_count": 72,
   "metadata": {
    "collapsed": true,
    "jupyter": {
     "outputs_hidden": true
    }
   },
   "outputs": [
    {
     "data": {
      "text/plain": [
       "array([[-2.6842,  0.3266],\n",
       "       [-2.7154, -0.1696],\n",
       "       [-2.8898, -0.1373],\n",
       "       [-2.7464, -0.3111],\n",
       "       [-2.7286,  0.3339],\n",
       "       [-2.2799,  0.7478],\n",
       "       [-2.8209, -0.0821],\n",
       "       [-2.6265,  0.1704],\n",
       "       [-2.888 , -0.5708],\n",
       "       [-2.6738, -0.1067],\n",
       "       [-2.5065,  0.6519],\n",
       "       [-2.6131,  0.0215],\n",
       "       [-2.7874, -0.2277],\n",
       "       [-3.2252, -0.5033],\n",
       "       [-2.6435,  1.1862],\n",
       "       [-2.3839,  1.3448],\n",
       "       [-2.6225,  0.8181],\n",
       "       [-2.6483,  0.3191],\n",
       "       [-2.1991,  0.8792],\n",
       "       [-2.5873,  0.5205],\n",
       "       [-2.3105,  0.3979],\n",
       "       [-2.5432,  0.44  ],\n",
       "       [-3.2159,  0.1416],\n",
       "       [-2.3031,  0.1055],\n",
       "       [-2.3562, -0.0312],\n",
       "       [-2.5079, -0.1391],\n",
       "       [-2.4691,  0.1379],\n",
       "       [-2.5624,  0.3747],\n",
       "       [-2.6398,  0.3193],\n",
       "       [-2.6328, -0.1901],\n",
       "       [-2.5885, -0.1974],\n",
       "       [-2.4101,  0.4181],\n",
       "       [-2.6476,  0.82  ],\n",
       "       [-2.5972,  1.1   ],\n",
       "       [-2.6738, -0.1067],\n",
       "       [-2.867 ,  0.0772],\n",
       "       [-2.6252,  0.6068],\n",
       "       [-2.6738, -0.1067],\n",
       "       [-2.9818, -0.4803],\n",
       "       [-2.5903,  0.2361],\n",
       "       [-2.7701,  0.2711],\n",
       "       [-2.8522, -0.9329],\n",
       "       [-2.9983, -0.3343],\n",
       "       [-2.4055,  0.1959],\n",
       "       [-2.2088,  0.4427],\n",
       "       [-2.7157, -0.2427],\n",
       "       [-2.5376,  0.5104],\n",
       "       [-2.8403, -0.2206],\n",
       "       [-2.5427,  0.5863],\n",
       "       [-2.7039,  0.115 ],\n",
       "       [ 1.2848,  0.6854],\n",
       "       [ 0.9324,  0.3192],\n",
       "       [ 1.4641,  0.5042],\n",
       "       [ 0.181 , -0.8256],\n",
       "       [ 1.0871,  0.0754],\n",
       "       [ 0.6404, -0.4173],\n",
       "       [ 1.0952,  0.2839],\n",
       "       [-0.7515, -1.0011],\n",
       "       [ 1.0433,  0.229 ],\n",
       "       [-0.0102, -0.7206],\n",
       "       [-0.5111, -1.2625],\n",
       "       [ 0.5111, -0.1023],\n",
       "       [ 0.2623, -0.5479],\n",
       "       [ 0.984 , -0.1244],\n",
       "       [-0.1749, -0.2518],\n",
       "       [ 0.9276,  0.4682],\n",
       "       [ 0.6596, -0.352 ],\n",
       "       [ 0.2345, -0.3319],\n",
       "       [ 0.9424, -0.5418],\n",
       "       [ 0.0432, -0.5815],\n",
       "       [ 1.1162, -0.0842],\n",
       "       [ 0.3568, -0.0668],\n",
       "       [ 1.2965, -0.3276],\n",
       "       [ 0.9205, -0.1824],\n",
       "       [ 0.714 ,  0.1504],\n",
       "       [ 0.8996,  0.3296],\n",
       "       [ 1.331 ,  0.2447],\n",
       "       [ 1.5574,  0.2674],\n",
       "       [ 0.8125, -0.1623],\n",
       "       [-0.3073, -0.3651],\n",
       "       [-0.0703, -0.7025],\n",
       "       [-0.1919, -0.6775],\n",
       "       [ 0.135 , -0.3117],\n",
       "       [ 1.3787, -0.4212],\n",
       "       [ 0.5873, -0.4833],\n",
       "       [ 0.8072,  0.1951],\n",
       "       [ 1.2204,  0.408 ],\n",
       "       [ 0.8129, -0.3707],\n",
       "       [ 0.2452, -0.2667],\n",
       "       [ 0.1645, -0.6797],\n",
       "       [ 0.463 , -0.6695],\n",
       "       [ 0.8902, -0.0338],\n",
       "       [ 0.2289, -0.4023],\n",
       "       [-0.7071, -1.0084],\n",
       "       [ 0.3555, -0.5032],\n",
       "       [ 0.3311, -0.2112],\n",
       "       [ 0.3752, -0.2916],\n",
       "       [ 0.6417,  0.0191],\n",
       "       [-0.9085, -0.7516],\n",
       "       [ 0.2978, -0.347 ],\n",
       "       [ 2.5317, -0.0118],\n",
       "       [ 1.4141, -0.5749],\n",
       "       [ 2.6165,  0.3419],\n",
       "       [ 1.9708, -0.1811],\n",
       "       [ 2.3498, -0.0419],\n",
       "       [ 3.3969,  0.5472],\n",
       "       [ 0.5194, -1.1914],\n",
       "       [ 2.932 ,  0.3524],\n",
       "       [ 2.3197, -0.2455],\n",
       "       [ 2.9181,  0.7804],\n",
       "       [ 1.6619,  0.242 ],\n",
       "       [ 1.8023, -0.2162],\n",
       "       [ 2.1654,  0.2153],\n",
       "       [ 1.3446, -0.7764],\n",
       "       [ 1.5853, -0.5393],\n",
       "       [ 1.9047,  0.1188],\n",
       "       [ 1.9492,  0.0407],\n",
       "       [ 3.4888,  1.1715],\n",
       "       [ 3.7947,  0.2533],\n",
       "       [ 1.2983, -0.761 ],\n",
       "       [ 2.4282,  0.3768],\n",
       "       [ 1.1981, -0.6056],\n",
       "       [ 3.4993,  0.4568],\n",
       "       [ 1.3877, -0.204 ],\n",
       "       [ 2.2759,  0.3334],\n",
       "       [ 2.6142,  0.5584],\n",
       "       [ 1.2576, -0.1791],\n",
       "       [ 1.2907, -0.1164],\n",
       "       [ 2.1229, -0.2109],\n",
       "       [ 2.3876,  0.4625],\n",
       "       [ 2.841 ,  0.3727],\n",
       "       [ 3.2323,  1.3705],\n",
       "       [ 2.1587, -0.2183],\n",
       "       [ 1.4431, -0.1438],\n",
       "       [ 1.7796, -0.5015],\n",
       "       [ 3.0765,  0.6858],\n",
       "       [ 2.145 ,  0.1389],\n",
       "       [ 1.9049,  0.048 ],\n",
       "       [ 1.1689, -0.1645],\n",
       "       [ 2.1077,  0.3715],\n",
       "       [ 2.3143,  0.1826],\n",
       "       [ 1.9225,  0.4093],\n",
       "       [ 1.4141, -0.5749],\n",
       "       [ 2.5633,  0.276 ],\n",
       "       [ 2.4194,  0.3035],\n",
       "       [ 1.944 ,  0.1874],\n",
       "       [ 1.5257, -0.375 ],\n",
       "       [ 1.764 ,  0.0785],\n",
       "       [ 1.9016,  0.1159],\n",
       "       [ 1.3897, -0.2829]])"
      ]
     },
     "execution_count": 72,
     "metadata": {},
     "output_type": "execute_result"
    }
   ],
   "source": [
    "sklearn_pca = sklearnPCA(n_components=2)\n",
    "X_pca = sklearn_pca.fit_transform(Features)\n",
    "X_pca"
   ]
  },
  {
   "cell_type": "code",
   "execution_count": 75,
   "metadata": {},
   "outputs": [
    {
     "data": {
      "text/plain": [
       "array([[ 0.3616, -0.0823,  0.8566,  0.3588],\n",
       "       [ 0.6565,  0.7297, -0.1758, -0.0747]])"
      ]
     },
     "execution_count": 75,
     "metadata": {},
     "output_type": "execute_result"
    }
   ],
   "source": [
    "sklearn_pca.components_"
   ]
  },
  {
   "cell_type": "code",
   "execution_count": 85,
   "metadata": {},
   "outputs": [
    {
     "data": {
      "text/plain": [
       "array([0, 0, 0, 0, 0, 0, 0, 0, 0, 0, 0, 0, 0, 0, 0, 0, 0, 0, 0, 0, 0, 0,\n",
       "       0, 0, 0, 0, 0, 0, 0, 0, 0, 0, 0, 0, 0, 0, 0, 0, 0, 0, 0, 0, 0, 0,\n",
       "       0, 0, 0, 0, 0, 0, 1, 1, 1, 1, 1, 1, 1, 1, 1, 1, 1, 1, 1, 1, 1, 1,\n",
       "       1, 1, 1, 1, 1, 1, 1, 1, 1, 1, 1, 1, 1, 1, 1, 1, 1, 1, 1, 1, 1, 1,\n",
       "       1, 1, 1, 1, 1, 1, 1, 1, 1, 1, 1, 1, 2, 2, 2, 2, 2, 2, 2, 2, 2, 2,\n",
       "       2, 2, 2, 2, 2, 2, 2, 2, 2, 2, 2, 2, 2, 2, 2, 2, 2, 2, 2, 2, 2, 2,\n",
       "       2, 2, 2, 2, 2, 2, 2, 2, 2, 2, 2, 2, 2, 2, 2, 2, 2, 2])"
      ]
     },
     "execution_count": 85,
     "metadata": {},
     "output_type": "execute_result"
    }
   ],
   "source": [
    "le = LabelEncoder().fit_transform(df['class label'])\n",
    "le"
   ]
  },
  {
   "cell_type": "code",
   "execution_count": 88,
   "metadata": {},
   "outputs": [],
   "source": [
    "from sklearn.discriminant_analysis import LinearDiscriminantAnalysis as LDA\n",
    "\n",
    "# LDA\n",
    "sklearn_lda = LDA(n_components=2)\n",
    "X_lda_sklearn = sklearn_lda.fit_transform(Features, le)"
   ]
  },
  {
   "cell_type": "code",
   "execution_count": 89,
   "metadata": {
    "collapsed": true,
    "jupyter": {
     "outputs_hidden": true
    }
   },
   "outputs": [
    {
     "data": {
      "text/plain": [
       "array([[ 8.085 ,  0.3285],\n",
       "       [ 7.1472, -0.7555],\n",
       "       [ 7.5114, -0.2381],\n",
       "       [ 6.8377, -0.6429],\n",
       "       [ 8.1578,  0.5406],\n",
       "       [ 7.7236,  1.4823],\n",
       "       [ 7.2351,  0.3772],\n",
       "       [ 7.6297,  0.0167],\n",
       "       [ 6.5827, -0.9874],\n",
       "       [ 7.3688, -0.9136],\n",
       "       [ 8.4218,  0.6762],\n",
       "       [ 7.2474, -0.0829],\n",
       "       [ 7.3506, -1.0394],\n",
       "       [ 7.5965, -0.7767],\n",
       "       [ 9.8694,  1.6149],\n",
       "       [ 9.1803,  2.7556],\n",
       "       [ 8.5976,  1.8544],\n",
       "       [ 7.7996,  0.6091],\n",
       "       [ 8.1   ,  0.9961],\n",
       "       [ 8.0454,  1.1624],\n",
       "       [ 7.5205, -0.1562],\n",
       "       [ 7.6053,  1.2276],\n",
       "       [ 8.7041,  0.8996],\n",
       "       [ 6.2637,  0.4602],\n",
       "       [ 6.5919, -0.362 ],\n",
       "       [ 6.7921, -0.9382],\n",
       "       [ 6.8405,  0.4848],\n",
       "       [ 7.9484,  0.2387],\n",
       "       [ 8.0121,  0.1163],\n",
       "       [ 6.8559, -0.5172],\n",
       "       [ 6.783 , -0.7293],\n",
       "       [ 7.3867,  0.591 ],\n",
       "       [ 9.1625,  1.2509],\n",
       "       [ 9.4962,  1.8499],\n",
       "       [ 7.3688, -0.9136],\n",
       "       [ 7.9757, -0.1352],\n",
       "       [ 8.6312,  0.4346],\n",
       "       [ 7.3688, -0.9136],\n",
       "       [ 6.956 , -0.6789],\n",
       "       [ 7.7117,  0.02  ],\n",
       "       [ 7.9361,  0.6988],\n",
       "       [ 5.6691, -1.9033],\n",
       "       [ 7.2656, -0.2479],\n",
       "       [ 6.4245,  1.2615],\n",
       "       [ 6.8861,  1.0709],\n",
       "       [ 6.7799, -0.4782],\n",
       "       [ 8.1123,  0.7888],\n",
       "       [ 7.211 , -0.3344],\n",
       "       [ 8.3399,  0.6729],\n",
       "       [ 7.6935, -0.1058],\n",
       "       [-1.4577,  0.0419],\n",
       "       [-1.7977,  0.4888],\n",
       "       [-2.4168, -0.0823],\n",
       "       [-2.2649, -1.5761],\n",
       "       [-2.5534, -0.4628],\n",
       "       [-2.4195, -0.9573],\n",
       "       [-2.4472,  0.7955],\n",
       "       [-0.216 , -1.571 ],\n",
       "       [-1.7459, -0.8053],\n",
       "       [-1.9584, -0.3504],\n",
       "       [-1.1902, -2.6156],\n",
       "       [-1.8614,  0.3205],\n",
       "       [-1.1539, -2.6169],\n",
       "       [-2.6594, -0.6341],\n",
       "       [-0.3802,  0.0921],\n",
       "       [-1.2028,  0.0956],\n",
       "       [-2.7627,  0.0316],\n",
       "       [-0.7623, -1.6392],\n",
       "       [-3.5094, -1.6725],\n",
       "       [-1.0841, -1.61  ],\n",
       "       [-3.719 ,  1.0351],\n",
       "       [-0.9994, -0.479 ],\n",
       "       [-3.8371, -1.3949],\n",
       "       [-2.2434, -1.4108],\n",
       "       [-1.2543, -0.5328],\n",
       "       [-1.4395, -0.1231],\n",
       "       [-2.4592, -0.9196],\n",
       "       [-3.5247,  0.1638],\n",
       "       [-2.5897, -0.1708],\n",
       "       [ 0.312 , -1.2998],\n",
       "       [-1.1023, -1.7358],\n",
       "       [-0.5984, -1.9233],\n",
       "       [-0.8961, -0.8919],\n",
       "       [-4.4957, -0.8792],\n",
       "       [-2.9265,  0.025 ],\n",
       "       [-2.1012,  1.1872],\n",
       "       [-2.1437,  0.0971],\n",
       "       [-2.4834, -1.9219],\n",
       "       [-1.3179, -0.1575],\n",
       "       [-1.9553, -1.1451],\n",
       "       [-2.3891, -1.5824],\n",
       "       [-2.2861, -0.3256],\n",
       "       [-1.2693, -1.2004],\n",
       "       [-0.2889, -1.7832],\n",
       "       [-2.0008, -0.897 ],\n",
       "       [-1.1691, -0.5279],\n",
       "       [-1.6093, -0.4627],\n",
       "       [-1.4181, -0.5393],\n",
       "       [ 0.4727, -0.7892],\n",
       "       [-1.5456, -0.5852],\n",
       "       [-7.8561,  2.1116],\n",
       "       [-5.5157, -0.044 ],\n",
       "       [-6.305 ,  0.4621],\n",
       "       [-5.6036, -0.3424],\n",
       "       [-6.8634,  0.816 ],\n",
       "       [-7.4248, -0.1726],\n",
       "       [-4.6809, -0.5076],\n",
       "       [-6.3137, -0.9607],\n",
       "       [-6.332 , -1.3772],\n",
       "       [-6.8729,  2.6946],\n",
       "       [-4.4536,  1.3369],\n",
       "       [-5.4611, -0.2104],\n",
       "       [-5.6768,  0.8244],\n",
       "       [-5.9741, -0.1046],\n",
       "       [-6.7878,  1.5745],\n",
       "       [-5.8287,  1.9894],\n",
       "       [-5.0664, -0.0273],\n",
       "       [-6.6085,  1.742 ],\n",
       "       [-9.1883, -0.7491],\n",
       "       [-4.7657, -2.1442],\n",
       "       [-6.2931,  1.6337],\n",
       "       [-5.3731,  0.6315],\n",
       "       [-7.5856, -0.9739],\n",
       "       [-4.3837, -0.1221],\n",
       "       [-5.7314,  1.2814],\n",
       "       [-5.2758, -0.0385],\n",
       "       [-4.0923,  0.1831],\n",
       "       [-4.0832,  0.5177],\n",
       "       [-6.5326,  0.2872],\n",
       "       [-4.5776, -0.8446],\n",
       "       [-6.235 , -0.7062],\n",
       "       [-5.2184,  1.4664],\n",
       "       [-6.818 ,  0.5678],\n",
       "       [-3.8097, -0.9345],\n",
       "       [-5.0902, -2.1178],\n",
       "       [-6.8212,  0.857 ],\n",
       "       [-6.5419,  2.4186],\n",
       "       [-4.9936,  0.1849],\n",
       "       [-3.9466,  0.6074],\n",
       "       [-5.2216,  1.1361],\n",
       "       [-6.6786,  1.7853],\n",
       "       [-5.1369,  1.9764],\n",
       "       [-5.5157, -0.044 ],\n",
       "       [-6.812 ,  1.4444],\n",
       "       [-6.8729,  2.4038],\n",
       "       [-5.674 ,  1.6613],\n",
       "       [-5.1971, -0.3655],\n",
       "       [-4.9817,  0.813 ],\n",
       "       [-5.9015,  2.3208],\n",
       "       [-4.684 ,  0.3251]])"
      ]
     },
     "execution_count": 89,
     "metadata": {},
     "output_type": "execute_result"
    }
   ],
   "source": [
    "X_lda_sklearn"
   ]
  },
  {
   "cell_type": "code",
   "execution_count": 91,
   "metadata": {},
   "outputs": [
    {
     "data": {
      "text/plain": [
       "array([[  6.2462,  12.2461, -16.8374, -21.1372],\n",
       "       [ -1.5167,  -4.3679,   4.6498,   3.1864],\n",
       "       [ -4.7295,  -7.8782,  12.1876,  17.9508]])"
      ]
     },
     "execution_count": 91,
     "metadata": {},
     "output_type": "execute_result"
    }
   ],
   "source": [
    "sklearn_lda.coef_"
   ]
  },
  {
   "cell_type": "code",
   "execution_count": 92,
   "metadata": {},
   "outputs": [
    {
     "data": {
      "text/plain": [
       "array([-15.3955,  -2.1116, -33.6365])"
      ]
     },
     "execution_count": 92,
     "metadata": {},
     "output_type": "execute_result"
    }
   ],
   "source": [
    "sklearn_lda.intercept_"
   ]
  },
  {
   "cell_type": "code",
   "execution_count": 95,
   "metadata": {},
   "outputs": [
    {
     "data": {
      "text/plain": [
       "4"
      ]
     },
     "execution_count": 95,
     "metadata": {},
     "output_type": "execute_result"
    }
   ],
   "source": [
    "sklearn_lda.n_features_in_"
   ]
  },
  {
   "cell_type": "markdown",
   "metadata": {},
   "source": [
    "####  Step 1: Computing the d-dimensional mean vectors"
   ]
  }
 ],
 "metadata": {
  "kernelspec": {
   "display_name": "Python 3",
   "language": "python",
   "name": "python3"
  },
  "language_info": {
   "codemirror_mode": {
    "name": "ipython",
    "version": 3
   },
   "file_extension": ".py",
   "mimetype": "text/x-python",
   "name": "python",
   "nbconvert_exporter": "python",
   "pygments_lexer": "ipython3",
   "version": "3.6.8"
  }
 },
 "nbformat": 4,
 "nbformat_minor": 4
}
